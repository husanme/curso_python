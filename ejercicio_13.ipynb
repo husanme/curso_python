{
 "cells": [
  {
   "cell_type": "markdown",
   "id": "5268fc2b-b85f-488f-8a06-fb14d14a0ec6",
   "metadata": {},
   "source": [
    "# Pregunta 23: Calcule (en Jupyter ) las siguientes operaciones\r\n"
   ]
  },
  {
   "cell_type": "code",
   "execution_count": 3,
   "id": "64568107-28d8-463f-b1a1-efd541d3bd5c",
   "metadata": {},
   "outputs": [
    {
     "data": {
      "text/plain": [
       "0"
      ]
     },
     "execution_count": 3,
     "metadata": {},
     "output_type": "execute_result"
    }
   ],
   "source": [
    "# (a)\n",
    "2 ** 6//8 % 2"
   ]
  },
  {
   "cell_type": "code",
   "execution_count": 4,
   "id": "2609318b-47e9-48af-b55f-ffe561a1ae9a",
   "metadata": {},
   "outputs": [
    {
     "data": {
      "text/plain": [
       "13"
      ]
     },
     "execution_count": 4,
     "metadata": {},
     "output_type": "execute_result"
    }
   ],
   "source": [
    "# (b)\n",
    "9 ** 2//5-3"
   ]
  },
  {
   "cell_type": "code",
   "execution_count": 5,
   "id": "6def39e6-7e24-4e1e-a042-a242f2943991",
   "metadata": {},
   "outputs": [
    {
     "data": {
      "text/plain": [
       "19"
      ]
     },
     "execution_count": 5,
     "metadata": {},
     "output_type": "execute_result"
    }
   ],
   "source": [
    "# (c)\n",
    "10 + 6-2%3+7-2"
   ]
  },
  {
   "cell_type": "code",
   "execution_count": 6,
   "id": "2ff641d0-788f-42d8-bc97-8b1dbc2f37c6",
   "metadata": {},
   "outputs": [
    {
     "data": {
      "text/plain": [
       "-15"
      ]
     },
     "execution_count": 6,
     "metadata": {},
     "output_type": "execute_result"
    }
   ],
   "source": [
    "#(d)\n",
    "5 % 10 + 10-23 * 4//3"
   ]
  },
  {
   "cell_type": "code",
   "execution_count": 7,
   "id": "ac7fa8e6-9111-49f4-a0cc-a0d35bf0bbfc",
   "metadata": {},
   "outputs": [
    {
     "data": {
      "text/plain": [
       "6"
      ]
     },
     "execution_count": 7,
     "metadata": {},
     "output_type": "execute_result"
    }
   ],
   "source": [
    "#(e)\n",
    "5+5//5-5*5**5%5"
   ]
  },
  {
   "cell_type": "code",
   "execution_count": 8,
   "id": "e07aeae2-fb29-4158-89ce-441f876c6067",
   "metadata": {},
   "outputs": [
    {
     "data": {
      "text/plain": [
       "-48"
      ]
     },
     "execution_count": 8,
     "metadata": {},
     "output_type": "execute_result"
    }
   ],
   "source": [
    "#(f)\n",
    "7 % 7+7//7-7*7"
   ]
  },
  {
   "cell_type": "markdown",
   "id": "4215e50f-8fc0-468e-9b4e-61e512934f40",
   "metadata": {},
   "source": [
    "# Pregunta 24: Evalúe las siguientes expresiones"
   ]
  },
  {
   "cell_type": "code",
   "execution_count": 10,
   "id": "57c652ee-ed93-4016-8aed-31f91d85eb2f",
   "metadata": {},
   "outputs": [
    {
     "data": {
      "text/plain": [
       "2"
      ]
     },
     "execution_count": 10,
     "metadata": {},
     "output_type": "execute_result"
    }
   ],
   "source": [
    "#(a) \n",
    "min(2,6,8,5)"
   ]
  },
  {
   "cell_type": "code",
   "execution_count": 11,
   "id": "f61413dd-d096-4588-b8e1-d7f0e5fc862f",
   "metadata": {},
   "outputs": [
    {
     "data": {
      "text/plain": [
       "'0b101110'"
      ]
     },
     "execution_count": 11,
     "metadata": {},
     "output_type": "execute_result"
    }
   ],
   "source": [
    "#(b)\n",
    "bin (46)"
   ]
  },
  {
   "cell_type": "code",
   "execution_count": 12,
   "id": "ce435fe0-f9a0-448f-b4fa-f0bb16583a57",
   "metadata": {},
   "outputs": [
    {
     "data": {
      "text/plain": [
       "10.54"
      ]
     },
     "execution_count": 12,
     "metadata": {},
     "output_type": "execute_result"
    }
   ],
   "source": [
    "#(c)\n",
    "round(10.544336,2)"
   ]
  },
  {
   "cell_type": "code",
   "execution_count": null,
   "id": "22717f75-064d-4644-bebd-a769da0d00c2",
   "metadata": {},
   "outputs": [],
   "source": []
  }
 ],
 "metadata": {
  "kernelspec": {
   "display_name": "Python 3 (ipykernel)",
   "language": "python",
   "name": "python3"
  },
  "language_info": {
   "codemirror_mode": {
    "name": "ipython",
    "version": 3
   },
   "file_extension": ".py",
   "mimetype": "text/x-python",
   "name": "python",
   "nbconvert_exporter": "python",
   "pygments_lexer": "ipython3",
   "version": "3.11.7"
  }
 },
 "nbformat": 4,
 "nbformat_minor": 5
}
