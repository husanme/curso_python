{
 "cells": [
  {
   "cell_type": "markdown",
   "id": "65ae4006",
   "metadata": {},
   "source": [
    "# Pregunta 22: ¿Cuál de los siguientes es un nombre de variable no válido y por qué?\n"
   ]
  },
  {
   "cell_type": "code",
   "execution_count": 2,
   "id": "44b600e1",
   "metadata": {},
   "outputs": [
    {
     "ename": "SyntaxError",
     "evalue": "unterminated string literal (detected at line 13) (3953132140.py, line 13)",
     "output_type": "error",
     "traceback": [
      "\u001b[1;36m  Cell \u001b[1;32mIn[2], line 13\u001b[1;36m\u001b[0m\n\u001b[1;33m    team'svictory\u001b[0m\n\u001b[1;37m        ^\u001b[0m\n\u001b[1;31mSyntaxError\u001b[0m\u001b[1;31m:\u001b[0m unterminated string literal (detected at line 13)\n"
     ]
    }
   ],
   "source": [
    "#Nombre de variable no válido: #MEAN\n",
    "\n",
    "Los nombres de variable en Python no pueden comenzar con un carácter especial como\n",
    "#. Los caracteres especiales se utilizan para funciones y operaciones \n",
    "específicas del lenguaje, y no pueden formar parte de los nombres de las variables.\n",
    "\n",
    "Nombres de variable válidos:\n",
    "\n",
    "basic_salary\n",
    "_basic\n",
    "basic-hra\n",
    "timemindovermatter\n",
    "team'svictory\n",
    "group\n",
    "plot_3_2015_dday"
   ]
  },
  {
   "cell_type": "markdown",
   "id": "5268fc2b-b85f-488f-8a06-fb14d14a0ec6",
   "metadata": {},
   "source": [
    "# Pregunta 23: Calcule (en Jupyter ) las siguientes operaciones\n"
   ]
  },
  {
   "cell_type": "code",
   "execution_count": null,
   "id": "64568107-28d8-463f-b1a1-efd541d3bd5c",
   "metadata": {},
   "outputs": [
    {
     "data": {
      "text/plain": [
       "0"
      ]
     },
     "execution_count": 2,
     "metadata": {},
     "output_type": "execute_result"
    }
   ],
   "source": [
    "# (a)\n",
    "2 ** 6//8 % 2"
   ]
  },
  {
   "cell_type": "code",
   "execution_count": null,
   "id": "2609318b-47e9-48af-b55f-ffe561a1ae9a",
   "metadata": {},
   "outputs": [
    {
     "data": {
      "text/plain": [
       "13"
      ]
     },
     "execution_count": 3,
     "metadata": {},
     "output_type": "execute_result"
    }
   ],
   "source": [
    "# (b)\n",
    "9 ** 2//5-3"
   ]
  },
  {
   "cell_type": "code",
   "execution_count": null,
   "id": "6def39e6-7e24-4e1e-a042-a242f2943991",
   "metadata": {},
   "outputs": [
    {
     "data": {
      "text/plain": [
       "19"
      ]
     },
     "execution_count": 4,
     "metadata": {},
     "output_type": "execute_result"
    }
   ],
   "source": [
    "# (c)\n",
    "10 + 6-2%3+7-2"
   ]
  },
  {
   "cell_type": "code",
   "execution_count": null,
   "id": "2ff641d0-788f-42d8-bc97-8b1dbc2f37c6",
   "metadata": {},
   "outputs": [
    {
     "data": {
      "text/plain": [
       "-15"
      ]
     },
     "execution_count": 5,
     "metadata": {},
     "output_type": "execute_result"
    }
   ],
   "source": [
    "#(d)\n",
    "5 % 10 + 10-23 * 4//3"
   ]
  },
  {
   "cell_type": "code",
   "execution_count": null,
   "id": "ac7fa8e6-9111-49f4-a0cc-a0d35bf0bbfc",
   "metadata": {},
   "outputs": [
    {
     "data": {
      "text/plain": [
       "6"
      ]
     },
     "execution_count": 6,
     "metadata": {},
     "output_type": "execute_result"
    }
   ],
   "source": [
    "#(e)\n",
    "5+5//5-5*5**5%5"
   ]
  },
  {
   "cell_type": "code",
   "execution_count": null,
   "id": "e07aeae2-fb29-4158-89ce-441f876c6067",
   "metadata": {},
   "outputs": [
    {
     "data": {
      "text/plain": [
       "-48"
      ]
     },
     "execution_count": 7,
     "metadata": {},
     "output_type": "execute_result"
    }
   ],
   "source": [
    "#(f)\n",
    "7 % 7+7//7-7*7"
   ]
  },
  {
   "cell_type": "markdown",
   "id": "4215e50f-8fc0-468e-9b4e-61e512934f40",
   "metadata": {},
   "source": [
    "# Pregunta 24: Evalúe las siguientes expresiones"
   ]
  },
  {
   "cell_type": "code",
   "execution_count": null,
   "id": "57c652ee-ed93-4016-8aed-31f91d85eb2f",
   "metadata": {},
   "outputs": [
    {
     "data": {
      "text/plain": [
       "2"
      ]
     },
     "execution_count": 8,
     "metadata": {},
     "output_type": "execute_result"
    }
   ],
   "source": [
    "#(a) \n",
    "min(2,6,8,5)"
   ]
  },
  {
   "cell_type": "code",
   "execution_count": null,
   "id": "f61413dd-d096-4588-b8e1-d7f0e5fc862f",
   "metadata": {},
   "outputs": [
    {
     "data": {
      "text/plain": [
       "'0b101110'"
      ]
     },
     "execution_count": 9,
     "metadata": {},
     "output_type": "execute_result"
    }
   ],
   "source": [
    "#(b)\n",
    "bin (46)"
   ]
  },
  {
   "cell_type": "code",
   "execution_count": null,
   "id": "ce435fe0-f9a0-448f-b4fa-f0bb16583a57",
   "metadata": {},
   "outputs": [
    {
     "data": {
      "text/plain": [
       "10.54"
      ]
     },
     "execution_count": 1,
     "metadata": {},
     "output_type": "execute_result"
    }
   ],
   "source": [
    "#(c)\n",
    "round(10.544336,2)"
   ]
  },
  {
   "cell_type": "markdown",
   "id": "e60c5b90",
   "metadata": {},
   "source": [
    "# Pregunta 25: Escriba un programa que intercambie los valores enteros de las \n",
    "variables a y b. No está permitido utilizar una tercera variable. No se le permite \n",
    "realizar operaciones aritméticas en a y b.\n",
    "\n",
    "\n",
    "\n",
    "\n",
    "\n"
   ]
  },
  {
   "cell_type": "code",
   "execution_count": 2,
   "id": "d9660a31",
   "metadata": {},
   "outputs": [
    {
     "name": "stdout",
     "output_type": "stream",
     "text": [
      "Valores de a y b después del intercambio: a = 20, b = 10\n"
     ]
    }
   ],
   "source": [
    "def swap(a, b):\n",
    "    a = a ^ b\n",
    "    b = a ^ b\n",
    "    a = a ^ b\n",
    "    return a, b\n",
    "\n",
    "a = 10\n",
    "b = 20\n",
    "\n",
    "a, b = swap(a, b)\n",
    "\n",
    "print(f\"Valores de a y b después del intercambio: a = {a}, b = {b}\")\n"
   ]
  },
  {
   "cell_type": "code",
   "execution_count": 4,
   "id": "84d68cdd",
   "metadata": {},
   "outputs": [
    {
     "name": "stdout",
     "output_type": "stream",
     "text": [
      "¡Hola que tal!\n",
      "¡Hola que tal!\n",
      "¡Hola que tal!\n",
      "¡Hola que tal!\n",
      "Máximo numero de saludos alcanzado\n"
     ]
    },
    {
     "ename": "NameError",
     "evalue": "name 'salud' is not defined",
     "output_type": "error",
     "traceback": [
      "\u001b[1;31m---------------------------------------------------------------------------\u001b[0m",
      "\u001b[1;31mNameError\u001b[0m                                 Traceback (most recent call last)",
      "Cell \u001b[1;32mIn[4], line 11\u001b[0m\n\u001b[0;32m      9\u001b[0m         \u001b[38;5;28mprint\u001b[39m(\u001b[38;5;124m'\u001b[39m\u001b[38;5;124mMáximo numero de saludos alcanzado\u001b[39m\u001b[38;5;124m'\u001b[39m)\n\u001b[0;32m     10\u001b[0m         \u001b[38;5;28;01mbreak\u001b[39;00m \n\u001b[1;32m---> 11\u001b[0m salud\n",
      "\u001b[1;31mNameError\u001b[0m: name 'salud' is not defined"
     ]
    }
   ],
   "source": [
    "MAX_SALUDOS = 4\n",
    "nro_saludos = 0\n",
    "saludo = 'S'\n",
    "\n",
    "while saludo == 'S':\n",
    "    print('¡Hola que tal!')\n",
    "    nro_saludos += 1\n",
    "    if nro_saludos == MAX_SALUDOS:\n",
    "        print('Máximo numero de saludos alcanzado')\n",
    "        break \n",
    "salud"
   ]
  },
  {
   "cell_type": "code",
   "execution_count": 5,
   "id": "71c8a397",
   "metadata": {},
   "outputs": [
    {
     "ename": "ValueError",
     "evalue": "invalid literal for int() with base 10: ''",
     "output_type": "error",
     "traceback": [
      "\u001b[1;31m---------------------------------------------------------------------------\u001b[0m",
      "\u001b[1;31mValueError\u001b[0m                                Traceback (most recent call last)",
      "Cell \u001b[1;32mIn[5], line 1\u001b[0m\n\u001b[1;32m----> 1\u001b[0m numero \u001b[38;5;241m=\u001b[39m \u001b[38;5;28mint\u001b[39m(\u001b[38;5;28minput\u001b[39m(\u001b[38;5;124m\"\u001b[39m\u001b[38;5;124mEscriba un número positivo: \u001b[39m\u001b[38;5;124m\"\u001b[39m))\n\u001b[0;32m      2\u001b[0m \u001b[38;5;28;01mwhile\u001b[39;00m numero \u001b[38;5;241m<\u001b[39m \u001b[38;5;241m0\u001b[39m:\n\u001b[0;32m      3\u001b[0m     \u001b[38;5;28mprint\u001b[39m(\u001b[38;5;124m\"\u001b[39m\u001b[38;5;124m¡Ha escrito un número negativo! Inténtelo de nuevo\u001b[39m\u001b[38;5;124m\"\u001b[39m)\n",
      "\u001b[1;31mValueError\u001b[0m: invalid literal for int() with base 10: ''"
     ]
    }
   ],
   "source": [
    "numero = int(input(\"Escriba un número positivo: \"))\n",
    "while numero < 0:\n",
    "    print(\"¡Ha escrito un número negativo! Inténtelo de nuevo\")\n",
    "    numero = int(input(\"Escriba un número positivo: \"))\n",
    "    print(\"Gracias por su colaboración\")"
   ]
  },
  {
   "cell_type": "code",
   "execution_count": 6,
   "id": "a3c4a05c",
   "metadata": {},
   "outputs": [
    {
     "name": "stdout",
     "output_type": "stream",
     "text": [
      "¡Hola que tal!\n",
      "¡Hola que tal!\n",
      "¡Hola que tal!\n",
      "¡Hola que tal!\n",
      "Máximo numero de saludos alcanzado\n",
      "¡ Que tenga un buen día!\n"
     ]
    }
   ],
   "source": [
    "MAX_SALUDOS = 4\n",
    "nro_saludos = 0\n",
    "saludo = 'S'\n",
    "\n",
    "while saludo == 'S':\n",
    "    print('¡Hola que tal!')\n",
    "    nro_saludos += 1\n",
    "    if nro_saludos == MAX_SALUDOS:\n",
    "        print('Máximo numero de saludos alcanzado')\n",
    "        break \n",
    "saludo = input ('¿Quiere otro saludo? [S/N]')\n",
    "print ('¡ Que tenga un buen día!')"
   ]
  }
 ],
 "metadata": {
  "kernelspec": {
   "display_name": "Python 3 (ipykernel)",
   "language": "python",
   "name": "python3"
  },
  "language_info": {
   "codemirror_mode": {
    "name": "ipython",
    "version": 3
   },
   "file_extension": ".py",
   "mimetype": "text/x-python",
   "name": "python",
   "nbconvert_exporter": "python",
   "pygments_lexer": "ipython3",
   "version": "3.11.9"
  }
 },
 "nbformat": 4,
 "nbformat_minor": 5
}
