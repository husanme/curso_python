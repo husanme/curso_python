{
 "cells": [
  {
   "cell_type": "markdown",
   "metadata": {},
   "source": [
    "# PRÁCTICA # 22 . HAY 9 EJERCICIOS PARA RESOLVER 5"
   ]
  },
  {
   "cell_type": "markdown",
   "metadata": {},
   "source": [
    "# 1. Cree un diccionario que contenga los nombres de los estudiantes y las calificaciones obtenidas por ellos en tres materias. Escriba un programa para reemplazar las calificaciones de tres materias con el total de tres materias y las calificaciones promedio. Informe también quién es el mejor de la clase."
   ]
  },
  {
   "cell_type": "code",
   "execution_count": 4,
   "metadata": {},
   "outputs": [
    {
     "name": "stdout",
     "output_type": "stream",
     "text": [
      "Diccionario actualizado con total y promedio:\n",
      "Alice: {'Math': 70, 'Science': 85, 'English': 90, 'total': 245, 'average': 81.66666666666667}\n",
      "Bob: {'Math': 65, 'Science': 70, 'English': 80, 'total': 215, 'average': 71.66666666666667}\n",
      "Charlie: {'Math': 80, 'Science': 92, 'English': 95, 'total': 267, 'average': 89.0}\n",
      "David: {'Math': 75, 'Science': 82, 'English': 87, 'total': 244, 'average': 81.33333333333333}\n",
      "\n",
      "El mejor de la clase es: Charlie\n"
     ]
    }
   ],
   "source": [
    "def calculate_total_and_average(student_data):\n",
    "  \"\"\"\n",
    "  Calcula el total y el promedio de las calificaciones para cada estudiante.\n",
    "\n",
    "  Args:\n",
    "    student_data (dict): Diccionario que contiene los nombres de los estudiantes y sus calificaciones.\n",
    "\n",
    "  Returns:\n",
    "    dict: Diccionario actualizado con el total y el promedio de las calificaciones.\n",
    "  \"\"\"\n",
    "  for student, marks in student_data.items():\n",
    "    total = sum(marks.values())\n",
    "    average = total / len(marks)\n",
    "    student_data[student][\"total\"] = total\n",
    "    student_data[student][\"average\"] = average\n",
    "\n",
    "  return student_data\n",
    "\n",
    "def find_topper(student_data):\n",
    "  \"\"\"\n",
    "  Encuentra al estudiante con la calificación promedio más alta.\n",
    "\n",
    "  Args:\n",
    "    student_data (dict): Diccionario que contiene los nombres de los estudiantes y sus calificaciones.\n",
    "\n",
    "  Returns:\n",
    "    str: Nombre del estudiante con la calificación promedio más alta.\n",
    "  \"\"\"\n",
    "  topper = max(student_data, key=lambda student: student_data[student][\"average\"])\n",
    "  return topper\n",
    "\n",
    "# Ejemplo de uso\n",
    "student_data = {\n",
    "  \"Alice\": {\"Math\": 70, \"Science\": 85, \"English\": 90},\n",
    "  \"Bob\": {\"Math\": 65, \"Science\": 70, \"English\": 80},\n",
    "  \"Charlie\": {\"Math\": 80, \"Science\": 92, \"English\": 95},\n",
    "  \"David\": {\"Math\": 75, \"Science\": 82, \"English\": 87},\n",
    "}\n",
    "\n",
    "# Calcular el total y el promedio de las calificaciones\n",
    "updated_data = calculate_total_and_average(student_data.copy())\n",
    "\n",
    "# Imprimir el diccionario actualizado con total y promedio\n",
    "print(\"Diccionario actualizado con total y promedio:\")\n",
    "for student, data in updated_data.items():\n",
    "  print(f\"{student}: {data}\")\n",
    "\n",
    "# Encontrar al mejor de la clase\n",
    "topper = find_topper(updated_data)\n",
    "print(f\"\\nEl mejor de la clase es: {topper}\")\n"
   ]
  },
  {
   "cell_type": "markdown",
   "metadata": {},
   "source": [
    "# 3. Crear un diccionario de 10 nombres de usuario y contraseñas. El programa recibe el nombre de usuario y la contraseña por el teclado y luego los busca en el diccionario. Imprima el mensaje apropiado en la pantalla en función de si se encuentra una coincidencia o no."
   ]
  },
  {
   "cell_type": "code",
   "execution_count": 5,
   "metadata": {},
   "outputs": [
    {
     "name": "stdout",
     "output_type": "stream",
     "text": [
      "Usuario o contraseña incorrectos. Inténtalo de nuevo.\n"
     ]
    }
   ],
   "source": [
    "def check_login(credentials, username, password):\n",
    "  \"\"\"\n",
    "  Verifica si el usuario y la contraseña proporcionados coinciden con las credenciales almacenadas.\n",
    "\n",
    "  Args:\n",
    "    credentials (dict): Diccionario que contiene nombres de usuario y contraseñas.\n",
    "    username (str): Nombre de usuario ingresado por el usuario.\n",
    "    password (str): Contraseña ingresada por el usuario.\n",
    "\n",
    "  Returns:\n",
    "    str: Mensaje de éxito o error según la coincidencia.\n",
    "  \"\"\"\n",
    "  if username in credentials and credentials[username] == password:\n",
    "    return \"Inicio de sesión exitoso!\"\n",
    "  else:\n",
    "    return \"Usuario o contraseña incorrectos. Inténtalo de nuevo.\"\n",
    "\n",
    "# Ejemplo de uso\n",
    "credentials = {\n",
    "  \"alice\": \"password123\",\n",
    "  \"bob\": \"password456\",\n",
    "  \"charlie\": \"password789\",\n",
    "}\n",
    "\n",
    "username = input(\"Ingrese su nombre de usuario: \")\n",
    "password = input(\"Ingrese su contraseña: \")\n",
    "\n",
    "login_message = check_login(credentials.copy(), username, password)\n",
    "print(login_message)\n"
   ]
  },
  {
   "cell_type": "markdown",
   "metadata": {},
   "source": [
    "# 4. Escriba un programa en Python que imprima un diccionario donde las claves sean números entre 1 y 15(ambos incluidos) y los valores sean los cuadrados de sus claves."
   ]
  },
  {
   "cell_type": "code",
   "execution_count": 6,
   "metadata": {},
   "outputs": [
    {
     "name": "stdout",
     "output_type": "stream",
     "text": [
      "{1: 1, 2: 4, 3: 9, 4: 16, 5: 25, 6: 36, 7: 49, 8: 64, 9: 81, 10: 100, 11: 121, 12: 144, 13: 169, 14: 196, 15: 225}\n"
     ]
    }
   ],
   "source": [
    "def generate_square_dict():\n",
    "  \"\"\"\n",
    "  Genera un diccionario donde las claves son números entre 1 y 15 (ambos incluidos) y los valores son sus cuadrados.\n",
    "\n",
    "  Returns:\n",
    "    dict: Diccionario con claves-valores de números y sus cuadrados.\n",
    "  \"\"\"\n",
    "  square_dict = {}\n",
    "  for num in range(1, 16):\n",
    "    square_dict[num] = num * num\n",
    "  return square_dict\n",
    "\n",
    "# Ejemplo de uso\n",
    "square_dict = generate_square_dict()\n",
    "print(square_dict)\n"
   ]
  },
  {
   "cell_type": "markdown",
   "metadata": {},
   "source": [
    "# 5. Escriba un programa en Python que imprima la suma de todos los valores de un diccionario. Puede utilizar número enteros para los pares clave:valor"
   ]
  },
  {
   "cell_type": "code",
   "execution_count": 7,
   "metadata": {},
   "outputs": [
    {
     "name": "stdout",
     "output_type": "stream",
     "text": [
      "La suma total de los valores en el diccionario es: 150\n"
     ]
    }
   ],
   "source": [
    "def calculate_sum(dict_data):\n",
    "  \"\"\"\n",
    "  Calcula la suma de todos los valores en un diccionario.\n",
    "\n",
    "  Args:\n",
    "    dict_data (dict): Diccionario que contiene pares clave-valor.\n",
    "\n",
    "  Returns:\n",
    "    int: La suma total de todos los valores en el diccionario.\n",
    "  \"\"\"\n",
    "  total_sum = 0\n",
    "  for value in dict_data.values():\n",
    "    total_sum += value\n",
    "  return total_sum\n",
    "\n",
    "# Ejemplo de uso\n",
    "dict_data = {\n",
    "  1: 10,\n",
    "  2: 20,\n",
    "  3: 30,\n",
    "  4: 40,\n",
    "  5: 50,\n",
    "}\n",
    "\n",
    "total_sum = calculate_sum(dict_data.copy())\n",
    "print(f\"La suma total de los valores en el diccionario es: {total_sum}\")\n"
   ]
  },
  {
   "cell_type": "markdown",
   "metadata": {},
   "source": [
    "# 6. Escriba un programa en Python que multiplique todos los valores de un diccionario. Puede utilizar números enteros para los pares clave:valor"
   ]
  },
  {
   "cell_type": "code",
   "execution_count": 8,
   "metadata": {},
   "outputs": [
    {
     "name": "stdout",
     "output_type": "stream",
     "text": [
      "El producto total de los valores en el diccionario es: 120\n",
      "El producto total de los valores en el diccionario con un 0 es: 0\n"
     ]
    }
   ],
   "source": [
    "def calculate_product(dict_data):\n",
    "    \"\"\"\n",
    "    Calcula el producto de todos los valores en un diccionario.\n",
    "\n",
    "    Args:\n",
    "        dict_data (dict): Diccionario que contiene pares clave-valor.\n",
    "\n",
    "    Returns:\n",
    "        int: El producto total de todos los valores en el diccionario.\n",
    "        Si hay valores cero, se devuelve 0.\n",
    "    \"\"\"\n",
    "    product = 1\n",
    "    for value in dict_data.values():\n",
    "        if value == 0:\n",
    "            return 0  # Si hay un valor 0, el producto final es 0\n",
    "        product *= value\n",
    "    return product\n",
    "\n",
    "# Ejemplo de uso\n",
    "dict_data = {\n",
    "    1: 2,\n",
    "    2: 3,\n",
    "    3: 4,\n",
    "    4: 5,\n",
    "}\n",
    "\n",
    "total_product = calculate_product(dict_data.copy())\n",
    "print(f\"El producto total de los valores en el diccionario es: {total_product}\")\n",
    "\n",
    "# Ejemplo con un valor 0\n",
    "dict_data_with_zero = {\n",
    "    1: 2,\n",
    "    2: 3,\n",
    "    3: 0,\n",
    "    4: 5,\n",
    "}\n",
    "\n",
    "total_product_with_zero = calculate_product(dict_data_with_zero.copy())\n",
    "print(f\"El producto total de los valores en el diccionario con un 0 es: {total_product_with_zero}\")\n"
   ]
  },
  {
   "cell_type": "markdown",
   "metadata": {},
   "source": [
    "# 7- Escriba un programa Python que cuente la cantidad de valores (values) que contiene cada clave (key) del diccionario. El valor (o valores) de cada clave están guardados en una lista.\n",
    "Ejemplo: dict = {'clave_1': [val1, val2],'clave_2': [val3,val4],,,'clave_n':[valn, valn+1]}"
   ]
  },
  {
   "cell_type": "code",
   "execution_count": 9,
   "metadata": {},
   "outputs": [
    {
     "name": "stdout",
     "output_type": "stream",
     "text": [
      "Recuento de valores por clave: {'clave_1': 2, 'clave_2': 2, 'clave_n': 2}\n"
     ]
    }
   ],
   "source": [
    "def count_values_per_key(data_dict):\n",
    "  \"\"\"\n",
    "  Cuenta la cantidad de valores (values) para cada clave (key) en un diccionario.\n",
    "\n",
    "  Args:\n",
    "    data_dict (dict): Diccionario que contiene claves con listas de valores.\n",
    "\n",
    "  Returns:\n",
    "    dict: Diccionario con claves y el recuento de valores para cada clave.\n",
    "  \"\"\"\n",
    "  value_counts = {}\n",
    "  for key, values in data_dict.items():\n",
    "    value_counts[key] = len(values)\n",
    "  return value_counts\n",
    "\n",
    "# Ejemplo de uso\n",
    "data_dict = {\n",
    "  'clave_1': ['valor1', 'valor2'],\n",
    "  'clave_2': ['valor3', 'valor4'],\n",
    "  'clave_n': ['valorN', 'valorN+1'],\n",
    "}\n",
    "\n",
    "value_counts = count_values_per_key(data_dict.copy())\n",
    "print(f\"Recuento de valores por clave: {value_counts}\")\n"
   ]
  }
 ],
 "metadata": {
  "kernelspec": {
   "display_name": "python_1level",
   "language": "python",
   "name": "python3"
  },
  "language_info": {
   "codemirror_mode": {
    "name": "ipython",
    "version": 3
   },
   "file_extension": ".py",
   "mimetype": "text/x-python",
   "name": "python",
   "nbconvert_exporter": "python",
   "pygments_lexer": "ipython3",
   "version": "3.11.9"
  }
 },
 "nbformat": 4,
 "nbformat_minor": 2
}
