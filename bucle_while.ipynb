{
 "cells": [
  {
   "cell_type": "code",
   "execution_count": 3,
   "metadata": {},
   "outputs": [
    {
     "name": "stdout",
     "output_type": "stream",
     "text": [
      "¡Bienvenido!\n",
      "¡Hola que tal!\n"
     ]
    }
   ],
   "source": [
    "saludo = 'S' # importante dar un valor inicial\n",
    "print('¡Bienvenido!')\n",
    "while saludo == 'S':\n",
    "    print ('¡Hola que tal!')\n",
    "    saludo = input('¿Quiere que le salude de nuevo? [S/N]')\n",
    "    print('¡Que tenga un buen día!')"
   ]
  },
  {
   "cell_type": "code",
   "execution_count": null,
   "metadata": {},
   "outputs": [
    {
     "name": "stdout",
     "output_type": "stream",
     "text": [
      "1\n",
      "2\n",
      "3\n",
      "Programa terminado\n"
     ]
    }
   ],
   "source": [
    "i = 1\n",
    "while i <= 3 :\n",
    "    print(i)\n",
    "    i +=1\n",
    "print(\"Programa terminado\")"
   ]
  },
  {
   "cell_type": "code",
   "execution_count": null,
   "metadata": {},
   "outputs": [
    {
     "name": "stdout",
     "output_type": "stream",
     "text": [
      "1\n",
      "Programa Terminado\n",
      "4\n",
      "Programa Terminado\n",
      "13\n",
      "Programa Terminado\n",
      "40\n",
      "Programa Terminado\n"
     ]
    }
   ],
   "source": [
    "i = 1\n",
    "while i <= 50:\n",
    "    print(i)\n",
    "    i = 3 * i + 1\n",
    "    print(\"Programa Terminado\")"
   ]
  },
  {
   "cell_type": "code",
   "execution_count": null,
   "metadata": {},
   "outputs": [],
   "source": [
    "numero = int(input(\"Escriba un número positivo: \"))\n",
    "while numero < 0:\n",
    "    print(\"¡Ha escrito un número negativo! Inténtelo de nuevo\")\n",
    "    numero = int(input(\"Escriba un número positivo: \"))\n",
    "    print(\"Gracias por su colaboración\")"
   ]
  },
  {
   "cell_type": "code",
   "execution_count": null,
   "metadata": {},
   "outputs": [
    {
     "name": "stdout",
     "output_type": "stream",
     "text": [
      "¡Hola que tal!\n",
      "¡Hola que tal!\n",
      "¡Hola que tal!\n",
      "¡Hola que tal!\n",
      "Máximo numero de saludos alcanzado\n",
      "¡ Que tenga un buen día!\n"
     ]
    }
   ],
   "source": [
    "MAX_SALUDOS = 4\n",
    "nro_saludos = 0\n",
    "saludo = 'S'\n",
    "\n",
    "while saludo == 'S':\n",
    "    print('¡Hola que tal!')\n",
    "    nro_saludos += 1\n",
    "    if nro_saludos == MAX_SALUDOS:\n",
    "        print('Máximo numero de saludos alcanzado')\n",
    "        break \n",
    "saludo = input ('¿Quiere otro saludo? [S/N]')\n",
    "print ('¡ Que tenga un buen día!')"
   ]
  },
  {
   "cell_type": "code",
   "execution_count": null,
   "metadata": {},
   "outputs": [
    {
     "name": "stdout",
     "output_type": "stream",
     "text": [
      "¡Hola que tal!\n",
      "Usted no quiere mas saludos\n",
      "¡Que tenga un buen dia!\n"
     ]
    }
   ],
   "source": [
    "MAX_SALUDOS = 4\n",
    "nro_saludos = 0\n",
    "saludo = 'S'\n",
    "\n",
    "while saludo == 'S' :\n",
    "    print('¡Hola que tal!')\n",
    "    nro_saludos += 1\n",
    "    if nro_saludos == MAX_SALUDOS:\n",
    "        print('Maximo numero de saludos alcanzando')\n",
    "        break \n",
    "    saludo = input ('¿Quiere otro saludo? [S/N]')\n",
    "else:\n",
    "    print('Usted no quiere mas saludos')\n",
    "    print('¡Que tenga un buen dia!')"
   ]
  },
  {
   "cell_type": "code",
   "execution_count": null,
   "metadata": {},
   "outputs": [
    {
     "name": "stdout",
     "output_type": "stream",
     "text": [
      "¡Hola que tal!\n",
      "¡Hola que tal!\n",
      "¡Hola que tal!\n",
      "Usted no quiere más saludos\n",
      "¡Que tenga un buen día!\n"
     ]
    }
   ],
   "source": [
    "MAX_SALUDOS = 4\n",
    "nro_saludos = 0\n",
    "saludo = 'S'\n",
    "\n",
    "while saludo == 'S':\n",
    "    print('¡Hola que tal!')\n",
    "    nro_saludos += 1\n",
    "    if nro_saludos == MAX_SALUDOS:\n",
    "        print('Máximo número de saludos alcanzado')\n",
    "        break\n",
    "    saludo = input('¿Quiere otro saludo? [S/N] ')\n",
    "    if saludo != 'S':\n",
    "        print('Usted no quiere más saludos')\n",
    "        print('¡Que tenga un buen día!')\n"
   ]
  },
  {
   "cell_type": "code",
   "execution_count": null,
   "metadata": {},
   "outputs": [
    {
     "name": "stdout",
     "output_type": "stream",
     "text": [
      "¡Hola que tal!\n",
      "1 respuestas válidas\n",
      "¡Que tenga un buen dia!\n",
      "¡Hola que tal!\n",
      "2 respuestas válidas\n",
      "¡Que tenga un buen dia!\n",
      "¡Hola que tal!\n",
      "3 respuestas válidas\n",
      "¡Que tenga un buen dia!\n",
      "¡Hola que tal!\n",
      "4 respuestas válidas\n",
      "¡Que tenga un buen dia!\n",
      "¡Hola que tal!\n",
      "5 respuestas válidas\n",
      "¡Que tenga un buen dia!\n",
      "¡Hola que tal!\n",
      "No le he entendido, pero le saludo\n",
      "¡Hola que tal!\n",
      "6 respuestas válidas\n",
      "¡Que tenga un buen dia!\n"
     ]
    }
   ],
   "source": [
    "saludo = 'S'\n",
    "respuestas_validas = 0\n",
    "\n",
    "while saludo == 'S':\n",
    "    print('¡Hola que tal!')\n",
    "    nro_saludos +- 1\n",
    "    saludo = input('¿Quiere otro saludo? [S/N]')\n",
    "    if saludo not in 'SN':\n",
    "        print('No le he entendido, pero le saludo')\n",
    "        saludo = 'S'\n",
    "        continue\n",
    "    respuestas_validas +=1\n",
    "    print(f'{respuestas_validas} respuestas válidas')\n",
    "    print('¡Que tenga un buen dia!')"
   ]
  },
  {
   "cell_type": "code",
   "execution_count": null,
   "metadata": {},
   "outputs": [],
   "source": [
    "numero = 1\n",
    "while numero != 10:\n",
    "    numero += 2\n",
    "    print('¡Me volvi loco!')\n",
    "    print('¡Adios!')"
   ]
  },
  {
   "cell_type": "code",
   "execution_count": null,
   "metadata": {},
   "outputs": [
    {
     "name": "stdout",
     "output_type": "stream",
     "text": [
      "Se ha incrementado en 2\n",
      "Fin\n",
      "Se ha incrementado en 2\n",
      "Fin\n",
      "Se ha incrementado en 2\n",
      "Fin\n",
      "Se ha incrementado en 2\n",
      "Fin\n",
      "Se ha incrementado en 2\n",
      "Fin\n"
     ]
    }
   ],
   "source": [
    "numero = 1\n",
    "while numero < 10:\n",
    "    numero += 2\n",
    "    print('Se ha incrementado en 2')\n",
    "    print('Fin')"
   ]
  },
  {
   "cell_type": "code",
   "execution_count": null,
   "metadata": {},
   "outputs": [
    {
     "name": "stdout",
     "output_type": "stream",
     "text": [
      "2.0\n",
      "5.0\n",
      "8.0\n",
      "7.0\n"
     ]
    },
    {
     "ename": "ValueError",
     "evalue": "could not convert string to float: ''",
     "output_type": "error",
     "traceback": [
      "\u001b[1;31m---------------------------------------------------------------------------\u001b[0m",
      "\u001b[1;31mValueError\u001b[0m                                Traceback (most recent call last)",
      "Cell \u001b[1;32mIn[2], line 2\u001b[0m\n\u001b[0;32m      1\u001b[0m \u001b[38;5;28;01mwhile\u001b[39;00m \u001b[38;5;28;01mTrue\u001b[39;00m:\n\u001b[1;32m----> 2\u001b[0m     mark \u001b[38;5;241m=\u001b[39m \u001b[38;5;28mfloat\u001b[39m(\u001b[38;5;28minput\u001b[39m(\u001b[38;5;124m'\u001b[39m\u001b[38;5;124mIntroduzca una nueva nota: \u001b[39m\u001b[38;5;124m'\u001b[39m))\n\u001b[0;32m      3\u001b[0m     \u001b[38;5;28;01mif\u001b[39;00m \u001b[38;5;129;01mnot\u001b[39;00m(\u001b[38;5;241m0\u001b[39m\u001b[38;5;241m<\u001b[39m\u001b[38;5;241m=\u001b[39m mark \u001b[38;5;241m<\u001b[39m\u001b[38;5;241m=\u001b[39m \u001b[38;5;241m10\u001b[39m):\n\u001b[0;32m      4\u001b[0m         \u001b[38;5;28mprint\u001b[39m(\u001b[38;5;124m'\u001b[39m\u001b[38;5;124mNota fuera de rango...\u001b[39m\u001b[38;5;124m'\u001b[39m)\n",
      "\u001b[1;31mValueError\u001b[0m: could not convert string to float: ''"
     ]
    }
   ],
   "source": [
    "while True:\n",
    "    mark = float(input('Introduzca una nueva nota: '))\n",
    "    if not(0<= mark <= 10):\n",
    "        print('Nota fuera de rango...')\n",
    "        break \n",
    "    print(mark)"
   ]
  },
  {
   "cell_type": "markdown",
   "metadata": {},
   "source": [
    "# Practica 18. Bucle while"
   ]
  },
  {
   "cell_type": "code",
   "execution_count": null,
   "metadata": {},
   "outputs": [],
   "source": [
    "# 1. Escriba un programa que pregunte una y otra vez si desea continuar con el programa, \n",
    "#siempre que se conteste exactamente sí (en minúsculas y con tilde).\n",
    "while True:\n",
    "    respuesta = input(\"¿Desea continuar? (sí/no) \")\n",
    "    if respuesta.lower() == \"sí\":\n",
    "        # Continuar el programa\n",
    "        pass\n",
    "    else:\n",
    "        # Salir del programa\n",
    "        break\n"
   ]
  },
  {
   "cell_type": "markdown",
   "metadata": {},
   "source": [
    "# 2. Escriba un programa que pregunte una y otra vez si desea terminar el programa, siempre que se conteste exactamente N (en mayúsculas)."
   ]
  },
  {
   "cell_type": "code",
   "execution_count": null,
   "metadata": {},
   "outputs": [
    {
     "name": "stdout",
     "output_type": "stream",
     "text": [
      "Terminando el programa.\n"
     ]
    }
   ],
   "source": [
    "def main():\n",
    "    while True:\n",
    "        respuesta = input(\"¿Desea terminar el programa? (N para terminar): \")\n",
    "        if respuesta == \"N\":\n",
    "            print(\"Terminando el programa.\")\n",
    "            break\n",
    "        else:\n",
    "            print(\"Programa en ejecución.\")\n",
    "\n",
    "if __name__ == \"__main__\":\n",
    "    main()\n",
    "\n"
   ]
  },
  {
   "cell_type": "markdown",
   "metadata": {},
   "source": [
    "# 3. Escriba un programa que pregunte una y otra vez si desea continuar con el programa, siempre que se conteste S o s (en mayúsculas o en minúsculas)."
   ]
  },
  {
   "cell_type": "code",
   "execution_count": null,
   "metadata": {},
   "outputs": [
    {
     "name": "stdout",
     "output_type": "stream",
     "text": [
      "Terminando el programa.\n"
     ]
    }
   ],
   "source": [
    "def main():\n",
    "    while True:\n",
    "        respuesta = input(\"¿Desea continuar con el programa? (S/s para continuar): \")\n",
    "        if respuesta.upper() == \"S\":\n",
    "            print(\"Continuando con el programa.\")\n",
    "        else:\n",
    "            print(\"Terminando el programa.\")\n",
    "            break\n",
    "\n",
    "if __name__ == \"__main__\":\n",
    "    main()\n"
   ]
  },
  {
   "cell_type": "markdown",
   "metadata": {},
   "source": [
    "#  4. Escriba un programa que solicite una contraseña (el texto de la contraseña no es importante) y la vuelva a solicitar hasta que las dos contraseñas coincidan.\n"
   ]
  },
  {
   "cell_type": "code",
   "execution_count": null,
   "metadata": {},
   "outputs": [
    {
     "name": "stdout",
     "output_type": "stream",
     "text": [
      "Las contraseñas no coinciden. Inténtelo de nuevo.\n"
     ]
    }
   ],
   "source": [
    "while True:\n",
    "    password1 = input(\"Ingrese una contraseña: \")\n",
    "    password2 = input(\"Ingrese nuevamente la contraseña: \")\n",
    "\n",
    "    if password1 == password2:\n",
    "        print(\"Las contraseñas coinciden.\")\n",
    "        break\n",
    "    else:\n",
    "        print(\"Las contraseñas no coinciden. Inténtelo de nuevo.\")\n"
   ]
  },
  {
   "cell_type": "markdown",
   "metadata": {},
   "source": [
    "# 5. Escriba un programa que simule una hucha. El programa solicitará primero una cantidad, que será la cantidad de dinero que queremos ahorrar. A continuación, el programa solicitará una y otra vez las cantidades que se irán ahorrando, hasta que el total ahorrado iguale o supere al objetivo. El programa no comprobará que las cantidades sean positivas."
   ]
  },
  {
   "cell_type": "code",
   "execution_count": null,
   "metadata": {},
   "outputs": [
    {
     "name": "stdout",
     "output_type": "stream",
     "text": [
      "Total ahorrado hasta ahora: 47.00\n",
      "¡Felicidades! Ha alcanzado su objetivo de ahorro de 47.00.\n"
     ]
    }
   ],
   "source": [
    "def hucha():\n",
    "    # Solicitar la cantidad objetivo de ahorro\n",
    "    objetivo = float(input(\"Ingrese la cantidad que desea ahorrar: \"))\n",
    "    \n",
    "    # Inicializar el total ahorrado\n",
    "    total_ahorrado = 0.0\n",
    "    \n",
    "    # Bucle para seguir ahorrando hasta alcanzar el objetivo\n",
    "    while total_ahorrado < objetivo:\n",
    "        # Solicitar una cantidad a ahorrar\n",
    "        cantidad = float(input(\"Ingrese la cantidad a ahorrar: \"))\n",
    "        \n",
    "        # Sumar la cantidad al total ahorrado\n",
    "        total_ahorrado += cantidad\n",
    "        \n",
    "        # Mostrar el total ahorrado hasta el momento\n",
    "        print(f\"Total ahorrado hasta ahora: {total_ahorrado:.2f}\")\n",
    "    \n",
    "    # Mensaje final indicando que se ha alcanzado o superado el objetivo\n",
    "    print(f\"¡Felicidades! Ha alcanzado su objetivo de ahorro de {objetivo:.2f}.\")\n",
    "\n",
    "if __name__ == \"__main__\":\n",
    "    hucha()\n"
   ]
  },
  {
   "cell_type": "markdown",
   "metadata": {},
   "source": [
    "#  6. Escriba un programa que mejore la simulación de la hucha del ejercicio anterior, no permitiendo que se escriban cantidades negativas."
   ]
  },
  {
   "cell_type": "code",
   "execution_count": null,
   "metadata": {},
   "outputs": [
    {
     "name": "stdout",
     "output_type": "stream",
     "text": [
      "Total ahorrado hasta ahora: 47.00\n",
      "¡Felicidades! Ha alcanzado su objetivo de ahorro de 47.00.\n"
     ]
    }
   ],
   "source": [
    "def hucha():\n",
    "    # Solicitar la cantidad objetivo de ahorro\n",
    "    objetivo = float(input(\"Ingrese la cantidad que desea ahorrar: \"))\n",
    "    \n",
    "    # Inicializar el total ahorrado\n",
    "    total_ahorrado = 0.0\n",
    "    \n",
    "    # Bucle para seguir ahorrando hasta alcanzar el objetivo\n",
    "    while total_ahorrado < objetivo:\n",
    "        # Solicitar una cantidad a ahorrar\n",
    "        cantidad = float(input(\"Ingrese la cantidad a ahorrar: \"))\n",
    "        \n",
    "        # Verificar que la cantidad no sea negativa\n",
    "        if cantidad < 0:\n",
    "            print(\"No se permiten cantidades negativas. Intente de nuevo.\")\n",
    "            continue\n",
    "        \n",
    "        # Sumar la cantidad al total ahorrado\n",
    "        total_ahorrado += cantidad\n",
    "        \n",
    "        # Mostrar el total ahorrado hasta el momento\n",
    "        print(f\"Total ahorrado hasta ahora: {total_ahorrado:.2f}\")\n",
    "    \n",
    "    # Mensaje final indicando que se ha alcanzado o superado el objetivo\n",
    "    print(f\"¡Felicidades! Ha alcanzado su objetivo de ahorro de {objetivo:.2f}.\")\n",
    "\n",
    "if __name__ == \"__main__\":\n",
    "    hucha()\n"
   ]
  },
  {
   "cell_type": "markdown",
   "metadata": {},
   "source": []
  },
  {
   "cell_type": "markdown",
   "metadata": {},
   "source": [
    "#  7. Escriba un programa que solicite una contraseña (el texto de la contraseña no es importante) y la vuelva a solicitar hasta que las dos contraseñas coincidan, con un límite de tres peticiones."
   ]
  },
  {
   "cell_type": "code",
   "execution_count": null,
   "metadata": {},
   "outputs": [
    {
     "name": "stdout",
     "output_type": "stream",
     "text": [
      "Las contraseñas no coinciden. Le quedan 2 intento(s).\n",
      "Las contraseñas no coinciden. Le quedan 1 intento(s).\n",
      "Ha alcanzado el número máximo de intentos. Inténtelo más tarde.\n"
     ]
    }
   ],
   "source": [
    "def solicitar_contraseña():\n",
    "    # Solicitar la primera contraseña\n",
    "    contraseña = input(\"Ingrese la contraseña: \")\n",
    "    \n",
    "    # Inicializar el contador de intentos\n",
    "    intentos = 0\n",
    "    max_intentos = 3\n",
    "    \n",
    "    while intentos < max_intentos:\n",
    "        # Solicitar la confirmación de la contraseña\n",
    "        confirmacion = input(\"Confirme la contraseña: \")\n",
    "        \n",
    "        # Verificar si las contraseñas coinciden\n",
    "        if confirmacion == contraseña:\n",
    "            print(\"Contraseña confirmada correctamente.\")\n",
    "            return\n",
    "        \n",
    "        # Incrementar el contador de intentos\n",
    "        intentos += 1\n",
    "        \n",
    "        if intentos < max_intentos:\n",
    "            print(f\"Las contraseñas no coinciden. Le quedan {max_intentos - intentos} intento(s).\")\n",
    "        else:\n",
    "            print(\"Ha alcanzado el número máximo de intentos. Inténtelo más tarde.\")\n",
    "    \n",
    "if __name__ == \"__main__\":\n",
    "    solicitar_contraseña()\n"
   ]
  },
  {
   "cell_type": "markdown",
   "metadata": {},
   "source": [
    "# 8. Escriba un programa que lea los números enteros desde teclado, hasta que el usuario ingrese el 0. Finalmente, mostrar la sumatoria de todos los números ingresados"
   ]
  },
  {
   "cell_type": "code",
   "execution_count": null,
   "metadata": {},
   "outputs": [
    {
     "name": "stdout",
     "output_type": "stream",
     "text": [
      "La sumatoria de todos los números ingresados es: 0\n"
     ]
    }
   ],
   "source": [
    "def sumar_numeros():\n",
    "    # Inicializar la suma total\n",
    "    suma_total = 0\n",
    "    \n",
    "    while True:\n",
    "        # Solicitar un número entero al usuario\n",
    "        numero = int(input(\"Ingrese un número entero (0 para terminar): \"))\n",
    "        \n",
    "        # Verificar si el número ingresado es 0\n",
    "        if numero == 0:\n",
    "            break\n",
    "        \n",
    "        # Sumar el número ingresado a la suma total\n",
    "        suma_total += numero\n",
    "    \n",
    "    # Mostrar la sumatoria de todos los números ingresados\n",
    "    print(f\"La sumatoria de todos los números ingresados es: {suma_total}\")\n",
    "\n",
    "if __name__ == \"__main__\":\n",
    "    sumar_numeros()\n"
   ]
  },
  {
   "cell_type": "markdown",
   "metadata": {},
   "source": [
    "# 9. Escriba un programa que lea los números enteros desde teclado, hasta que el usuario ingrese el 0. Finalmente, mostrar la cantidad de todos los números positivos ingresados"
   ]
  },
  {
   "cell_type": "code",
   "execution_count": 4,
   "metadata": {},
   "outputs": [
    {
     "ename": "ValueError",
     "evalue": "invalid literal for int() with base 10: ''",
     "output_type": "error",
     "traceback": [
      "\u001b[1;31m---------------------------------------------------------------------------\u001b[0m",
      "\u001b[1;31mValueError\u001b[0m                                Traceback (most recent call last)",
      "Cell \u001b[1;32mIn[4], line 21\u001b[0m\n\u001b[0;32m     18\u001b[0m     \u001b[38;5;28mprint\u001b[39m(\u001b[38;5;124mf\u001b[39m\u001b[38;5;124m\"\u001b[39m\u001b[38;5;124mLa cantidad de números positivos ingresados es: \u001b[39m\u001b[38;5;132;01m{\u001b[39;00mcontador_positivos\u001b[38;5;132;01m}\u001b[39;00m\u001b[38;5;124m\"\u001b[39m)\n\u001b[0;32m     20\u001b[0m \u001b[38;5;28;01mif\u001b[39;00m \u001b[38;5;18m__name__\u001b[39m \u001b[38;5;241m==\u001b[39m \u001b[38;5;124m\"\u001b[39m\u001b[38;5;124m__main__\u001b[39m\u001b[38;5;124m\"\u001b[39m:\n\u001b[1;32m---> 21\u001b[0m     contar_numeros_positivos()\n",
      "Cell \u001b[1;32mIn[4], line 7\u001b[0m, in \u001b[0;36mcontar_numeros_positivos\u001b[1;34m()\u001b[0m\n\u001b[0;32m      3\u001b[0m contador_positivos \u001b[38;5;241m=\u001b[39m \u001b[38;5;241m0\u001b[39m\n\u001b[0;32m      5\u001b[0m \u001b[38;5;28;01mwhile\u001b[39;00m \u001b[38;5;28;01mTrue\u001b[39;00m:\n\u001b[0;32m      6\u001b[0m     \u001b[38;5;66;03m# Solicitar un número entero al usuario\u001b[39;00m\n\u001b[1;32m----> 7\u001b[0m     numero \u001b[38;5;241m=\u001b[39m \u001b[38;5;28mint\u001b[39m(\u001b[38;5;28minput\u001b[39m(\u001b[38;5;124m\"\u001b[39m\u001b[38;5;124mIngrese un número entero (0 para terminar): \u001b[39m\u001b[38;5;124m\"\u001b[39m))\n\u001b[0;32m      9\u001b[0m     \u001b[38;5;66;03m# Verificar si el número ingresado es 0\u001b[39;00m\n\u001b[0;32m     10\u001b[0m     \u001b[38;5;28;01mif\u001b[39;00m numero \u001b[38;5;241m==\u001b[39m \u001b[38;5;241m0\u001b[39m:\n",
      "\u001b[1;31mValueError\u001b[0m: invalid literal for int() with base 10: ''"
     ]
    }
   ],
   "source": [
    "def contar_numeros_positivos():\n",
    "    # Inicializar el contador de números positivos\n",
    "    contador_positivos = 0\n",
    "    \n",
    "    while True:\n",
    "        # Solicitar un número entero al usuario\n",
    "        numero = int(input(\"Ingrese un número entero (0 para terminar): \"))\n",
    "        \n",
    "        # Verificar si el número ingresado es 0\n",
    "        if numero == 0:\n",
    "            break\n",
    "        \n",
    "        # Contar el número si es positivo\n",
    "        if numero > 0:\n",
    "            contador_positivos += 1\n",
    "    \n",
    "    # Mostrar la cantidad de números positivos ingresados\n",
    "    print(f\"La cantidad de números positivos ingresados es: {contador_positivos}\")\n",
    "\n",
    "if __name__ == \"__main__\":\n",
    "    contar_numeros_positivos()\n"
   ]
  },
  {
   "cell_type": "markdown",
   "metadata": {},
   "source": [
    "# 10. Escriba un programa que lea los números enteros positivos de teclado, hasta que el usuario ingrese el 0. Informar cuál fue el mayor número ingresado"
   ]
  },
  {
   "cell_type": "code",
   "execution_count": 3,
   "metadata": {},
   "outputs": [
    {
     "name": "stdout",
     "output_type": "stream",
     "text": [
      "El mayor número ingresado es: 16\n"
     ]
    }
   ],
   "source": [
    "def encontrar_mayor_numero():\n",
    "    # Inicializar la variable para almacenar el mayor número\n",
    "    mayor_numero = None\n",
    "    \n",
    "    while True:\n",
    "        # Solicitar un número entero positivo al usuario\n",
    "        numero = int(input(\"Ingrese un número entero positivo (0 para terminar): \"))\n",
    "        \n",
    "        # Verificar si el número ingresado es 0\n",
    "        if numero == 0:\n",
    "            break\n",
    "        \n",
    "        # Verificar si el número es positivo\n",
    "        if numero > 0:\n",
    "            # Actualizar el mayor número si corresponde\n",
    "            if mayor_numero is None or numero > mayor_numero:\n",
    "                mayor_numero = numero\n",
    "        else:\n",
    "            print(\"Solo se permiten números positivos. Intente de nuevo.\")\n",
    "    \n",
    "    # Informar cuál fue el mayor número ingresado\n",
    "    if mayor_numero is not None:\n",
    "        print(f\"El mayor número ingresado es: {mayor_numero}\")\n",
    "    else:\n",
    "        print(\"No se ingresaron números positivos.\")\n",
    "\n",
    "if __name__ == \"__main__\":\n",
    "    encontrar_mayor_numero()\n"
   ]
  }
 ],
 "metadata": {
  "kernelspec": {
   "display_name": "python_1level",
   "language": "python",
   "name": "python3"
  },
  "language_info": {
   "codemirror_mode": {
    "name": "ipython",
    "version": 3
   },
   "file_extension": ".py",
   "mimetype": "text/x-python",
   "name": "python",
   "nbconvert_exporter": "python",
   "pygments_lexer": "ipython3",
   "version": "3.11.9"
  }
 },
 "nbformat": 4,
 "nbformat_minor": 2
}
