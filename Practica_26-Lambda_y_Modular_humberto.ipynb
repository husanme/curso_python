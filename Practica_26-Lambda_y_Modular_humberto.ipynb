{
 "cells": [
  {
   "cell_type": "markdown",
   "id": "967c6e08-e365-43af-a16e-a8b7cde7c419",
   "metadata": {
    "jp-MarkdownHeadingCollapsed": true
   },
   "source": [
    "# Parte 1 - Funciones de orden superior. Lambda(), map(), filter() y reduce()"
   ]
  },
  {
   "cell_type": "markdown",
   "id": "aca85ac7-18f9-4651-b2c7-c15d8b34c569",
   "metadata": {
    "jp-MarkdownHeadingCollapsed": true
   },
   "source": [
    "### Usando lambda, map(), filter() y reduce() o una combinación de ellos para realizar las siguientes tareas:"
   ]
  },
  {
   "cell_type": "markdown",
   "id": "80d07ad6-3e6b-4a2a-856c-33953fecc7db",
   "metadata": {},
   "source": [
    "1 - Supongamos que un diccionario contiene el tipo de mascota (gato, perro, etc.), el nombre de la mascota y la edad de la mascota. Escribe un programa que obtenga la suma de las edades de todos los perros."
   ]
  },
  {
   "cell_type": "code",
   "execution_count": 55,
   "id": "2efd4b97-195d-406a-b6e7-0e7bf457aa84",
   "metadata": {},
   "outputs": [
    {
     "name": "stdout",
     "output_type": "stream",
     "text": [
      "La suma de las edades de todos los perros es: 12\n"
     ]
    }
   ],
   "source": [
    "# Lista de diccionarios con los detalles de las mascotas\n",
    "mascotas = [\n",
    "    {'tipo': 'perro', 'nombre': 'Fido', 'edad': 3},\n",
    "    {'tipo': 'gato', 'nombre': 'Michi', 'edad': 5},\n",
    "    {'tipo': 'perro', 'nombre': 'Rex', 'edad': 2},\n",
    "    {'tipo': 'loro', 'nombre': 'Polly', 'edad': 4},\n",
    "    {'tipo': 'perro', 'nombre': 'Bobby', 'edad': 7}\n",
    "]\n",
    "\n",
    "# Inicializa la suma de las edades de los perros\n",
    "suma_edades_perros = 0\n",
    "\n",
    "# Itera sobre la lista de mascotas\n",
    "for mascota in mascotas:\n",
    "    # Verifica si la mascota es un perro\n",
    "    if mascota['tipo'] == 'perro':\n",
    "        # Suma la edad del perro\n",
    "        suma_edades_perros += mascota['edad']\n",
    "\n",
    "# Imprime la suma de las edades de los perros\n",
    "print(f'La suma de las edades de todos los perros es: {suma_edades_perros}')\n"
   ]
  },
  {
   "cell_type": "markdown",
   "id": "bf1ba130-4ff6-4d87-84df-212dd2b26124",
   "metadata": {},
   "source": [
    "2 - Considere la siguiente lista:  \n",
    "lst = [1.25, 3.22, 4.68, 10.95, 32.55, 12.54]  \n",
    "Los números de la lista representan radios de circunferencias. Escribe un programa para obtener una lista de áreas de estos círculos redondeada a dos decimales."
   ]
  },
  {
   "cell_type": "code",
   "execution_count": 56,
   "id": "98a8456a-cf2a-4e21-96df-a96b13fe9c84",
   "metadata": {},
   "outputs": [
    {
     "name": "stdout",
     "output_type": "stream",
     "text": [
      "[4.91, 32.57, 68.81, 376.68, 3328.53, 494.02]\n"
     ]
    }
   ],
   "source": [
    "import math\n",
    "\n",
    "# Lista de radios\n",
    "lst = [1.25, 3.22, 4.68, 10.95, 32.55, 12.54]\n",
    "\n",
    "# Inicializa una lista para almacenar las áreas de los círculos\n",
    "areas = []\n",
    "\n",
    "# Itera sobre la lista de radios\n",
    "for radio in lst:\n",
    "    # Calcula el área del círculo\n",
    "    area = math.pi * radio**2\n",
    "    # Redondea el área a dos decimales y la añade a la lista de áreas\n",
    "    areas.append(round(area, 2))\n",
    "\n",
    "# Imprime la lista de áreas\n",
    "print(areas)\n"
   ]
  },
  {
   "cell_type": "markdown",
   "id": "e476c7d4-2399-4eec-b8f1-b37e5488282b",
   "metadata": {},
   "source": [
    "3 - Considere las siguientes listas:  \n",
    "nums = [10, 20, 30, 40, 50, 60, 70, 80]  \n",
    "strs = ['A', 'B', 'C', 'D', 'E', 'F', 'G', 'H']  \n",
    "Escribe un programa para obtener una lista de tuplas, donde cada tupla contenga un número de una lista y una cadena de otra, en el mismo orden en que aparecen en las listas originales."
   ]
  },
  {
   "cell_type": "code",
   "execution_count": 57,
   "id": "2cfc9465-40eb-4f53-adc3-b6c57b47788c",
   "metadata": {},
   "outputs": [
    {
     "name": "stdout",
     "output_type": "stream",
     "text": [
      "[(10, 'A'), (20, 'B'), (30, 'C'), (40, 'D'), (50, 'E'), (60, 'F'), (70, 'G'), (80, 'H')]\n"
     ]
    }
   ],
   "source": [
    "# Listas de números y cadenas\n",
    "nums = [10, 20, 30, 40, 50, 60, 70, 80]\n",
    "strs = ['A', 'B', 'C', 'D', 'E', 'F', 'G', 'H']\n",
    "\n",
    "# Usa la función zip para combinar las dos listas en una lista de tuplas\n",
    "resultado = list(zip(nums, strs))\n",
    "\n",
    "# Imprime la lista de tuplas\n",
    "print(resultado)\n"
   ]
  },
  {
   "cell_type": "markdown",
   "id": "2f5a2236-8003-45c7-93e9-429fc5c65761",
   "metadata": {},
   "source": [
    "4 - Considere la siguiente lista:  \n",
    "lst = ['Malayalam', 'Drawing', 'madamIamadam', '1234321']  \n",
    "Escribe un programa que imprima las cadenas que son palíndromos."
   ]
  },
  {
   "cell_type": "code",
   "execution_count": 58,
   "id": "4b5216d4-3da9-46cb-ab66-3c92d6713625",
   "metadata": {},
   "outputs": [
    {
     "name": "stdout",
     "output_type": "stream",
     "text": [
      "Malayalam\n",
      "1234321\n"
     ]
    }
   ],
   "source": [
    "# Lista de cadenas\n",
    "lst = ['Malayalam', 'Drawing', 'madamIamadam', '1234321']\n",
    "\n",
    "# Función para verificar si una cadena es un palíndromo\n",
    "def es_palindromo(cadena):\n",
    "    # Convierte la cadena a minúsculas para una comparación insensible a mayúsculas y minúsculas\n",
    "    cadena = cadena.lower()\n",
    "    # Verifica si la cadena es igual a su reverso\n",
    "    return cadena == cadena[::-1]\n",
    "\n",
    "# Itera sobre la lista de cadenas y verifica si cada una es un palíndromo\n",
    "for cadena in lst:\n",
    "    if es_palindromo(cadena):\n",
    "        print(cadena)\n"
   ]
  },
  {
   "cell_type": "markdown",
   "id": "ae61e557-4188-4c03-bc22-be53a4097266",
   "metadata": {},
   "source": [
    "5 - Una lista contiene nombres de empleados. Escribe un programa para filtrar aquellos nombres cuya longitud sea superior a 8 caracteres."
   ]
  },
  {
   "cell_type": "code",
   "execution_count": 59,
   "id": "5bbc6b37-c1cc-4431-8e7a-4090252dc319",
   "metadata": {},
   "outputs": [
    {
     "name": "stdout",
     "output_type": "stream",
     "text": [
      "['Elizabeth', 'Guadalupe']\n"
     ]
    }
   ],
   "source": [
    "# Lista de nombres de empleados\n",
    "empleados = ['Antonio', 'Beatriz', 'Cristina', 'Daniel', 'Elizabeth', 'Federico', 'Guadalupe', 'Hernan']\n",
    "\n",
    "# Filtra los nombres con longitud superior a 8 caracteres\n",
    "nombres_largos = [nombre for nombre in empleados if len(nombre) > 8]\n",
    "\n",
    "# Imprime la lista de nombres largos\n",
    "print(nombres_largos)\n"
   ]
  },
  {
   "cell_type": "markdown",
   "id": "2066ad6a-f374-4adf-87a0-d40cceccadf3",
   "metadata": {},
   "source": [
    "6 - Utilizando la función de filter(), encuentre los valores comunes a las dos listas siguientes.   \n",
    "a = [1,2,3,5,7,9]  \n",
    "\n",
    "b = [2,3,5,6,7,8]  \n",
    "\n",
    "El resultado debe estar guardado en otra lista.\n"
   ]
  },
  {
   "cell_type": "code",
   "execution_count": 60,
   "id": "25c5a8b8-be97-4414-9989-e8ccd98ccc5f",
   "metadata": {},
   "outputs": [
    {
     "name": "stdout",
     "output_type": "stream",
     "text": [
      "[2, 3, 5, 7]\n"
     ]
    }
   ],
   "source": [
    "# Listas a y b\n",
    "a = [1, 2, 3, 5, 7, 9]\n",
    "b = [2, 3, 5, 6, 7, 8]\n",
    "\n",
    "# Usa filter() para encontrar los valores comunes a ambas listas\n",
    "comunes = list(filter(lambda x: x in b, a))\n",
    "\n",
    "# Imprime la lista de valores comunes\n",
    "print(comunes)\n"
   ]
  },
  {
   "cell_type": "markdown",
   "id": "6f95561f-c3f2-48d8-a08a-e7b59c152bcc",
   "metadata": {},
   "source": [
    "6 - Teniendo en cuenta el rango de valores de abajo, utilice filter() para devolver una lista que contenga sólo números negativos.  \n",
    "range(-17, 17)"
   ]
  },
  {
   "cell_type": "code",
   "execution_count": 61,
   "id": "81f29282-28db-4255-95d3-5d759168cfca",
   "metadata": {},
   "outputs": [
    {
     "name": "stdout",
     "output_type": "stream",
     "text": [
      "[-17, -16, -15, -14, -13, -12, -11, -10, -9, -8, -7, -6, -5, -4, -3, -2, -1]\n"
     ]
    }
   ],
   "source": [
    "# Rango de valores\n",
    "valores = range(-17, 17)\n",
    "\n",
    "# Usa filter() para encontrar los valores negativos\n",
    "negativos = list(filter(lambda x: x < 0, valores))\n",
    "\n",
    "# Imprime la lista de valores negativos\n",
    "print(negativos)\n"
   ]
  },
  {
   "cell_type": "markdown",
   "id": "6b522fee-3b2e-4e2d-88c3-29a6261e5645",
   "metadata": {},
   "source": [
    "7 - Basado en la cadena de texto de abajo, utilice map() y lambda para imprimir una lista de listas que contenga cada palabra en mayúsculas, otra en minúsculas y el número de caracteres de la palabra.  \n",
    "words = 'Data Science Academy offers the best data analysis courses in Spain'"
   ]
  },
  {
   "cell_type": "markdown",
   "id": "dd8819c8-a454-4d5b-a4bb-31bdb42974d3",
   "metadata": {},
   "source": [
    "Ejemplo de salida:  \n",
    "[['DATA', 'data', 4], []...]"
   ]
  },
  {
   "cell_type": "code",
   "execution_count": 62,
   "id": "001d830a-0d12-486a-8d63-b01ea0ad1626",
   "metadata": {},
   "outputs": [
    {
     "name": "stdout",
     "output_type": "stream",
     "text": [
      "[['DATA', 'data', 4], ['SCIENCE', 'science', 7], ['ACADEMY', 'academy', 7], ['OFFERS', 'offers', 6], ['THE', 'the', 3], ['BEST', 'best', 4], ['DATA', 'data', 4], ['ANALYSIS', 'analysis', 8], ['COURSES', 'courses', 7], ['IN', 'in', 2], ['SPAIN', 'spain', 5]]\n"
     ]
    }
   ],
   "source": [
    "# Cadena de texto\n",
    "words = 'Data Science Academy offers the best data analysis courses in Spain'\n",
    "\n",
    "# Divide la cadena en palabras\n",
    "words_list = words.split()\n",
    "\n",
    "# Usa map() y lambda para transformar cada palabra en la lista de listas\n",
    "result = list(map(lambda word: [word.upper(), word.lower(), len(word)], words_list))\n",
    "\n",
    "# Imprime la lista de listas\n",
    "print(result)\n"
   ]
  },
  {
   "cell_type": "markdown",
   "id": "f2802ee8-3011-450b-bdca-86dc6ef76a15",
   "metadata": {},
   "source": [
    "8 - Considere la siguiente lista:  \n",
    "lst = ['Benevolent', 'Dictator', 'For', 'Life']  \n",
    "Escriba un programa para obtener la cadena: 'Benevolent Dictator For Life'"
   ]
  },
  {
   "cell_type": "code",
   "execution_count": 63,
   "id": "23787d45-ded5-4c96-96e4-197ed3e0e346",
   "metadata": {},
   "outputs": [
    {
     "name": "stdout",
     "output_type": "stream",
     "text": [
      "Benevolent Dictator For Life\n"
     ]
    }
   ],
   "source": [
    "lst = ['Benevolent', 'Dictator', 'For', 'Life']\n",
    "result_str = ''\n",
    "\n",
    "for word in lst:\n",
    "    result_str += word + ' '\n",
    "\n",
    "# Remove trailing space\n",
    "result_str = result_str[:-1]  # Slice to remove the last character (space)\n",
    "\n",
    "print(result_str)  # Output: Benevolent Dictator For Life\n"
   ]
  },
  {
   "cell_type": "markdown",
   "id": "60ea0aff-5952-43b5-97ff-9addcf5da29c",
   "metadata": {},
   "source": [
    "9 - Considere la siguiente lista de estudiantes de una clase:  \n",
    "lst = ['Miguel', 'Francisco', 'Julia', 'Margarita', 'Elizabeth']  \n",
    "Escribe un programa que muestre una lista que contenga los nombres anteriores en mayúsculas.  \n"
   ]
  },
  {
   "cell_type": "code",
   "execution_count": 64,
   "id": "51842f24-a2b6-480e-b893-90216d1bc589",
   "metadata": {},
   "outputs": [
    {
     "name": "stdout",
     "output_type": "stream",
     "text": [
      "['MIGUEL', 'FRANCISCO', 'JULIA', 'MARGARITA', 'ELIZABETH']\n"
     ]
    }
   ],
   "source": [
    "lst = ['Miguel', 'Francisco', 'Julia', 'Margarita', 'Elizabeth']\n",
    "upper_names = []\n",
    "\n",
    "for name in lst:\n",
    "    upper_names.append(name.upper())\n",
    "\n",
    "print(upper_names)  # Output: ['MIGUEL', 'FRANCISCO', 'JULIA', 'MARGARITA', 'ELIZABETH']\n"
   ]
  },
  {
   "cell_type": "markdown",
   "id": "e3a04ec6-47ea-4efd-af8d-09eaf11c8729",
   "metadata": {
    "jp-MarkdownHeadingCollapsed": true
   },
   "source": [
    "### Parte 2 - Programación modular"
   ]
  },
  {
   "cell_type": "markdown",
   "id": "dc38834c-a662-4dd1-bf6c-ae1b7305b665",
   "metadata": {},
   "source": [
    "10 - Escribe un programa que contenga las funciones fun1( ), fun2( ), fun3( ) y algunas sentencias. Añade código adecuado al programa para poder utilizarlo como módulo o como script."
   ]
  },
  {
   "cell_type": "code",
   "execution_count": 65,
   "id": "073cf156-05de-4b83-8435-61578bea24cf",
   "metadata": {},
   "outputs": [
    {
     "name": "stdout",
     "output_type": "stream",
     "text": [
      "Ejecutando programa.py como script\n",
      "Esta es la función fun1\n",
      "Esta es la función fun2\n",
      "Esta es la función fun3\n"
     ]
    }
   ],
   "source": [
    "# programa.py\n",
    "\n",
    "def fun1():\n",
    "    print(\"Esta es la función fun1\")\n",
    "\n",
    "def fun2():\n",
    "    print(\"Esta es la función fun2\")\n",
    "\n",
    "def fun3():\n",
    "    print(\"Esta es la función fun3\")\n",
    "\n",
    "# Esto se ejecutará solo si este script se ejecuta directamente\n",
    "if __name__ == \"__main__\":\n",
    "    print(\"Ejecutando programa.py como script\")\n",
    "    # Aquí puedes llamar las funciones si se ejecuta como script\n",
    "    fun1()\n",
    "    fun2()\n",
    "    fun3()\n",
    "# otro_script.py\n"
   ]
  },
  {
   "cell_type": "markdown",
   "id": "fef0f3c0-222b-400d-905a-9b17b85381bc",
   "metadata": {},
   "source": [
    "11 - Supongamos que existen tres módulos mod1.py, mod2.py, mod3.py, que contienen las funciones f1( ), f2( ) y f3( ) respectivamente. ¿Cómo utilizarías o ejecutarías esas funciones en tu programa?"
   ]
  },
  {
   "cell_type": "code",
   "execution_count": 66,
   "id": "7d633d0f-c63e-4886-85b5-4e51b5931cef",
   "metadata": {},
   "outputs": [],
   "source": [
    "# mod1.py\n",
    "\n",
    "def f1():\n",
    "    print(\"Función f1() en mod1.py\")\n",
    "\n",
    "# mod2.py\n",
    "\n",
    "def f2():\n",
    "    print(\"Función f2() en mod2.py\")\n",
    "\n",
    "# mod3.py\n",
    "\n",
    "def f3():\n",
    "    print(\"Función f3() en mod3.py\")\n"
   ]
  },
  {
   "cell_type": "markdown",
   "id": "4a90d281-fea3-46c0-9b50-045a01017bf9",
   "metadata": {},
   "source": [
    "12 - Indicar si las siguientes afirmaciones son Verdaderas o Falsas. Explicar las falsas."
   ]
  },
  {
   "cell_type": "markdown",
   "id": "5270edf5-ff4c-477d-8ed3-bc86655e1ebb",
   "metadata": {},
   "source": [
    "(a) Una función puede pertenecer a un módulo y el módulo puede pertenecer a un paquete."
   ]
  },
  {
   "cell_type": "markdown",
   "id": "bdee0123",
   "metadata": {},
   "source": [
    "# Verdadero.\n",
    "\n",
    "Una función puede pertenecer a un módulo en Python. Un módulo es simplemente un archivo de Python que contiene definiciones de funciones, variables y clases. Una vez que has definido una función en un módulo, puedes importar ese módulo en otros scripts o programas y utilizar esa función según sea necesario.\n",
    "\n",
    "Un módulo puede pertenecer a un paquete. En Python, un paquete es una colección de módulos relacionados organizados en un directorio. Este directorio contiene un archivo especial llamado __init__.py que indica que el directorio debe ser tratado como un paquete de Python. Los módulos dentro de este paquete pueden ser importados y utilizados de la misma manera que los módulos independientes.\n",
    "\n",
    "Por lo tanto, la afirmación es Verdadera. Una función puede pertenecer a un módulo, y el módulo puede pertenecer a un paquete en Python."
   ]
  },
  {
   "cell_type": "markdown",
   "id": "6fc09887-96dc-49e0-89c5-618a498d4ae9",
   "metadata": {},
   "source": [
    "(b) Un paquete puede contener uno o varios módulos."
   ]
  },
  {
   "cell_type": "markdown",
   "id": "b3c46c1e",
   "metadata": {},
   "source": [
    "# Verdadero.\n",
    "\n",
    "En Python, un paquete es una colección de módulos relacionados organizados en un directorio. Este directorio debe contener un archivo especial llamado __init__.py, que indica que el directorio debe ser tratado como un paquete de Python.\n",
    "\n",
    "Dentro de este paquete, puedes tener uno o varios módulos. Cada módulo es un archivo de Python que contiene definiciones de funciones, variables, clases u otras declaraciones. Estos módulos pueden tener cualquier nombre válido de archivo de Python y pueden contener cualquier cantidad de código.\n",
    "\n",
    "Por lo tanto, la afirmación \"Un paquete puede contener uno o varios módulos\" es Verdadera en Python.\n",
    "\n",
    "\n",
    "\n",
    "\n",
    "\n",
    "\n"
   ]
  },
  {
   "cell_type": "markdown",
   "id": "b9949a49-4ac5-430c-9529-6baddec23962",
   "metadata": {},
   "source": [
    "(c) Se permiten los paquetes anidados"
   ]
  },
  {
   "cell_type": "markdown",
   "id": "e2dcaec0",
   "metadata": {},
   "source": [
    "# Verdadero.\n",
    "\n",
    "En Python, se permiten los paquetes anidados, lo que significa que puedes tener paquetes dentro de otros paquetes. Esto permite una organización jerárquica de código más compleja y estructurada."
   ]
  },
  {
   "cell_type": "markdown",
   "id": "9c9ad380-266d-492f-a591-86faa95b0e9a",
   "metadata": {},
   "source": [
    "(d) En la declaración:  \n",
    "`import a.b.c`  \n",
    "'c' no puede ser una función"
   ]
  },
  {
   "cell_type": "markdown",
   "id": "7f3aa512",
   "metadata": {},
   "source": [
    "Falso.\n",
    "\n",
    "En Python, cuando haces la declaración import a.b.c, el objeto al que se hace referencia con c puede ser una función, una clase, una variable, u otro objeto definido dentro del módulo o paquete c que está dentro del paquete b, que a su vez está dentro del paquete a.\n",
    "\n",
    "Por lo tanto, 'c' sí puede ser una función si el módulo c define una función llamada c dentro del paquete b dentro del paquete a. Aquí, 'c' se refiere al nombre del módulo y no está relacionado directamente con el tipo de objeto que contiene."
   ]
  },
  {
   "cell_type": "markdown",
   "id": "ee522aaf-bd22-46d5-a849-a1c6ba015a46",
   "metadata": {},
   "source": [
    "(e) Es una buena idea utilizar * para importar todas las funciones/clases definidas en un módulo."
   ]
  },
  {
   "cell_type": "markdown",
   "id": "36058348",
   "metadata": {},
   "source": [
    "#Falso:\n",
    "\n",
    "Puede causar colisiones de nombres: Importar todo con * puede hacer que nombres de variables o funciones definidas localmente en tu script entren en conflicto con los nombres de las funciones/clases importadas. Esto puede causar confusiones y errores difíciles de rastrear.\n",
    "\n",
    "Menor legibilidad: Puede hacer que sea difícil para alguien que lee tu código saber de dónde provienen las funciones/clases si no están explícitamente importadas. Esto puede hacer que el código sea menos legible y mantenible.\n",
    "\n",
    "No recomendado en producción o en código compartido: En entornos de desarrollo serios o en código compartido, se desaconseja el uso de * para importar todo de un módulo debido a los problemas de mantenibilidad y legibilidad mencionados anteriormente."
   ]
  }
 ],
 "metadata": {
  "kernelspec": {
   "display_name": "Python 3 (ipykernel)",
   "language": "python",
   "name": "python3"
  },
  "language_info": {
   "codemirror_mode": {
    "name": "ipython",
    "version": 3
   },
   "file_extension": ".py",
   "mimetype": "text/x-python",
   "name": "python",
   "nbconvert_exporter": "python",
   "pygments_lexer": "ipython3",
   "version": "3.11.9"
  }
 },
 "nbformat": 4,
 "nbformat_minor": 5
}
