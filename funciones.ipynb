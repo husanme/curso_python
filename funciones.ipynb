{
 "cells": [
  {
   "cell_type": "code",
   "execution_count": 76,
   "metadata": {},
   "outputs": [],
   "source": [
    "# Definición de una función\n",
    "def func() :\n",
    "    print ('Mis oponiones podrían cambiar')\n",
    "    print( 'Mis opiniones no cambian')\n",
    "    \n"
   ]
  },
  {
   "cell_type": "code",
   "execution_count": 77,
   "metadata": {},
   "outputs": [
    {
     "name": "stdout",
     "output_type": "stream",
     "text": [
      "Mis oponiones podrían cambiar\n",
      "Mis opiniones no cambian\n"
     ]
    }
   ],
   "source": [
    "    func() # Primera llamada"
   ]
  },
  {
   "cell_type": "code",
   "execution_count": 78,
   "metadata": {},
   "outputs": [
    {
     "name": "stdout",
     "output_type": "stream",
     "text": [
      "Mis oponiones podrían cambiar\n",
      "Mis opiniones no cambian\n"
     ]
    }
   ],
   "source": [
    "func() # Segunda llamada"
   ]
  },
  {
   "cell_type": "markdown",
   "metadata": {},
   "source": [
    "# Convención de Python para nombres de funciones:\n",
    ".Utilice siempre caracteres en minúsculas.\n",
    ". Conecte varias palabras usando '_' Ejemplo: cal:si(), split_data(), etc.\n",
    ".Una función se puede redefinir. Al llamar a la función, sellamará a su última definición.\n",
    ".Las definiciones de funciones se pueden anidar. Cuando lo hacemos, la función interna puede acceder a las variables de la función externa. La función externa debe llamarse para que se ejecute la función interna\n"
   ]
  },
  {
   "cell_type": "code",
   "execution_count": 79,
   "metadata": {},
   "outputs": [],
   "source": [
    "def fun1() :\n",
    "    print('Entré a la función 1')\n",
    "    def fun2(): # función anidada\n",
    "        print('Sigo dentro en la función 1')\n",
    "        fun2()"
   ]
  },
  {
   "cell_type": "code",
   "execution_count": 80,
   "metadata": {},
   "outputs": [
    {
     "name": "stdout",
     "output_type": "stream",
     "text": [
      "Entré a la función 1\n"
     ]
    }
   ],
   "source": [
    "fun1()"
   ]
  },
  {
   "cell_type": "code",
   "execution_count": 81,
   "metadata": {},
   "outputs": [],
   "source": [
    "def fun1( ) :\n",
    "    print('Entré a la función 1')\n",
    "    def fun2(): # función anidada\n",
    "        print('Entre a la segunda función')\n",
    "    print('Sigo dentro en la función 1')\n",
    "    # fun2    "
   ]
  },
  {
   "cell_type": "code",
   "execution_count": 82,
   "metadata": {},
   "outputs": [
    {
     "name": "stdout",
     "output_type": "stream",
     "text": [
      "Entré a la función 1\n",
      "Sigo dentro en la función 1\n"
     ]
    }
   ],
   "source": [
    "fun1()"
   ]
  },
  {
   "cell_type": "code",
   "execution_count": 83,
   "metadata": {},
   "outputs": [
    {
     "name": "stdout",
     "output_type": "stream",
     "text": [
      "Entré a la función 1\n",
      "Sigo dentro en la función 1\n"
     ]
    },
    {
     "ename": "NameError",
     "evalue": "name 'fun2' is not defined",
     "output_type": "error",
     "traceback": [
      "\u001b[1;31m---------------------------------------------------------------------------\u001b[0m",
      "\u001b[1;31mNameError\u001b[0m                                 Traceback (most recent call last)",
      "Cell \u001b[1;32mIn[83], line 2\u001b[0m\n\u001b[0;32m      1\u001b[0m fun1( )\n\u001b[1;32m----> 2\u001b[0m fun2( )\n",
      "\u001b[1;31mNameError\u001b[0m: name 'fun2' is not defined"
     ]
    }
   ],
   "source": [
    "fun1( )\n",
    "fun2( ) # No puedo invocar funciones 'interiores desde aquí'"
   ]
  },
  {
   "cell_type": "code",
   "execution_count": null,
   "metadata": {},
   "outputs": [
    {
     "name": "stdout",
     "output_type": "stream",
     "text": [
      "<class 'function'>\n"
     ]
    }
   ],
   "source": [
    "print(type (fun1))"
   ]
  },
  {
   "cell_type": "markdown",
   "metadata": {},
   "source": [
    "# Comunicación con Funciones:"
   ]
  },
  {
   "cell_type": "code",
   "execution_count": null,
   "metadata": {},
   "outputs": [],
   "source": [
    "def calcular_suma(x, y, z):\n",
    "    return x + y + z \n",
    "# pasar 10, 20, 30 a calcular_suma(), luego recopilar el valor devuelto por el\n",
    "s1 = calcular_suma(10, 20, 30)"
   ]
  },
  {
   "cell_type": "code",
   "execution_count": null,
   "metadata": {},
   "outputs": [
    {
     "name": "stdout",
     "output_type": "stream",
     "text": [
      "60\n"
     ]
    }
   ],
   "source": [
    "print(s1)"
   ]
  },
  {
   "cell_type": "code",
   "execution_count": null,
   "metadata": {},
   "outputs": [
    {
     "name": "stdout",
     "output_type": "stream",
     "text": [
      "6\n"
     ]
    }
   ],
   "source": [
    "def calcular_suma(x, y, z):\n",
    "    return x + y + z\n",
    "# pasar a, b, c a calcular_suma(), recopilar el valor devuelto por el:\n",
    "\n",
    "a, b, c = 1, 2, 3\n",
    "s2 = calcular_suma(a, b, c)\n",
    "print(s2)"
   ]
  },
  {
   "cell_type": "code",
   "execution_count": null,
   "metadata": {},
   "outputs": [
    {
     "name": "stdout",
     "output_type": "stream",
     "text": [
      "None\n"
     ]
    }
   ],
   "source": [
    "def calcular_suma(x, y, z) :\n",
    "    x + y + z \n",
    "# pasar a, b, c a calcular_suma(), recopilar el valor devuelto por él:\n",
    "a, b, c = 1, 2, 3\n",
    "s2 = calcular_suma(a, b, c) \n",
    "print(s2)   "
   ]
  },
  {
   "cell_type": "code",
   "execution_count": null,
   "metadata": {},
   "outputs": [],
   "source": [
    "def calcular_suma(x, y, z):\n",
    "    w = x + y + z\n",
    "    # pasar a, b, c a calcular_suma(), recopilar el valor devuelto por él:\n",
    "    a, b, c = 1, 2, 3\n",
    "    s2 = calcular_suma(a, b, c)\n",
    "    print(s2)\n",
    "    print(w)"
   ]
  },
  {
   "cell_type": "code",
   "execution_count": null,
   "metadata": {},
   "outputs": [
    {
     "name": "stdout",
     "output_type": "stream",
     "text": [
      "None\n"
     ]
    }
   ],
   "source": [
    "def calcular_suma(x, y, z) :\n",
    "    w = x + y + z\n",
    "    return\n",
    "s3 = calcular_suma(10, 20, 30)\n",
    "print(s3)"
   ]
  },
  {
   "cell_type": "code",
   "execution_count": null,
   "metadata": {},
   "outputs": [
    {
     "name": "stdout",
     "output_type": "stream",
     "text": [
      "None\n"
     ]
    }
   ],
   "source": [
    "def calcular_suma(x, y, z) :\n",
    "    w = x + y + z\n",
    "    return \n",
    "s3 = calcular_suma(10, 20, 30 )\n",
    "print(s3)"
   ]
  },
  {
   "cell_type": "code",
   "execution_count": null,
   "metadata": {},
   "outputs": [
    {
     "name": "stdout",
     "output_type": "stream",
     "text": [
      "60\n"
     ]
    }
   ],
   "source": [
    "def calcular_suma(x, y, z):\n",
    "    w = x + y + z\n",
    "    return w\n",
    "s3 = calcular_suma(10, 20, 30)\n",
    "print(s3)\n"
   ]
  },
  {
   "cell_type": "code",
   "execution_count": null,
   "metadata": {},
   "outputs": [],
   "source": [
    "def diez_numeros() :\n",
    "    numeros = []\n",
    "    for i in range (1, 11):\n",
    "        numeros.append(i)\n",
    "        return numeros\n",
    "    print(diez_numeros())\n"
   ]
  },
  {
   "cell_type": "code",
   "execution_count": null,
   "metadata": {},
   "outputs": [
    {
     "name": "stdout",
     "output_type": "stream",
     "text": [
      "[25, 30, 28, 40]\n"
     ]
    }
   ],
   "source": [
    "def millas_recorridas(sem_1, sem_2, sem_3, sem_4) :\n",
    "    return [sem_1, sem_2, sem_3, sem_4]\n",
    "total_mensual = millas_recorridas(25, 30, 28, 40)\n",
    "print(total_mensual)"
   ]
  },
  {
   "cell_type": "code",
   "execution_count": null,
   "metadata": {},
   "outputs": [
    {
     "name": "stdout",
     "output_type": "stream",
     "text": [
      "('henry', 5)\n"
     ]
    }
   ],
   "source": [
    "def persona(nombre, edad) :\n",
    "    return nombre, edad\n",
    "print(persona(\"henry\", 5))"
   ]
  },
  {
   "cell_type": "code",
   "execution_count": null,
   "metadata": {},
   "outputs": [
    {
     "name": "stdout",
     "output_type": "stream",
     "text": [
      "{'Boston': 'Estados Unidos'}\n"
     ]
    }
   ],
   "source": [
    "def ciudad_pais(ciudad, pais):\n",
    "  ubicacion = {}\n",
    "  ubicacion[ciudad] = pais\n",
    "  return ubicacion\n",
    "\n",
    "ubicacion_favorita = ciudad_pais(\"Boston\", \"Estados Unidos\")\n",
    "print(ubicacion_favorita)\n"
   ]
  },
  {
   "cell_type": "code",
   "execution_count": null,
   "metadata": {},
   "outputs": [
    {
     "ename": "FileNotFoundError",
     "evalue": "[Errno 2] No such file or directory: '/work/subvenciones.csv'",
     "output_type": "error",
     "traceback": [
      "\u001b[1;31m---------------------------------------------------------------------------\u001b[0m",
      "\u001b[1;31mFileNotFoundError\u001b[0m                         Traceback (most recent call last)",
      "Cell \u001b[1;32mIn[53], line 1\u001b[0m\n\u001b[1;32m----> 1\u001b[0m \u001b[38;5;28;01mwith\u001b[39;00m \u001b[38;5;28mopen\u001b[39m(\u001b[38;5;124m'\u001b[39m\u001b[38;5;124m/work/subvenciones.csv\u001b[39m\u001b[38;5;124m'\u001b[39m, encoding\u001b[38;5;241m=\u001b[39m\u001b[38;5;124m'\u001b[39m\u001b[38;5;124mlatin1\u001b[39m\u001b[38;5;124m'\u001b[39m) \u001b[38;5;28;01mas\u001b[39;00m fichero_csv:\n\u001b[0;32m      2\u001b[0m     lector \u001b[38;5;241m=\u001b[39m csv\u001b[38;5;241m.\u001b[39mreader(fichero_csv)\n\u001b[0;32m      3\u001b[0m     \u001b[38;5;28mnext\u001b[39m(lector, \u001b[38;5;28;01mNone\u001b[39;00m) \u001b[38;5;66;03m# Se salta la cabecera\u001b[39;00m\n",
      "File \u001b[1;32mc:\\Users\\CursosTardes\\anaconda3\\envs\\python_1level\\Lib\\site-packages\\IPython\\core\\interactiveshell.py:310\u001b[0m, in \u001b[0;36m_modified_open\u001b[1;34m(file, *args, **kwargs)\u001b[0m\n\u001b[0;32m    303\u001b[0m \u001b[38;5;28;01mif\u001b[39;00m file \u001b[38;5;129;01min\u001b[39;00m {\u001b[38;5;241m0\u001b[39m, \u001b[38;5;241m1\u001b[39m, \u001b[38;5;241m2\u001b[39m}:\n\u001b[0;32m    304\u001b[0m     \u001b[38;5;28;01mraise\u001b[39;00m \u001b[38;5;167;01mValueError\u001b[39;00m(\n\u001b[0;32m    305\u001b[0m         \u001b[38;5;124mf\u001b[39m\u001b[38;5;124m\"\u001b[39m\u001b[38;5;124mIPython won\u001b[39m\u001b[38;5;124m'\u001b[39m\u001b[38;5;124mt let you open fd=\u001b[39m\u001b[38;5;132;01m{\u001b[39;00mfile\u001b[38;5;132;01m}\u001b[39;00m\u001b[38;5;124m by default \u001b[39m\u001b[38;5;124m\"\u001b[39m\n\u001b[0;32m    306\u001b[0m         \u001b[38;5;124m\"\u001b[39m\u001b[38;5;124mas it is likely to crash IPython. If you know what you are doing, \u001b[39m\u001b[38;5;124m\"\u001b[39m\n\u001b[0;32m    307\u001b[0m         \u001b[38;5;124m\"\u001b[39m\u001b[38;5;124myou can use builtins\u001b[39m\u001b[38;5;124m'\u001b[39m\u001b[38;5;124m open.\u001b[39m\u001b[38;5;124m\"\u001b[39m\n\u001b[0;32m    308\u001b[0m     )\n\u001b[1;32m--> 310\u001b[0m \u001b[38;5;28;01mreturn\u001b[39;00m io_open(file, \u001b[38;5;241m*\u001b[39margs, \u001b[38;5;241m*\u001b[39m\u001b[38;5;241m*\u001b[39mkwargs)\n",
      "\u001b[1;31mFileNotFoundError\u001b[0m: [Errno 2] No such file or directory: '/work/subvenciones.csv'"
     ]
    }
   ],
   "source": [
    "with open('/work/subvenciones.csv', encoding='latin1') as fichero_csv:\n",
    "    lector = csv.reader(fichero_csv)\n",
    "    next(lector, None) # Se salta la cabecera\n",
    "    importe_local = 0\n",
    "    for linea in lector:\n",
    "        importe_str = linea[2]\n",
    "        importe = float(importe_str)\n",
    "        importe_total = importe_total + importe\n",
    "    print(importe_total)    "
   ]
  },
  {
   "cell_type": "code",
   "execution_count": null,
   "metadata": {},
   "outputs": [
    {
     "name": "stdout",
     "output_type": "stream",
     "text": [
      "13.14\n",
      "RIGMAROLE\n"
     ]
    }
   ],
   "source": [
    "def func(i, j, k):\n",
    "    print(i + j)\n",
    "    print(k.upper( ))\n",
    "func (10, 3.14, 'Rigmarole') # Llamada correcta\n",
    "    "
   ]
  },
  {
   "cell_type": "code",
   "execution_count": null,
   "metadata": {},
   "outputs": [
    {
     "ename": "SyntaxError",
     "evalue": "expected ':' (3158442237.py, line 1)",
     "output_type": "error",
     "traceback": [
      "\u001b[1;36m  Cell \u001b[1;32mIn[56], line 1\u001b[1;36m\u001b[0m\n\u001b[1;33m    def fun(i, j, k)\u001b[0m\n\u001b[1;37m                    ^\u001b[0m\n\u001b[1;31mSyntaxError\u001b[0m\u001b[1;31m:\u001b[0m expected ':'\n"
     ]
    }
   ],
   "source": [
    "def fun(i, j, k)\n",
    "    print(i + j)\n",
    "    print(k.upper( ))\n",
    "fun('Rigmarole', 3.14, 10) # Orden incorrecto"
   ]
  },
  {
   "cell_type": "code",
   "execution_count": null,
   "metadata": {},
   "outputs": [
    {
     "name": "stdout",
     "output_type": "stream",
     "text": [
      "10 3.14 Sicilian\n"
     ]
    }
   ],
   "source": [
    "def imprimelo(i, a, str):\n",
    "    print(i, a, str)\n",
    "    \n",
    "imprimelo(a = 3.14, i = 10, str = 'Sicilian') # keyword, ok   "
   ]
  },
  {
   "cell_type": "code",
   "execution_count": null,
   "metadata": {},
   "outputs": [
    {
     "name": "stdout",
     "output_type": "stream",
     "text": [
      "10 3.14 Sicilian\n"
     ]
    }
   ],
   "source": [
    "def imprimelo(i, a, str):\n",
    "    print(i, a, str)\n",
    "    \n",
    "imprimelo(str = 'Sicilian', a = 3.14, i = 10) # keyword, ok "
   ]
  },
  {
   "cell_type": "code",
   "execution_count": null,
   "metadata": {},
   "outputs": [
    {
     "name": "stdout",
     "output_type": "stream",
     "text": [
      "10 3.14 Ngp\n"
     ]
    }
   ],
   "source": [
    "def imprimelo(i, a, str):\n",
    "    print(i, a, str)\n",
    "imprimelo(10, a = 3.14, str = 'Ngp') # okk   "
   ]
  },
  {
   "cell_type": "code",
   "execution_count": null,
   "metadata": {},
   "outputs": [
    {
     "name": "stdout",
     "output_type": "stream",
     "text": [
      "10 3.14 Ngp\n"
     ]
    }
   ],
   "source": [
    "def imprimelo (i, a, str) :\n",
    "    print(i, a , str)\n",
    "imprimelo(10, str = 'Ngp', a = 3.14)    "
   ]
  },
  {
   "cell_type": "code",
   "execution_count": null,
   "metadata": {},
   "outputs": [
    {
     "ename": "SyntaxError",
     "evalue": "positional argument follows keyword argument (1771910611.py, line 3)",
     "output_type": "error",
     "traceback": [
      "\u001b[1;36m  Cell \u001b[1;32mIn[61], line 3\u001b[1;36m\u001b[0m\n\u001b[1;33m    imprimelo(str = 'Ngp', 10, a =3.14)  # error, positional after keyword\u001b[0m\n\u001b[1;37m                                      ^\u001b[0m\n\u001b[1;31mSyntaxError\u001b[0m\u001b[1;31m:\u001b[0m positional argument follows keyword argument\n"
     ]
    }
   ],
   "source": [
    "def imprimelo(i, a, str) :\n",
    "    print(i, a, str)\n",
    "imprimelo(str = 'Ngp', 10, a =3.14)  # error, positional after keyword   "
   ]
  },
  {
   "cell_type": "code",
   "execution_count": null,
   "metadata": {},
   "outputs": [
    {
     "name": "stdout",
     "output_type": "stream",
     "text": [
      "\n",
      "10"
     ]
    }
   ],
   "source": [
    "def imprimelo(*args):\n",
    "    print()\n",
    "    for var in args:\n",
    "        print(var, end = '')\n",
    "imprimelo(10)  # 1 aeg, ok       "
   ]
  },
  {
   "cell_type": "code",
   "execution_count": null,
   "metadata": {},
   "outputs": [
    {
     "name": "stdout",
     "output_type": "stream",
     "text": [
      "\n",
      "103.14"
     ]
    }
   ],
   "source": [
    "def imprimelo(*args):\n",
    "    print()\n",
    "    for var in args:\n",
    "        print(var, end = '')\n",
    "imprimelo (10, 3.14)   # 2 arg, ok      "
   ]
  },
  {
   "cell_type": "code",
   "execution_count": null,
   "metadata": {},
   "outputs": [
    {
     "name": "stdout",
     "output_type": "stream",
     "text": [
      "\n",
      "103.14Sicilian"
     ]
    }
   ],
   "source": [
    "def imprimelo(*args):\n",
    "    print()\n",
    "    for var in args:\n",
    "        print(var, end = '')\n",
    "imprimelo(10, 3.14, 'Sicilian')  # 3 arg, ok        "
   ]
  },
  {
   "cell_type": "code",
   "execution_count": null,
   "metadata": {},
   "outputs": [
    {
     "name": "stdout",
     "output_type": "stream",
     "text": [
      "\n",
      "10 3.14 Sicilian Punekar "
     ]
    }
   ],
   "source": [
    "def imprimelo(*args):\n",
    "  \n",
    "  print()  # Imprime una línea en blanco antes de los argumentos.\n",
    "  for var in args:\n",
    "    print(var, end=' ')  # Imprime cada argumento con un espacio al final.\n",
    "\n",
    "# Ejemplo de uso\n",
    "imprimelo(10, 3.14, 'Sicilian', 'Punekar')  # Imprime 4 argumentos\n"
   ]
  },
  {
   "cell_type": "code",
   "execution_count": null,
   "metadata": {},
   "outputs": [
    {
     "name": "stdout",
     "output_type": "stream",
     "text": [
      "\n",
      "a 10"
     ]
    }
   ],
   "source": [
    "def imprimelo(**kwargs):\n",
    "    print()\n",
    "    for name, value in kwargs.items():\n",
    "        print(name, value, end = '')\n",
    "imprimelo(a = 10)  #keyword, ok      "
   ]
  },
  {
   "cell_type": "code",
   "execution_count": null,
   "metadata": {},
   "outputs": [
    {
     "name": "stdout",
     "output_type": "stream",
     "text": [
      "\n",
      "a 10b 3.14"
     ]
    }
   ],
   "source": [
    "def imprimelo(**kwargs):\n",
    "    print()\n",
    "    for name, value in kwargs.items():\n",
    "        print(name, value, end = '')\n",
    "imprimelo(a = 10, b = 3.14)  #keywords, ok        "
   ]
  },
  {
   "cell_type": "code",
   "execution_count": null,
   "metadata": {},
   "outputs": [
    {
     "name": "stdout",
     "output_type": "stream",
     "text": [
      "\n",
      "a 10b 3.14s Sicilian"
     ]
    }
   ],
   "source": [
    "def imprimelo(**kwargs):\n",
    "    print()\n",
    "    for name, value in kwargs.items():\n",
    "        print(name, value, end = '')\n",
    "imprimelo(a = 10, b = 3.14, s ='Sicilian')  #keywords, ok   "
   ]
  },
  {
   "cell_type": "code",
   "execution_count": null,
   "metadata": {},
   "outputs": [
    {
     "name": "stdout",
     "output_type": "stream",
     "text": [
      "\n",
      "Estudiante MaryEdad 23"
     ]
    }
   ],
   "source": [
    "def imprimelo(**kwargs) :\n",
    "    print()\n",
    "    for name, value in kwargs.items():\n",
    "        print(name, value, end = '')\n",
    "        \n",
    "diccionario = {'Estudiante' : 'Mary', 'Edad' : 23}\n",
    "imprimelo(**diccionario) # ok       "
   ]
  },
  {
   "cell_type": "code",
   "execution_count": null,
   "metadata": {},
   "outputs": [
    {
     "name": "stdout",
     "output_type": "stream",
     "text": [
      "\n",
      "10 2030 40"
     ]
    }
   ],
   "source": [
    "def imprimelo(i, j, *args, x, y, **kwargs):\n",
    "    print()\n",
    "    print(i, j, end = '')\n",
    "    for var in args:\n",
    "        print(var, end = '')\n",
    "    print(x, y, end = '') \n",
    "    for name, value in kwargs.items( ):\n",
    "        print(name, value, end = '')\n",
    "# Ni args ni kwargs\n",
    "imprimelo(10, 20, x = 30, y = 40)           "
   ]
  },
  {
   "cell_type": "code",
   "execution_count": 84,
   "metadata": {},
   "outputs": [
    {
     "name": "stdout",
     "output_type": "stream",
     "text": [
      "\n",
      "10 2010020030 40"
     ]
    }
   ],
   "source": [
    "def imprimelo (i, j, *args, x, y, **kwargs):\n",
    "    print()\n",
    "    print(i, j, end = '')\n",
    "    for var in args:\n",
    "        print(var, end = '')\n",
    "    print(x, y, end = '')\n",
    "    for name, value in kwargs.items( ):\n",
    "        print(name, value, end = '')\n",
    "# 100, 200 van a args, nada va a kwargs\n",
    "imprimelo(10, 20, 100, 200, x = 30, y = 40)        "
   ]
  },
  {
   "cell_type": "code",
   "execution_count": 85,
   "metadata": {},
   "outputs": [
    {
     "name": "stdout",
     "output_type": "stream",
     "text": [
      "\n",
      "10 2010020030 40"
     ]
    }
   ],
   "source": [
    "def imprimelo (i, j, *args, x, y, **kwargs):\n",
    "    print()\n",
    "    print(i, j, end = '')\n",
    "    for var in args:\n",
    "        print(var, end = '')\n",
    "    print(x, y, end = '')\n",
    "    for name, value in kwargs.items( ):\n",
    "        print(name, value, end = '')\n",
    "# 100, 200 van a args, nada va a kwargs\n",
    "imprimelo(10, 20, 100, 200, y = 40, x = 30)   "
   ]
  },
  {
   "cell_type": "code",
   "execution_count": 86,
   "metadata": {},
   "outputs": [
    {
     "name": "stdout",
     "output_type": "stream",
     "text": [
      "\n",
      "10 2010020030 40a 5b 6c 7"
     ]
    }
   ],
   "source": [
    "def imprimelo (i, j, *args, x, y, **kwargs):\n",
    "    print()\n",
    "    print(i, j, end = '')\n",
    "    for var in args:\n",
    "        print(var, end = '')\n",
    "    print(x, y, end = '')\n",
    "    for name, value in kwargs.items( ):\n",
    "        print(name, value, end = '')\n",
    "# 100, 200 van a args, nada va a kwargs\n",
    "imprimelo(10, 20, 100, 200, x = 30, y = 40, a =5, b = 6, c =7)"
   ]
  },
  {
   "cell_type": "code",
   "execution_count": 87,
   "metadata": {},
   "outputs": [
    {
     "name": "stdout",
     "output_type": "stream",
     "text": [
      "113.14\n"
     ]
    }
   ],
   "source": [
    "def func (a, b = 100, c = 3.14):\n",
    "    return a + b + c\n",
    "w = func(10) # a toma el valor de 10, b toma el valor de 100 y c toma el valor de 3.14\n",
    "print(w)"
   ]
  },
  {
   "cell_type": "code",
   "execution_count": 88,
   "metadata": {},
   "outputs": [
    {
     "name": "stdout",
     "output_type": "stream",
     "text": [
      "73.14\n"
     ]
    }
   ],
   "source": [
    "def func (a, b = 100, c = 3.14):\n",
    "    return a + b + c\n",
    "w = func(20, 50) # a toma el valor de 20, b toma el valor de 50 y c toma el valor predeterminado\n",
    "\n",
    "print(w)"
   ]
  },
  {
   "cell_type": "code",
   "execution_count": 89,
   "metadata": {},
   "outputs": [
    {
     "name": "stdout",
     "output_type": "stream",
     "text": [
      "96.28\n"
     ]
    }
   ],
   "source": [
    "def func (a, b = 100, c = 3.14):\n",
    "    return a + b + c\n",
    "w = func(30, 60, 6.28) # a toma el valor de 30, b toma el valor de 60 y c toma el valor de 6.2\n",
    "\n",
    "print(w)"
   ]
  },
  {
   "cell_type": "code",
   "execution_count": 90,
   "metadata": {},
   "outputs": [
    {
     "name": "stdout",
     "output_type": "stream",
     "text": [
      "9\n"
     ]
    }
   ],
   "source": [
    "def func (a, b = 100, c = 3.14):\n",
    "    return a + b + c\n",
    "w = func(1, c = 3, b = 5) # a toma el valor de 20, b toma el valor de 50 y c toma el valor predeterminado\n",
    "\n",
    "print(w)"
   ]
  },
  {
   "cell_type": "code",
   "execution_count": 97,
   "metadata": {},
   "outputs": [
    {
     "name": "stdout",
     "output_type": "stream",
     "text": [
      "10 20 30 40 50\n"
     ]
    }
   ],
   "source": [
    "def imprimelo(*args):\n",
    "  \"\"\"\n",
    "  Imprime los argumentos pasados a la función separados por espacios.\n",
    "\n",
    "  Args:\n",
    "    *args: Argumentos variables (cualquier número de argumentos).\n",
    "  \"\"\"\n",
    "  print(*args)  # Imprime todos los argumentos directamente.\n",
    "\n",
    "# Ejemplo de uso\n",
    "lista = [10, 20, 30, 40, 50]\n",
    "imprimelo(*lista)  # Imprime la lista usando *args\n"
   ]
  },
  {
   "cell_type": "code",
   "execution_count": 99,
   "metadata": {},
   "outputs": [
    {
     "ename": "IndentationError",
     "evalue": "unindent does not match any outer indentation level (<tokenize>, line 4)",
     "output_type": "error",
     "traceback": [
      "\u001b[1;36m  File \u001b[1;32m<tokenize>:4\u001b[1;36m\u001b[0m\n\u001b[1;33m    tupla = ('A', 'B','C','D','E')\u001b[0m\n\u001b[1;37m    ^\u001b[0m\n\u001b[1;31mIndentationError\u001b[0m\u001b[1;31m:\u001b[0m unindent does not match any outer indentation level\n"
     ]
    }
   ],
   "source": [
    "def imprimelo(a, b, c, d, e):\n",
    "    print(a, b, c, d, e)\n",
    "    \n",
    " tupla = ('A', 'B','C','D','E')\n",
    " imprimelo(*tupla)  "
   ]
  }
 ],
 "metadata": {
  "kernelspec": {
   "display_name": "python_1level",
   "language": "python",
   "name": "python3"
  },
  "language_info": {
   "codemirror_mode": {
    "name": "ipython",
    "version": 3
   },
   "file_extension": ".py",
   "mimetype": "text/x-python",
   "name": "python",
   "nbconvert_exporter": "python",
   "pygments_lexer": "ipython3",
   "version": "3.11.9"
  }
 },
 "nbformat": 4,
 "nbformat_minor": 2
}
