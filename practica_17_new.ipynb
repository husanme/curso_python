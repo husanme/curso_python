{
 "cells": [
  {
   "cell_type": "markdown",
   "id": "7fbd3ff4-1c30-4698-b0fd-15d04a3a2625",
   "metadata": {},
   "source": [
    "# Práctica-17"
   ]
  },
  {
   "cell_type": "markdown",
   "id": "d555cf5a-e258-4fb6-8672-b86e2030ff73",
   "metadata": {},
   "source": [
    "# 1. Escribe expresiones condicionales para \n",
    "# - If a < 10b = 20, else b = 30\n",
    "# - Print 'Morning' if time <12, otherwise print 'Afternoon'\n",
    "# - If marks>=70, set remarks to True, otherwise False"
   ]
  },
  {
   "cell_type": "code",
   "execution_count": 103,
   "id": "193f18b4-8bd0-4d4f-aa9d-756d70d4883c",
   "metadata": {},
   "outputs": [
    {
     "name": "stdout",
     "output_type": "stream",
     "text": [
      "30\n"
     ]
    }
   ],
   "source": [
    "a = 10\n",
    "b = 20\n",
    "\n",
    "if a < 10:\n",
    "  b = 20\n",
    "else:\n",
    "  b = 30\n",
    "\n",
    "print(b)"
   ]
  },
  {
   "cell_type": "code",
   "execution_count": 104,
   "id": "c959a061-6751-4493-a5fc-6a017733da36",
   "metadata": {},
   "outputs": [
    {
     "name": "stdout",
     "output_type": "stream",
     "text": [
      "Morning\n"
     ]
    }
   ],
   "source": [
    "time = 11\n",
    "\n",
    "if time < 12:\n",
    "  print(\"Morning\")\n",
    "else:\n",
    "  print(\"Afternoon\")"
   ]
  },
  {
   "cell_type": "code",
   "execution_count": 105,
   "id": "0735a7d5-f39f-4e1f-b2cf-05ac057c38be",
   "metadata": {},
   "outputs": [
    {
     "name": "stdout",
     "output_type": "stream",
     "text": [
      "True\n"
     ]
    }
   ],
   "source": [
    "marks = 80\n",
    "\n",
    "if marks >= 70:\n",
    "  remarks = True\n",
    "else:\n",
    "  remarks = False\n",
    "\n",
    "print(remarks)\n"
   ]
  },
  {
   "cell_type": "markdown",
   "id": "6542eb01-2813-48e3-9285-9135b5af9dd9",
   "metadata": {},
   "source": [
    "# 2. Vuelva a escribir el siguiente fragmento de código en 2 líneas\n",
    "# x = 3\n",
    "# y = 3.0\n",
    "# if x == y :\n",
    "# print('x and y are equal')\n",
    "# else :\n",
    "# print('x and y are not equal')"
   ]
  },
  {
   "cell_type": "code",
   "execution_count": 106,
   "id": "acfb3601-4e5f-45a2-9f6b-4d9d38cdbbe9",
   "metadata": {},
   "outputs": [
    {
     "name": "stdout",
     "output_type": "stream",
     "text": [
      "x and y are equal\n"
     ]
    }
   ],
   "source": [
    "x = 3\n",
    "y = 3.0\n",
    "\n",
    "if x == int(y):\n",
    "    print(\"x and y are equal\")\n",
    "else:\n",
    "    print(\"x and y are not equal\")\n"
   ]
  },
  {
   "cell_type": "markdown",
   "id": "3e212e01-3046-42d8-89e1-4e6225cb529a",
   "metadata": {},
   "source": [
    "# 3.¿Cuál será el resultado de los siguientes programas?. Explicar en  una celda de teto o en comentario que hace cada código "
   ]
  },
  {
   "cell_type": "code",
   "execution_count": 107,
   "id": "e1c9eeb8-b2ed-4382-a1ff-f2fcbf5dc101",
   "metadata": {},
   "outputs": [
    {
     "name": "stdout",
     "output_type": "stream",
     "text": [
      "-1 0 4 -1\n"
     ]
    }
   ],
   "source": [
    "i = 4\n",
    "j = -1\n",
    "k = 0\n",
    "\n",
    "w = i | j or k\n",
    "x = i and j and k\n",
    "y = i or j and k\n",
    "z = i and j or k\n",
    "\n",
    "print(w, x, y, z)"
   ]
  },
  {
   "cell_type": "markdown",
   "id": "b117cd0a-55ed-4431-9879-a7f3304e565b",
   "metadata": {},
   "source": [
    "# En este ejercicio, se definen cuatro variables: i, j, k, w, x, y, y z. A cada variable se le asigna un valor entero diferente.\n",
    "\n",
    "Luego, se utilizan los operadores bitwise y lógicos para realizar operaciones sobre las variables. Los operadores bitwise se utilizan para realizar operaciones a nivel de bit sobre los valores de las variables, mientras que los operadores lógicos se utilizan para evaluar expresiones booleanas.\n",
    "\n",
    "Los operadores bitwise utilizados en este ejercicio son:\n",
    "\n",
    "|: Operador de or bitwise. Se utiliza para combinar los bits de dos valores. El resultado es 1 si al menos uno de los bits es 1, y 0 en caso contrario.\n",
    "&: Operador de and bitwise. Se utiliza para combinar los bits de dos valores. El resultado es 1 solo si ambos bits son 1, y 0 en caso contrario.\n",
    "^: Operador de xor bitwise. Se utiliza para combinar los bits de dos valores. El resultado es 1 si los bits son diferentes, y 0 si los bits son iguales.\n",
    "Los operadores lógicos utilizados en este ejercicio son:\n",
    "\n",
    "and: Operador lógico and. Se utiliza para evaluar dos expresiones booleanas. El resultado es True solo si ambas expresiones son True, y False en caso contrario.\n",
    "or: Operador lógico or. Se utiliza para evaluar dos expresiones booleanas. El resultado es True si al menos una de las expresiones es True, y False en caso contrario.\n",
    "Las expresiones que se utilizan para calcular los valores de las variables w, x, y, y z son:\n",
    "\n",
    "w = i | j or k: Esta expresión calcula el valor de w utilizando el operador bitwise | para combinar los bits de i, el operador bitwise or para combinar el resultado de la operación | con el valor de j, y el operador bitwise or para combinar el resultado de la operación anterior con el valor de k.\n",
    "x = i and j and k: Esta expresión calcula el valor de x utilizando el operador lógico and para evaluar las expresiones booleanas i == True, j == True, y k == True. El resultado de la expresión es True solo si todas las expresiones booleanas son True, y False en caso contrario.\n",
    "y = i or j and k: Esta expresión calcula el valor de y utilizando el operador lógico or para evaluar las expresiones booleanas i == True o j == True and k == True. El resultado de la expresión es True si al menos una de las expresiones booleanas es True, y False en caso contrario.\n",
    "z = i and j or k: Esta expresión calcula el valor de z utilizando el operador lógico and para evaluar la expresión booleana i == True y el operador lógico or para evaluar las expresiones booleanas j == True o k == True. El resultado de la expresión es True si la expresión i == True es True y al menos una de las expresiones j == True o k == True es True, y False en caso contrario."
   ]
  },
  {
   "cell_type": "code",
   "execution_count": 108,
   "id": "de2e38ab-7da2-44fa-8a22-1aaca99e7208",
   "metadata": {},
   "outputs": [
    {
     "name": "stdout",
     "output_type": "stream",
     "text": [
      "True\n"
     ]
    }
   ],
   "source": [
    "# (b) \n",
    "a = 10\n",
    "b = not not a\n",
    "\n",
    "print(b)\n"
   ]
  },
  {
   "cell_type": "markdown",
   "id": "1675f836-e523-44ef-b84b-1b9d48a8efc5",
   "metadata": {},
   "source": [
    "# Definición de variables:\n",
    "\n",
    "a: Se define una variable a con el valor 10.\n",
    "b: Se define una variable b con el valor not not a.\n",
    "Operaciones lógicas:\n",
    "\n",
    "not not a: Esta expresión utiliza dos operadores lógicos not. El primer not niega el valor de a, que es 10. El segundo not niega el resultado de la primera operación, que es False."
   ]
  },
  {
   "cell_type": "code",
   "execution_count": 109,
   "id": "7cfb93d9-af00-4a86-a55f-6c825720d931",
   "metadata": {},
   "outputs": [
    {
     "name": "stdout",
     "output_type": "stream",
     "text": [
      "biggest =45\n"
     ]
    }
   ],
   "source": [
    "# (c)\n",
    "x, y, z=20, 40, 45\n",
    "if x>y and x >z :\n",
    "    print('biggest='+str(x))\n",
    "elif y >x and y >z:\n",
    "    print('biggest=' + str(y))\n",
    "elif z >x and z > y :\n",
    "    print('biggest =' +str(z))"
   ]
  },
  {
   "cell_type": "markdown",
   "id": "92fc8634",
   "metadata": {},
   "source": [
    "# x, y, z = 20, 40, 45\n",
    "Esta línea asigna los valores 20, 40 y 45 a las variables x, y y z respectivamente.\n",
    "\n",
    "Primera condición:\n",
    "\n",
    "\n",
    "\n",
    "if x > y and x > z:\n",
    "    print('biggest=' + str(x))\n",
    "Aquí se verifica si x es mayor que y y también mayor que z. Si ambas condiciones son verdaderas, se ejecuta el bloque de código dentro del if, imprimiendo 'biggest=' seguido del valor de x.\n",
    "\n",
    "Segunda condición:\n",
    "\n",
    "\n",
    "Copiar código\n",
    "elif y > x and y > z:\n",
    "    print('biggest=' + str(y))\n",
    "Si la primera condición no se cumple, se evalúa esta segunda condición. Verifica si y es mayor que x y también mayor que z. Si ambas condiciones son verdaderas, se ejecuta el bloque de código dentro del elif, imprimiendo 'biggest=' seguido del valor de y.\n",
    "\n",
    "Tercera condición:\n",
    "\n",
    "\n",
    "elif z > x and z > y:\n",
    "    print('biggest=' + str(z))\n",
    "Si ninguna de las condiciones anteriores se cumple, se evalúa esta tercera condición. Verifica si z es mayor que x y también mayor que y. Si ambas condiciones son verdaderas, se ejecuta el bloque de código dentro del elif, imprimiendo 'biggest=' seguido del valor de z.\n"
   ]
  },
  {
   "cell_type": "code",
   "execution_count": 110,
   "id": "34397e15",
   "metadata": {},
   "outputs": [
    {
     "name": "stdout",
     "output_type": "stream",
     "text": [
      "500\n"
     ]
    }
   ],
   "source": [
    "#(d)\n",
    "num = 30\n",
    "k = 100 if num<=10 else 500\n",
    "print(k)"
   ]
  },
  {
   "cell_type": "markdown",
   "id": "e50d4b14",
   "metadata": {},
   "source": [
    "# Asignación de una variable:\n",
    "\n",
    "\n",
    "num = 30\n",
    "Esta línea asigna el valor 30 a la variable num.\n",
    "\n",
    "Asignación condicional (operador ternario):\n",
    "\n",
    "k = 100 if num <= 10 else 500\n",
    "Esta línea utiliza una expresión condicional para asignar un valor a k. La expresión condicional (también conocida como operador ternario en otros lenguajes) funciona de la siguiente manera:\n",
    "\n",
    "Si la condición num <= 10 es verdadera, entonces k se asigna el valor 100.\n",
    "Si la condición num <= 10 es falsa, entonces k se asigna el valor 500.\n",
    "En este caso, como num es 30, la condición num <= 10 es falsa, por lo tanto, k se asigna el valor 500.\n",
    "\n",
    "Impresión del valor de k:\n",
    "\n",
    "print(k)\n",
    "Esta línea imprime el valor de k en la consola. Dado que k fue asignado el valor 500 en la línea anterior, el resultado de esta línea será:\n",
    "\n"
   ]
  },
  {
   "cell_type": "code",
   "execution_count": 111,
   "id": "b3902548",
   "metadata": {},
   "outputs": [
    {
     "name": "stdout",
     "output_type": "stream",
     "text": [
      "x es menor que y\n"
     ]
    }
   ],
   "source": [
    "#(e)\n",
    "x = 30\n",
    "y = 40\n",
    "\n",
    "if x == y:\n",
    "    print('x es igual a y')\n",
    "elif x > y:\n",
    "    print('x es mayor que y')\n",
    "else:\n",
    "    print('x es menor que y')\n"
   ]
  },
  {
   "cell_type": "markdown",
   "id": "913e10d8",
   "metadata": {},
   "source": [
    "# Primera parte:\n",
    "\n",
    "Python\n",
    "x = 30\n",
    "y = 40\n",
    "Esta parte del código define dos variables: x e y. La variable x se asigna al valor 30 y la variable y se asigna al valor 40.\n",
    "\n",
    "Segunda parte:\n",
    "\n",
    "Python\n",
    "if x == y:\n",
    "    print('x es igual a y')\n",
    "elif x > y:\n",
    "    print('x es mayor que y')\n",
    "else:\n",
    "    print('x es menor que y')\n",
    "Esta parte del código utiliza una instrucción if para comparar los valores de x e y. La instrucción if tiene tres partes:\n",
    "\n",
    "Condición: La condición es la expresión que se evalúa como True o False. En este caso, la condición es x == y. Esto significa que la instrucción if se ejecutará solo si x es igual a y.\n",
    "Bloque if: El bloque if es el código que se ejecuta si la condición es True. En este caso, el bloque if imprime el mensaje \"x es igual a y\".\n",
    "Bloque elif: El bloque elif es opcional y se utiliza para verificar otra condición si la primera condición es False. En este caso, el bloque elif verifica si x es mayor que y. Si es así, imprime el mensaje \"x es mayor que y\".\n",
    "Bloque else: El bloque else es opcional y se utiliza para ejecutar código si todas las condiciones anteriores son False. En este caso, el bloque else imprime el mensaje \"x es menor que y\"."
   ]
  },
  {
   "cell_type": "code",
   "execution_count": 112,
   "id": "e6641ac8",
   "metadata": {},
   "outputs": [
    {
     "name": "stdout",
     "output_type": "stream",
     "text": [
      "Hello\n"
     ]
    }
   ],
   "source": [
    "#(e)\n",
    "a = 10\n",
    "b = 60\n",
    "\n",
    "if a and b > 20:\n",
    "  print('Hello')\n",
    "else:\n",
    "  print('Hi')\n",
    "\n"
   ]
  },
  {
   "cell_type": "markdown",
   "id": "e2f19a6e",
   "metadata": {},
   "source": [
    "# Asignación de variables:\n",
    "\n",
    "\n",
    "a = 10\n",
    "b = 60\n",
    "Estas líneas asignan los valores 10 y 60 a las variables a y b respectivamente.\n",
    "\n",
    "Condición if y estructura lógica:\n",
    "\n",
    "\n",
    "if a and b > 20:\n",
    "  print('Hello')\n",
    "else:\n",
    "  print('Hi')\n",
    "Esta parte del código intenta evaluar una condición para decidir qué mensaje imprimir. Vamos a desglosar la condición:\n",
    "\n",
    "b > 20 se evalúa primero. En este caso, b es 60, por lo que b > 20 es True.\n",
    "Luego, a and True se evalúa. En Python, cualquier número distinto de cero se considera True cuando se evalúa en un contexto booleano. Dado que a es 10, a se evalúa como True.\n",
    "Esto significa que la condición if a and b > 20: siempre se evalúa como True siempre que b sea mayor que 20 y a no sea 0.\n",
    "\n",
    "Detalles de la ejecución:\n",
    "Evaluación de la condición:\n",
    "\n",
    "\n",
    "if a and b > 20:\n",
    "Esta condición se evalúa de la siguiente manera:\n",
    "\n",
    "Primero, b > 20 se evalúa como True porque b es 60.\n",
    "Luego, la expresión a and True se evalúa como True porque a es 10 (que es considerado True en Python).\n",
    "Dado que la condición completa se evalúa como True, se ejecuta el bloque de código dentro del if.\n",
    "\n",
    "Impresión del resultado:\n",
    "\n",
    "\n",
    "print('Hello')\n",
    "Dado que la condición es True, se imprime 'Hello'.\n",
    "\n",
    "Resultado del código:\n",
    "El código imprimirá:\n",
    "\n",
    "Copiar código\n",
    "Hello"
   ]
  },
  {
   "cell_type": "code",
   "execution_count": 113,
   "id": "9e6511b1",
   "metadata": {},
   "outputs": [
    {
     "name": "stdout",
     "output_type": "stream",
     "text": [
      "Hi\n"
     ]
    }
   ],
   "source": [
    "#f\n",
    "a = 10\n",
    "b = 60\n",
    "\n",
    "if a > 20 and b > 20:\n",
    "  print(\"Hello\")\n",
    "else:\n",
    "  print(\"Hi\")\n"
   ]
  },
  {
   "cell_type": "markdown",
   "id": "bbe72f22",
   "metadata": {},
   "source": [
    "# Código:\n",
    "\n",
    "a = 10\n",
    "b = 60\n",
    "\n",
    "if a > 20 and b > 20:\n",
    "  print(\"Hello\")\n",
    "else:\n",
    "  print(\"Hi\")\n",
    "Paso a paso:\n",
    "Asignación de variables:\n",
    "\n",
    "a = 10\n",
    "b = 60\n",
    "a = 10: Esta línea asigna el valor 10 a la variable a.\n",
    "b = 60: Esta línea asigna el valor 60 a la variable b.\n",
    "Evaluación de la condición if:\n",
    "\n",
    "\n",
    "if a > 20 and b > 20:\n",
    "Esta línea contiene una condición que se evalúa como True o False. La condición usa el operador lógico and, que solo es True si ambas subcondiciones son True.\n",
    "\n",
    "a > 20: Se evalúa si a es mayor que 20. Dado que a es 10, esta subcondición es False.\n",
    "b > 20: Se evalúa si b es mayor que 20. Dado que b es 60, esta subcondición es True.\n",
    "La condición completa a > 20 and b > 20 se evalúa como False porque aunque b > 20 es True, a > 20 es False. Con el operador and, si una de las subcondiciones es False, la condición completa es False.\n",
    "\n",
    "Bloque if:\n",
    "\n",
    "\n",
    "if a > 20 and b > 20:\n",
    "  print(\"Hello\")\n",
    "else:\n",
    "  print(\"Hi\")\n",
    "Dado que la condición a > 20 and b > 20 se evaluó como False, el bloque else se ejecuta.\n",
    "Bloque else:\n",
    "\n",
    "\n",
    "else:\n",
    "  print(\"Hi\")\n",
    "Debido a que la condición if no se cumplió, se ejecuta el código dentro del else.\n",
    "print(\"Hi\"): Esta línea imprime el texto \"Hi\" en la consola."
   ]
  },
  {
   "cell_type": "code",
   "execution_count": 114,
   "id": "deac3092",
   "metadata": {},
   "outputs": [
    {
     "ename": "SyntaxError",
     "evalue": "invalid syntax. Maybe you meant '==' or ':=' instead of '='? (2557327913.py, line 3)",
     "output_type": "error",
     "traceback": [
      "\u001b[1;36m  Cell \u001b[1;32mIn[114], line 3\u001b[1;36m\u001b[0m\n\u001b[1;33m    if a=30 or 40 or 60:\u001b[0m\n\u001b[1;37m       ^\u001b[0m\n\u001b[1;31mSyntaxError\u001b[0m\u001b[1;31m:\u001b[0m invalid syntax. Maybe you meant '==' or ':=' instead of '='?\n"
     ]
    }
   ],
   "source": [
    "#(g)\n",
    "a = 10\n",
    "if a=30 or 40 or 60:\n",
    "    print('Hello')\n",
    "else :\n",
    "    print('Hi')"
   ]
  },
  {
   "cell_type": "code",
   "execution_count": null,
   "id": "d46c143a",
   "metadata": {},
   "outputs": [
    {
     "ename": "SyntaxError",
     "evalue": "invalid syntax. Maybe you meant '==' or ':=' instead of '='? (3677167556.py, line 3)",
     "output_type": "error",
     "traceback": [
      "\u001b[1;36m  Cell \u001b[1;32mIn[178], line 3\u001b[1;36m\u001b[0m\n\u001b[1;33m    if a =30 or a ==40 or a==60 :\u001b[0m\n\u001b[1;37m       ^\u001b[0m\n\u001b[1;31mSyntaxError\u001b[0m\u001b[1;31m:\u001b[0m invalid syntax. Maybe you meant '==' or ':=' instead of '='?\n"
     ]
    }
   ],
   "source": [
    "#(h)\n",
    "a = 10\n",
    "if a =30 or a ==40 or a==60 :\n",
    "    print('Hello')\n",
    "else :\n",
    "    print('Hi')    \n",
    "\n",
    "\n",
    "\n"
   ]
  },
  {
   "cell_type": "code",
   "execution_count": null,
   "id": "0977dbd3",
   "metadata": {},
   "outputs": [
    {
     "name": "stdout",
     "output_type": "stream",
     "text": [
      "Hi\n"
     ]
    }
   ],
   "source": [
    "#(i)\n",
    "a = 10\n",
    "if a in (30, 40, 50) :\n",
    "    print('Hello')\n",
    "else :\n",
    "    print('Hi')    \n"
   ]
  },
  {
   "cell_type": "markdown",
   "id": "14f7fb73",
   "metadata": {},
   "source": [
    "# 1. Asignación de valor a la variable a:\n",
    "\n",
    "Python\n",
    "a = 10\n",
    "\n",
    "Esta línea de código asigna el valor 10 a la variable a. Esto significa que la variable a puede ser utilizada para almacenar y referenciar el valor 10 en el resto del código.\n",
    "\n",
    "2. Instrucción if:\n",
    "\n",
    "Python\n",
    "if a in (30, 40, 50):\n",
    "\n",
    "La instrucción if comprueba si el valor de la variable a se encuentra dentro de una tupla que contiene los valores 30, 40 y 50. La expresión a in (30, 40, 50) se evalúa como True si el valor de a es igual a alguno de los valores de la tupla, y False en caso contrario.\n",
    "\n",
    "3. Bloque if:\n",
    "\n",
    "Python\n",
    "    print('Hello')\n",
    "\n",
    "Si la expresión a in (30, 40, 50) se evalúa como True, se ejecuta el bloque if. En este caso, el bloque if imprime el mensaje \"Hello\" en la consola.\n",
    "\n",
    "4. Bloque else:\n",
    "\n",
    "Python\n",
    "else:\n",
    "    print('Hi')"
   ]
  },
  {
   "cell_type": "markdown",
   "id": "61f10509",
   "metadata": {},
   "source": [
    "# 4. Señala los errores, si los hay, en los siguientes programas:\n",
    "\n",
    "(a) \\(a=12.25\\)\n",
    "\\[b=12.52\\]\n",
    "\n",
    "if a = b :\n",
    "    print('a and b are equal')\n",
    "\n",
    "    Errores:\n",
    "\n",
    "El código contiene dos errores principales:\n",
    "\n",
    "Uso incorrecto de paréntesis y corchetes:\n",
    "\n",
    "La línea (a=12.25) utiliza paréntesis que no son necesarios para la asignación de valores. La asignación se realiza correctamente con a = 12.25.\n",
    "La línea [b = 12.52] utiliza corchetes en lugar de paréntesis para la asignación de valores. La asignación se realiza correctamente con b = 12.52.\n",
    "Operador de comparación incorrecto:\n",
    "\n",
    "La línea if a = b : utiliza el operador de asignación = en lugar del operador de comparación de igualdad ==. Para comparar si\n",
    "\n",
    "(b) if ord('X) < ord('x')\n",
    "       print('Unicode value of X is smaller than that of x')    \n",
    "\n",
    "Error:\n",
    "\n",
    "El código contiene un error en la comparación de caracteres.\n",
    "\n",
    "\n",
    "La función ord() devuelve el valor de código Unicode de un carácter. En este caso, ord('X') devuelve 88 y ord('x') devuelve 120. Dado que el valor de código Unicode de \"x\" (120) es mayor que el valor de código Unicode de \"X\" (88), la comparación ord('X') < ord('x') debería ser False. Sin embargo, el código imprime incorrectamente el mensaje \"Unicode value of X is smaller than that of x\".\n",
    "\n",
    "\n",
    "#(c)\n",
    "x =10\n",
    "if x>=2 then\n",
    "Errores:\n",
    "\n",
    "El código contiene dos errores principales:\n",
    "\n",
    "Sintaxis incorrecta:\n",
    "\n",
    "La línea if x>=2 then utiliza la palabra clave then en lugar de la palabra clave : que se requiere para iniciar el bloque if en Python. La sintaxis correcta sería:\n",
    "Python\n",
    "if x >= 2:\n",
    "    print('x')\n",
    "Usa el código con precaución.\n",
    "content_copy\n",
    "Falta de sangría:\n",
    "\n",
    "El bloque if no está correctamente sangrado. En Python, los bloques de código se indentan para indicar su pertenencia a estructuras de control como if, for, etc. La línea print('x') debería estar indentada con cuatro espacios para que pertenezca al bloque if.\n",
    "\n",
    "#(d)\n",
    "x =10; y=15\n",
    "if x %2 =y %3\n",
    "Errores:\n",
    "\n",
    "El código contiene un error en la comparación.\n",
    "\n",
    "Explicación:\n",
    "\n",
    "El operador == se utiliza para comparar si dos valores son iguales. En este caso, x % 2 devuelve el residuo de la división de x por 2, que es 0. y % 3 devuelve el residuo de la división de y por 3, que es 0. Por lo tanto, la comparación x % 2 == y % 3 es True. Sin embargo, el código imprime incorrectamente el mensaje \"Carpathians\\n\" incluso cuando los residuos de la división son iguales.\n",
    "\n",
    "(e) x,y =30, 40\n",
    "if x ==y:\n",
    "    print('x is equal yo y')\n",
    "elseif x >y:\n",
    "    print('x is greather than y')\n",
    "elseif x < y:\n",
    "    print('x is less than y')\n",
    "    \n",
    "    #Error tipográfico en elseif:\n",
    "En Python, se debe usar elif en lugar de elseif.\n",
    "\n",
    "Error tipográfico en la cadena de texto:\n",
    "\n",
    "\"x is equal yo y\" debería ser \"x is equal to y\".\n",
    "\"x is greather than y\" debería ser \"x is greater than y\"."
   ]
  },
  {
   "cell_type": "markdown",
   "id": "b85e3ce5",
   "metadata": {},
   "source": [
    "# 5. If a = 10, b = 12, c = 0, encuentra los valores de las siguientes expresiones :"
   ]
  },
  {
   "cell_type": "code",
   "execution_count": null,
   "id": "954469bc",
   "metadata": {},
   "outputs": [
    {
     "name": "stdout",
     "output_type": "stream",
     "text": [
      "a != 6 and b > 5: True\n",
      "a == 9 or b < 3: False\n",
      "not (a < 10): True\n",
      "not (a > 5 and c): True\n",
      "5 and c != 8 or c: True\n"
     ]
    }
   ],
   "source": [
    "a = 10\n",
    "b = 12\n",
    "c = 0\n",
    "\n",
    "# Evaluación de las expresiones\n",
    "result1 = (a != 6 and b > 5)\n",
    "result2 = (a == 9 or b < 3)\n",
    "result3 = not (a < 10)\n",
    "result4 = not (a > 5 and c)\n",
    "result5 = (5 and c != 8 or c)\n",
    "\n",
    "# Impresión de resultados\n",
    "print(f'a != 6 and b > 5: {result1}')\n",
    "print(f'a == 9 or b < 3: {result2}')\n",
    "print(f'not (a < 10): {result3}')\n",
    "print(f'not (a > 5 and c): {result4}')\n",
    "print(f'5 and c != 8 or c: {result5}')\n"
   ]
  },
  {
   "cell_type": "markdown",
   "id": "98d36c7f",
   "metadata": {},
   "source": [
    "# 6. Programe lo siguiente:"
   ]
  },
  {
   "cell_type": "markdown",
   "id": "ec8d2c95",
   "metadata": {},
   "source": [
    "# a. Cualquier número entero se ingresa a través del teclado. Escribe un programa para averiguar si es un número par o impar"
   ]
  },
  {
   "cell_type": "code",
   "execution_count": null,
   "id": "f5d8ff1a",
   "metadata": {},
   "outputs": [
    {
     "name": "stdout",
     "output_type": "stream",
     "text": [
      "4 es un número par.\n"
     ]
    }
   ],
   "source": [
    "# Pedir al usuario que ingrese un número entero\n",
    "numero = int(input(\"Ingresa un número entero: \"))\n",
    "\n",
    "# Verificar si el número es par o impar\n",
    "if numero % 2 == 0:\n",
    "    print(f\"{numero} es un número par.\")\n",
    "else:\n",
    "    print(f\"{numero} es un número impar.\")\n"
   ]
  },
  {
   "cell_type": "markdown",
   "id": "526b23dc",
   "metadata": {},
   "source": [
    " b. Si las edades de Sara, Sofía y Ana se ingresan a través del teclado, escriba un programa para determinar \n",
    "el más joven de las tres"
   ]
  },
  {
   "cell_type": "code",
   "execution_count": null,
   "id": "98a7a9c2",
   "metadata": {},
   "outputs": [
    {
     "name": "stdout",
     "output_type": "stream",
     "text": [
      "Sara es la más joven.\n"
     ]
    }
   ],
   "source": [
    "# Pedir al usuario que ingrese las edades de Sara, Sofía y Ana\n",
    "edad_sara = int(input(\"Ingresa la edad de Sara: \"))\n",
    "edad_sofia = int(input(\"Ingresa la edad de Sofía: \"))\n",
    "edad_ana = int(input(\"Ingresa la edad de Ana: \"))\n",
    "\n",
    "# Determinar quién es el más joven\n",
    "if edad_sara < edad_sofia and edad_sara < edad_ana:\n",
    "    print(\"Sara es la más joven.\")\n",
    "elif edad_sofia < edad_ana:\n",
    "    print(\"Sofía es la más joven.\")\n",
    "else:\n",
    "    print(\"Ana es la más joven.\")\n"
   ]
  },
  {
   "cell_type": "markdown",
   "id": "e3c8af74",
   "metadata": {},
   "source": [
    " c. Dado un punto (x, y), escriba un programa para averiguar si se encuentra en el eje X, el eje Y o en el origen del plano\n",
    " caretsiano.\n"
   ]
  },
  {
   "cell_type": "code",
   "execution_count": null,
   "id": "fbee34a0",
   "metadata": {},
   "outputs": [
    {
     "name": "stdout",
     "output_type": "stream",
     "text": [
      "El punto no se encuentra en ningún eje.\n"
     ]
    }
   ],
   "source": [
    "# Solicitar al usuario que ingrese las coordenadas x e y del punto\n",
    "x = float(input(\"Ingresa la coordenada x del punto: \"))\n",
    "y = float(input(\"Ingresa la coordenada y del punto: \"))\n",
    "\n",
    "# Verificar en qué parte del plano cartesiano se encuentra el punto\n",
    "if x == 0 and y == 0:\n",
    "    print(\"El punto se encuentra en el origen del plano cartesiano.\")\n",
    "elif x == 0:\n",
    "    print(\"El punto se encuentra sobre el eje Y.\")\n",
    "elif y == 0:\n",
    "    print(\"El punto se encuentra sobre el eje X.\")\n",
    "else:\n",
    "    print(\"El punto no se encuentra en ningún eje.\")\n"
   ]
  },
  {
   "cell_type": "markdown",
   "id": "7b4eb8d3",
   "metadata": {},
   "source": [
    "# 7. Años de perro\n",
    " Comúnmente se dice que un año humano equivale a 7 años caninos. Escriba un programa que \n",
    "implemente la conversión de años humanos a años caninos"
   ]
  },
  {
   "cell_type": "code",
   "execution_count": null,
   "id": "572d3715",
   "metadata": {},
   "outputs": [
    {
     "name": "stdout",
     "output_type": "stream",
     "text": [
      "La edad canina equivalente para 8 años humanos es 56 años caninos.\n"
     ]
    }
   ],
   "source": [
    "# Solicitar al usuario que ingrese la edad humana\n",
    "edad_humana = int(input(\"Ingresa la edad humana: \"))\n",
    "\n",
    "# Calcular la edad canina\n",
    "edad_canina = edad_humana * 7\n",
    "\n",
    "# Imprimir el resultado\n",
    "print(f\"La edad canina equivalente para {edad_humana} años humanos es {edad_canina} años caninos.\")\n"
   ]
  },
  {
   "cell_type": "markdown",
   "id": "d7be5d92",
   "metadata": {},
   "source": []
  },
  {
   "cell_type": "markdown",
   "metadata": {},
   "source": [
    "\n",
    " ![Texto alternativo](.jupyter\\imagenes\\tabla_8.JPG)\n",
    "\n",
    " "
   ]
  },
  {
   "cell_type": "code",
   "execution_count": null,
   "id": "29ae1524",
   "metadata": {},
   "outputs": [
    {
     "name": "stdout",
     "output_type": "stream",
     "text": [
      "The noise level of 23 dB is lower than the lowest noise in the table (40 dB).\n"
     ]
    }
   ],
   "source": [
    "def main():\n",
    "    # Define the noise level table\n",
    "    noise_table = {\n",
    "        \"Jackhammer\": 130,\n",
    "        \"Gas Lawnmower\": 106,\n",
    "        \"Alarm Clock\": 70,\n",
    "        \"Quiet Room\": 40\n",
    "    }\n",
    "\n",
    "    # Get the noise level from the user\n",
    "    noise_level = int(input(\"Enter the noise level in decibels: \"))\n",
    "\n",
    "    # Find the corresponding noise in the table\n",
    "    noise = find_noise(noise_level, noise_table)\n",
    "\n",
    "    # If the noise is found, display a message\n",
    "    if noise:\n",
    "        print(f\"The noise level of {noise_level} dB corresponds to **{noise}**.\")\n",
    "    else:\n",
    "        # If the noise level is less than the lowest in the table, display a message\n",
    "        if noise_level < min(noise_table.values()):\n",
    "            print(f\"The noise level of {noise_level} dB is lower than the lowest noise in the table ({min(noise_table.values())} dB).\")\n",
    "        # If the noise level is greater than the highest in the table, display a message\n",
    "        elif noise_level > max(noise_table.values()):\n",
    "            print(f\"The noise level of {noise_level} dB is higher than the highest noise in the table ({max(noise_table.values())} dB).\")\n",
    "        # If the noise level is between two noises, display a message\n",
    "        else:\n",
    "            lower_noise = find_lower_noise(noise_level, noise_table)\n",
    "            upper_noise = find_upper_noise(noise_level, noise_table)\n",
    "            print(f\"The noise level of {noise_level} dB is between **{lower_noise}** and **{upper_noise}**.\")\n",
    "\n",
    "def find_noise(noise_level, noise_table):\n",
    "    for noise, decibel_level in noise_table.items():\n",
    "        if decibel_level == noise_level:\n",
    "            return noise\n",
    "    return None\n",
    "\n",
    "def find_lower_noise(noise_level, noise_table):\n",
    "    for noise, decibel_level in noise_table.items():\n",
    "        if decibel_level < noise_level:\n",
    "            return noise\n",
    "    return None\n",
    "\n",
    "def find_upper_noise(noise_level, noise_table):\n",
    "    for noise, decibel_level in noise_table.items():\n",
    "        if decibel_level > noise_level:\n",
    "            return noise\n",
    "    return None\n",
    "\n",
    "if __name__ == \"__main__\":\n",
    "    main()\n"
   ]
  },
  {
   "cell_type": "markdown",
   "id": "62350a3f",
   "metadata": {},
   "source": [
    " ![Texto alternativo](.jupyter\\imagenes\\Captura_nueve.JPG)\n"
   ]
  },
  {
   "cell_type": "code",
   "execution_count": null,
   "id": "029d8e94",
   "metadata": {},
   "outputs": [
    {
     "name": "stdout",
     "output_type": "stream",
     "text": [
      "C4: 261.63 Hz\n",
      "C#4: 277.16 Hz\n",
      "D4: 293.66 Hz\n",
      "D#4: 311.13 Hz\n",
      "E4: 329.63 Hz\n",
      "F4: 349.23 Hz\n",
      "F#4: 369.99 Hz\n",
      "G4: 392.0 Hz\n",
      "G#4: 415.32 Hz\n",
      "A4: 440.0 Hz\n",
      "A#4: 466.16 Hz\n",
      "B4: 493.88 Hz\n"
     ]
    }
   ],
   "source": [
    "def main():\n",
    "    # Define the notes and their frequencies\n",
    "    notes = {\n",
    "        \"C4\": 261.63,\n",
    "        \"C#4\": 277.16,\n",
    "        \"D4\": 293.66,\n",
    "        \"D#4\": 311.13,\n",
    "        \"E4\": 329.63,\n",
    "        \"F4\": 349.23,\n",
    "        \"F#4\": 369.99,\n",
    "        \"G4\": 392.00,\n",
    "        \"G#4\": 415.32,\n",
    "        \"A4\": 440.00,\n",
    "        \"A#4\": 466.16,\n",
    "        \"B4\": 493.88\n",
    "    }\n",
    "\n",
    "    # Print the notes and their frequencies\n",
    "    for note, frequency in notes.items():\n",
    "        print(f\"{note}: {frequency} Hz\")\n",
    "\n",
    "if __name__ == \"__main__\":\n",
    "    main()\n"
   ]
  },
  {
   "cell_type": "markdown",
   "id": "0b1d517b",
   "metadata": {},
   "source": [
    " ![Texto alternativo](.jupyter\\imagenes\\ejer_10.JPG)\n"
   ]
  },
  {
   "cell_type": "code",
   "execution_count": null,
   "id": "ce2a1c21",
   "metadata": {},
   "outputs": [
    {
     "name": "stdout",
     "output_type": "stream",
     "text": [
      "The person on the $50 bill is Ulysses S. Grant.\n"
     ]
    }
   ],
   "source": [
    "def main():\n",
    "    # Define a dictionary mapping denominations to people\n",
    "    denomination_to_person = {\n",
    "        \"$1\": \"George Washington\",\n",
    "        \"$2\": \"Thomas Jefferson\",\n",
    "        \"$5\": \"Abraham Lincoln\",\n",
    "        \"$10\": \"Alexander Hamilton\",\n",
    "        \"$20\": \"Andrew Jackson\",\n",
    "        \"$50\": \"Ulysses S. Grant\"\n",
    "\n",
    "    }\n",
    "\n",
    "    # Get the denomination from the user\n",
    "    denomination = input(\"Enter the denomination of the bill ($1, $2, $5, $10, $20, or $50): \")\n",
    "\n",
    "    # Check if the denomination is valid\n",
    "    if denomination not in denomination_to_person:\n",
    "        print(\"Invalid denomination. Please enter one of $1, $2, $5, $10, $20, or $50.\")\n",
    "        return\n",
    "\n",
    "    # Get the person from the dictionary\n",
    "    person = denomination_to_person[denomination]\n",
    "\n",
    "    # Display the person's name\n",
    "    print(f\"The person on the {denomination} bill is {person}.\")\n",
    "\n",
    "if __name__ == \"__main__\":\n",
    "    main()\n"
   ]
  },
  {
   "cell_type": "markdown",
   "id": "a2ddea25",
   "metadata": {},
   "source": [
    " ![Texto alternativo](.jupyter\\imagenes\\once_plus.JPG)\n"
   ]
  },
  {
   "cell_type": "code",
   "execution_count": null,
   "id": "8ae3dc66",
   "metadata": {},
   "outputs": [
    {
     "ename": "ValueError",
     "evalue": "invalid literal for int() with base 10: 'February'",
     "output_type": "error",
     "traceback": [
      "\u001b[1;31m---------------------------------------------------------------------------\u001b[0m",
      "\u001b[1;31mValueError\u001b[0m                                Traceback (most recent call last)",
      "Cell \u001b[1;32mIn[1], line 40\u001b[0m\n\u001b[0;32m     37\u001b[0m     \u001b[38;5;28mprint\u001b[39m(\u001b[38;5;124mf\u001b[39m\u001b[38;5;124m\"\u001b[39m\u001b[38;5;124mThe season for \u001b[39m\u001b[38;5;132;01m{\u001b[39;00mmonth_name\u001b[38;5;132;01m}\u001b[39;00m\u001b[38;5;124m \u001b[39m\u001b[38;5;132;01m{\u001b[39;00mday\u001b[38;5;132;01m}\u001b[39;00m\u001b[38;5;124m is \u001b[39m\u001b[38;5;132;01m{\u001b[39;00mcurrent_season\u001b[38;5;132;01m}\u001b[39;00m\u001b[38;5;124m.\u001b[39m\u001b[38;5;124m\"\u001b[39m)\n\u001b[0;32m     39\u001b[0m \u001b[38;5;28;01mif\u001b[39;00m \u001b[38;5;18m__name__\u001b[39m \u001b[38;5;241m==\u001b[39m \u001b[38;5;124m\"\u001b[39m\u001b[38;5;124m__main__\u001b[39m\u001b[38;5;124m\"\u001b[39m:\n\u001b[1;32m---> 40\u001b[0m     main()\n",
      "Cell \u001b[1;32mIn[1], line 12\u001b[0m, in \u001b[0;36mmain\u001b[1;34m()\u001b[0m\n\u001b[0;32m     10\u001b[0m \u001b[38;5;66;03m# Get the month and day from the user\u001b[39;00m\n\u001b[0;32m     11\u001b[0m month_name \u001b[38;5;241m=\u001b[39m \u001b[38;5;28minput\u001b[39m(\u001b[38;5;124m\"\u001b[39m\u001b[38;5;124mEnter the month name (e.g., January, February, etc.): \u001b[39m\u001b[38;5;124m\"\u001b[39m)\u001b[38;5;241m.\u001b[39mlower()\n\u001b[1;32m---> 12\u001b[0m day \u001b[38;5;241m=\u001b[39m \u001b[38;5;28mint\u001b[39m(\u001b[38;5;28minput\u001b[39m(\u001b[38;5;124m\"\u001b[39m\u001b[38;5;124mEnter the day of the month: \u001b[39m\u001b[38;5;124m\"\u001b[39m))\n\u001b[0;32m     14\u001b[0m \u001b[38;5;66;03m# Check if the month name is valid\u001b[39;00m\n\u001b[0;32m     15\u001b[0m \u001b[38;5;28;01mif\u001b[39;00m month_name \u001b[38;5;129;01mnot\u001b[39;00m \u001b[38;5;129;01min\u001b[39;00m seasons\u001b[38;5;241m.\u001b[39mkeys():\n",
      "\u001b[1;31mValueError\u001b[0m: invalid literal for int() with base 10: 'February'"
     ]
    }
   ],
   "source": [
    "def main():\n",
    "    # Define the seasons and their corresponding months and days\n",
    "    seasons = {\n",
    "        \"Spring\": [(3, 21), (6, 20)],\n",
    "        \"Summer\": [(6, 21), (9, 21)],\n",
    "        \"Autumn\": [(9, 22), (12, 20)],\n",
    "        \"Winter\": [(12, 21), (3, 20)]\n",
    "    }\n",
    "\n",
    "    # Get the month and day from the user\n",
    "    month_name = input(\"Enter the month name (e.g., January, February, etc.): \").lower()\n",
    "    day = int(input(\"Enter the day of the month: \"))\n",
    "\n",
    "    # Check if the month name is valid\n",
    "    if month_name not in seasons.keys():\n",
    "        print(\"Invalid month name. Please enter a valid month name.\")\n",
    "        return\n",
    "\n",
    "    # Convert the month name to a month number\n",
    "    month_number = [month for month, _ in seasons.items()].index(month_name) + 1\n",
    "\n",
    "    # Check if the day is valid\n",
    "    if not (1 <= day <= 31):\n",
    "        print(\"Invalid day. Please enter a day between 1 and 31.\")\n",
    "        return\n",
    "\n",
    "    # Determine the season\n",
    "    for season, date_range in seasons.items():\n",
    "        start_month, start_day = date_range[0]\n",
    "        end_month, end_day = date_range[1]\n",
    "\n",
    "        if (month_number == start_month and day >= start_day) or (month_number == end_month and day <= end_day):\n",
    "            current_season = season\n",
    "            break\n",
    "\n",
    "    # Display the season\n",
    "    print(f\"The season for {month_name} {day} is {current_season}.\")\n",
    "\n",
    "if __name__ == \"__main__\":\n",
    "    main()\n"
   ]
  },
  {
   "cell_type": "markdown",
   "id": "31008a5b",
   "metadata": {},
   "source": [
    " ![Texto alternativo](.jupyter\\imagenes\\zodiaco.JPG)\n"
   ]
  },
  {
   "cell_type": "code",
   "execution_count": null,
   "id": "9885f357",
   "metadata": {},
   "outputs": [
    {
     "ename": "ValueError",
     "evalue": "invalid literal for int() with base 10: ''",
     "output_type": "error",
     "traceback": [
      "\u001b[1;31m---------------------------------------------------------------------------\u001b[0m",
      "\u001b[1;31mValueError\u001b[0m                                Traceback (most recent call last)",
      "Cell \u001b[1;32mIn[3], line 80\u001b[0m\n\u001b[0;32m     77\u001b[0m     \u001b[38;5;28mprint\u001b[39m(\u001b[38;5;124mf\u001b[39m\u001b[38;5;124m\"\u001b[39m\u001b[38;5;124mYour zodiac sign is \u001b[39m\u001b[38;5;132;01m{\u001b[39;00mzodiac_sign\u001b[38;5;132;01m}\u001b[39;00m\u001b[38;5;124m.\u001b[39m\u001b[38;5;124m\"\u001b[39m)\n\u001b[0;32m     79\u001b[0m \u001b[38;5;28;01mif\u001b[39;00m \u001b[38;5;18m__name__\u001b[39m \u001b[38;5;241m==\u001b[39m \u001b[38;5;124m\"\u001b[39m\u001b[38;5;124m__main__\u001b[39m\u001b[38;5;124m\"\u001b[39m:\n\u001b[1;32m---> 80\u001b[0m     main()\n",
      "Cell \u001b[1;32mIn[3], line 56\u001b[0m, in \u001b[0;36mmain\u001b[1;34m()\u001b[0m\n\u001b[0;32m     54\u001b[0m \u001b[38;5;66;03m# Get the month and day from the user\u001b[39;00m\n\u001b[0;32m     55\u001b[0m month \u001b[38;5;241m=\u001b[39m \u001b[38;5;28minput\u001b[39m(\u001b[38;5;124m\"\u001b[39m\u001b[38;5;124mEnter your birth month (e.g., March, April, etc.): \u001b[39m\u001b[38;5;124m\"\u001b[39m)\u001b[38;5;241m.\u001b[39mcapitalize()\n\u001b[1;32m---> 56\u001b[0m day \u001b[38;5;241m=\u001b[39m \u001b[38;5;28mint\u001b[39m(\u001b[38;5;28minput\u001b[39m(\u001b[38;5;124m\"\u001b[39m\u001b[38;5;124mEnter your birth day: \u001b[39m\u001b[38;5;124m\"\u001b[39m))\n\u001b[0;32m     58\u001b[0m \u001b[38;5;66;03m# Check if the month is valid\u001b[39;00m\n\u001b[0;32m     59\u001b[0m \u001b[38;5;28;01mif\u001b[39;00m month \u001b[38;5;129;01mnot\u001b[39;00m \u001b[38;5;129;01min\u001b[39;00m zodiac_signs:\n",
      "\u001b[1;31mValueError\u001b[0m: invalid literal for int() with base 10: ''"
     ]
    }
   ],
   "source": [
    "def main():\n",
    "    # Define a dictionary mapping months and days to zodiac signs\n",
    "    zodiac_signs = {\n",
    "        \"March\": {\n",
    "            \"21-31\": \"Aries\",\n",
    "            \"1-20\": \"Pisces\"\n",
    "        },\n",
    "        \"April\": {\n",
    "            \"1-19\": \"Aries\",\n",
    "            \"20-30\": \"Taurus\"\n",
    "        },\n",
    "        \"May\": {\n",
    "            \"1-20\": \"Taurus\",\n",
    "            \"21-31\": \"Gemini\"\n",
    "        },\n",
    "        \"June\": {\n",
    "            \"1-20\": \"Gemini\",\n",
    "            \"21-30\": \"Cancer\"\n",
    "        },\n",
    "        \"July\": {\n",
    "            \"1-22\": \"Cancer\",\n",
    "            \"23-31\": \"Leo\"\n",
    "        },\n",
    "        \"August\": {\n",
    "            \"1-22\": \"Leo\",\n",
    "            \"23-31\": \"Virgo\"\n",
    "        },\n",
    "        \"September\": {\n",
    "            \"1-22\": \"Virgo\",\n",
    "            \"23-30\": \"Libra\"\n",
    "        },\n",
    "        \"October\": {\n",
    "            \"1-22\": \"Libra\",\n",
    "            \"23-31\": \"Scorpio\"\n",
    "        },\n",
    "        \"November\": {\n",
    "            \"1-21\": \"Scorpio\",\n",
    "            \"22-30\": \"Sagittarius\"\n",
    "        },\n",
    "        \"December\": {\n",
    "            \"1-21\": \"Sagittarius\",\n",
    "            \"22-31\": \"Capricorn\"\n",
    "        },\n",
    "        \"January\": {\n",
    "            \"1-19\": \"Capricorn\",\n",
    "            \"20-31\": \"Aquarius\"\n",
    "        },\n",
    "        \"February\": {\n",
    "            \"1-18\": \"Aquarius\",\n",
    "            \"19-29\": \"Pisces\"\n",
    "        }\n",
    "    }\n",
    "\n",
    "    # Get the month and day from the user\n",
    "    month = input(\"Enter your birth month (e.g., March, April, etc.): \").capitalize()\n",
    "    day = int(input(\"Enter your birth day: \"))\n",
    "\n",
    "    # Check if the month is valid\n",
    "    if month not in zodiac_signs:\n",
    "        print(\"Invalid month. Please enter a valid month.\")\n",
    "        return\n",
    "\n",
    "    # Get the zodiac sign\n",
    "    zodiac_sign = None\n",
    "    for date_range, sign in zodiac_signs[month].items():\n",
    "        start_day, end_day = date_range.split(\"-\")\n",
    "        if start_day <= day <= end_day:\n",
    "            zodiac_sign = sign\n",
    "            break\n",
    "\n",
    "    # Check if the day is valid\n",
    "    if zodiac_sign is None:\n",
    "        print(\"Invalid day. Please enter a valid day for the selected month.\")\n",
    "        return\n",
    "\n",
    "    # Display the zodiac sign\n",
    "    print(f\"Your zodiac sign is {zodiac_sign}.\")\n",
    "\n",
    "if __name__ == \"__main__\":\n",
    "    main()\n"
   ]
  },
  {
   "cell_type": "markdown",
   "id": "c815bf9e",
   "metadata": {},
   "source": [
    "#  ![Texto alternativo](.jupyter\\imagenes\\ola_la.JPG)\n"
   ]
  },
  {
   "cell_type": "code",
   "execution_count": null,
   "id": "f375a7d9",
   "metadata": {},
   "outputs": [
    {
     "name": "stdout",
     "output_type": "stream",
     "text": [
      "Un terremoto de magnitud 3.0 se considera un terremoto Leve.\n"
     ]
    }
   ],
   "source": [
    "def main():\n",
    "  \"\"\"\n",
    "  Lee una magnitud del usuario y muestra el descriptor apropiado como parte de un mensaje significativo.\n",
    "  \"\"\"\n",
    "\n",
    "  # Lee la magnitud del usuario\n",
    "  magnitud = float(input(\"Ingrese la magnitud del terremoto: \"))\n",
    "\n",
    "  # Determina el descriptor correspondiente\n",
    "  if magnitud < 2.0:\n",
    "    descriptor = \"Micro\"\n",
    "  elif magnitud < 3.0:\n",
    "    descriptor = \"Muy leve\"\n",
    "  elif magnitud < 4.0:\n",
    "    descriptor = \"Leve\"\n",
    "  elif magnitud < 5.0:\n",
    "    descriptor = \"Ligero\"\n",
    "  elif magnitud < 6.0:\n",
    "    descriptor = \"Moderado\"\n",
    "  elif magnitud < 7.0:\n",
    "    descriptor = \"Fuerte\"\n",
    "  elif magnitud < 8.0:\n",
    "    descriptor = \"Mayor\"\n",
    "  elif magnitud < 10.0:\n",
    "    descriptor = \"Magnífico\"\n",
    "  else:\n",
    "    descriptor = \"Meteórico\"\n",
    "\n",
    "  # Muestra el mensaje significativo\n",
    "  print(f\"Un terremoto de magnitud {magnitud} se considera un terremoto {descriptor}.\")\n",
    "\n",
    "if __name__ == \"__main__\":\n",
    "  main()\n"
   ]
  },
  {
   "cell_type": "markdown",
   "id": "3c141390",
   "metadata": {},
   "source": [
    "# #  ![Texto alternativo](.jupyter\\imagenes\\ca_tor_ce.JPG)\n"
   ]
  },
  {
   "cell_type": "code",
   "execution_count": null,
   "id": "bcc5650d",
   "metadata": {},
   "outputs": [
    {
     "name": "stdout",
     "output_type": "stream",
     "text": [
      "Letra de calificación no válida.\n"
     ]
    }
   ],
   "source": [
    "def main():\n",
    "  \"\"\"\n",
    "  Lee una letra de calificación del usuario y muestra el número equivalente de puntos de calificación.\n",
    "  \"\"\"\n",
    "\n",
    "  # Diccionario que almacena la correspondencia entre letras de calificación y puntos de calificación\n",
    "  calificaciones = {\n",
    "    \"A+\": 4.0,\n",
    "    \"A\": 4.0,\n",
    "    \"A-\": 3.7,\n",
    "    \"B+\": 3.3,\n",
    "    \"B\": 3.0,\n",
    "    \"B-\": 2.7,\n",
    "    \"C+\": 2.3,\n",
    "    \"C\": 2.0,\n",
    "    \"C-\": 1.7,\n",
    "    \"D+\": 1.3,\n",
    "    \"D\": 1.0,\n",
    "    \"F\": 0.0,\n",
    "  }\n",
    "\n",
    "  # Lee la letra de calificación del usuario\n",
    "  letra_calificacion = input(\"Ingrese la letra de calificación: \").upper()\n",
    "\n",
    "  # Verifica si la letra de calificación es válida\n",
    "  if letra_calificacion not in calificaciones:\n",
    "    print(\"Letra de calificación no válida.\")\n",
    "    return\n",
    "\n",
    "  # Calcula y muestra el número equivalente de puntos de calificación\n",
    "  puntos_calificacion = calificaciones[letra_calificacion]\n",
    "  print(f\"La letra de calificación {letra_calificacion} equivale a {puntos_calificacion} puntos de calificación.\")\n",
    "\n",
    "if __name__ == \"__main__\":\n",
    "  main()\n"
   ]
  },
  {
   "cell_type": "markdown",
   "id": "a5576e27",
   "metadata": {},
   "source": [
    "# #  ![Texto alternativo](.jupyter\\imagenes\\quilin.JPG)\n"
   ]
  },
  {
   "cell_type": "code",
   "execution_count": null,
   "id": "af9dacdb",
   "metadata": {},
   "outputs": [
    {
     "name": "stdout",
     "output_type": "stream",
     "text": [
      "El desempeño del empleado con calificación 0.6 es Meritorio. El monto del aumento es de $1440.00.\n"
     ]
    }
   ],
   "source": [
    "def main():\n",
    "  \"\"\"\n",
    "  Lee una calificación del usuario e indica si el desempeño de esa calificación es inaceptable, aceptable o meritorio. También se debe informar el monto del aumento del empleado.\n",
    "  \"\"\"\n",
    "\n",
    "  # Diccionario que almacena la correspondencia entre calificaciones y descriptores\n",
    "  calificaciones = {\n",
    "    0.0: \"Inaceptable\",\n",
    "    0.4: \"Aceptable\",\n",
    "    0.6: \"Meritorio\"\n",
    "  }\n",
    "\n",
    "  # Lee la calificación del usuario\n",
    "  calificacion = float(input(\"Ingrese la calificación del empleado: \"))\n",
    "\n",
    "  # Verifica si la calificación es válida\n",
    "  if calificacion not in calificaciones:\n",
    "    print(\"Calificación no válida.\")\n",
    "    return\n",
    "\n",
    "  # Obtiene el descriptor correspondiente a la calificación\n",
    "  descriptor = calificaciones[calificacion]\n",
    "\n",
    "  # Calcula el monto del aumento\n",
    "  aumento = 2400.00 * calificacion\n",
    "\n",
    "  # Muestra el mensaje correspondiente\n",
    "  print(f\"El desempeño del empleado con calificación {calificacion} es {descriptor}. El monto del aumento es de ${aumento:.2f}.\")\n",
    "\n",
    "if __name__ == \"__main__\":\n",
    "  main()\n"
   ]
  },
  {
   "cell_type": "markdown",
   "id": "8a71438c",
   "metadata": {},
   "source": [
    "## #  ![Texto alternativo](.jupyter\\imagenes\\dieci_now.JPG)\n"
   ]
  },
  {
   "cell_type": "code",
   "execution_count": null,
   "id": "d1dd1aec",
   "metadata": {},
   "outputs": [],
   "source": [
    "def main():\n",
    "  \"\"\"\n",
    "  Convierte la cantidad de dinero en euros a otra denominación.\n",
    "  \"\"\"\n",
    "\n",
    "  # Tasas de cambio\n",
    "  tasas_cambio = {\n",
    "    \"Dólar americano (USD)\": 1.08,\n",
    "    \"Dólar australiano (AUD)\": 1.54,\n",
    "    \"Dólar canadiense (CAD)\": 1.43,\n",
    "    \"Libra esterlina (GBP)\": 0.88,\n",
    "    \"Yuan chino (CNY)\": 7.78,\n",
    "    \"Rublo (RUB)\": 72.34,\n",
    "    \"Franco suizo (CHF)\": 1.01,\n",
    "  }\n",
    "\n",
    "  # Solicita la cantidad de euros al usuario\n",
    "  cantidad_euros = float(input(\"Ingrese la cantidad en euros (€): \"))\n",
    "\n",
    "  # Solicita la denominación a la que desea convertir\n",
    "  denominacion_destino = input(\"Ingrese la denominación a la que desea convertir: \")\n",
    "\n",
    "  # Verifica si la denominación de destino es válida\n",
    "  if denominacion_destino not in tasas_cambio:\n",
    "    print(f\"La denominación '{denominacion_destino}' no es válida.\")\n",
    "    return\n",
    "\n",
    "  # Calcula la cantidad en la denominación de destino\n",
    "  tasa_cambio = tasas_cambio[denominacion_destino]\n",
    "  cantidad_destino = cantidad_euros * tasa_cambio\n",
    "\n",
    "  # Muestra el resultado\n",
    "  print(f\"{cantidad_euros:.2f} euros equivalen a {cantidad_destino:.2f} {denominacion_destino}.\")\n",
    "\n",
    "if __name__ == \"__main__\":\n",
    "  main()\n"
   ]
  },
  {
   "cell_type": "markdown",
   "id": "5b4ffabf",
   "metadata": {},
   "source": [
    "# 17. Vocal o consonante\n",
    " En este ejercicio, creará un programa que lea una letra del alfabeto del usuario. Si el \n",
    "usuario ingresa ‘a’, ‘e’, ‘i’, ‘o’ o ‘u’ entonces su programa debería mostrar un mensaje que \n",
    "indica que la letra ingresada es una vocal. De lo contrario, su programa debería mostrar \n",
    "un mensaje que indique que la letra es una consonante. Considerar solo minúsculas.\n"
   ]
  },
  {
   "cell_type": "code",
   "execution_count": null,
   "id": "a2172aa7",
   "metadata": {},
   "outputs": [
    {
     "name": "stdout",
     "output_type": "stream",
     "text": [
      "La letra 'a' es una vocal.\n"
     ]
    }
   ],
   "source": [
    "def main():\n",
    "  \"\"\"\n",
    "  Determina si una letra ingresada por el usuario es vocal o consonante.\n",
    "  \"\"\"\n",
    "\n",
    "  # Lista de vocales minúsculas\n",
    "  vocales = [\"a\", \"e\", \"i\", \"o\", \"u\"]\n",
    "\n",
    "  # Solicita la letra al usuario\n",
    "  letra = input(\"Ingrese una letra minúscula: \")\n",
    "\n",
    "  # Verifica si la letra es una vocal\n",
    "  if letra in vocales:\n",
    "    print(f\"La letra '{letra}' es una vocal.\")\n",
    "  else:\n",
    "    print(f\"La letra '{letra}' es una consonante.\")\n",
    "\n",
    "if __name__ == \"__main__\":\n",
    "  main()\n"
   ]
  },
  {
   "cell_type": "markdown",
   "id": "93be5dff",
   "metadata": {},
   "source": [
    "# 18. Clasificando Triángulos\n",
    " Un triángulo se puede clasificar según la longitud de sus lados como equilátero\n",
    " , \n",
    "isósceles\n",
    " o\n",
    " escaleno. \n",
    "Un triángulo es equilátero\n",
    " longitud).\n",
    " Un triángulo es isósceles\n",
    " si todos sus lados son iguales (tienen  los tres la misma \n",
    "si tiene dos lados iguales y el otro diferente (dos lados tienen \n",
    "la misma longitud y el otro lado tiene longitud diferente)\n",
    " Un triángulo es escaleno si todos sus lados son diferentes.\n",
    " Escriba un programa que lea las longitudes de los tres lados de un triángulo dadas por \n",
    "el usuario. Luego muestra un mensaje que indica el tipo de triángulo.\n"
   ]
  },
  {
   "cell_type": "code",
   "execution_count": null,
   "id": "b4ce52a0",
   "metadata": {},
   "outputs": [
    {
     "name": "stdout",
     "output_type": "stream",
     "text": [
      "El triángulo es Isósceles.\n"
     ]
    }
   ],
   "source": [
    "def main():\n",
    "  \"\"\"\n",
    "  Clasifica un triángulo según la longitud de sus lados.\n",
    "  \"\"\"\n",
    "\n",
    "  # Solicita las longitudes de los lados al usuario\n",
    "  lado_a = float(input(\"Ingrese la longitud del lado A: \"))\n",
    "  lado_b = float(input(\"Ingrese la longitud del lado B: \"))\n",
    "  lado_c = float(input(\"Ingrese la longitud del lado C: \"))\n",
    "\n",
    "  # Determina el tipo de triángulo\n",
    "  if lado_a == lado_b and lado_b == lado_c:\n",
    "    tipo_triangulo = \"Equilátero\"\n",
    "  elif lado_a == lado_b or lado_a == lado_c or lado_b == lado_c:\n",
    "    tipo_triangulo = \"Isósceles\"\n",
    "  else:\n",
    "    tipo_triangulo = \"Escaleno\"\n",
    "\n",
    "  # Muestra el tipo de triángulo\n",
    "  print(f\"El triángulo es {tipo_triangulo}.\")\n",
    "\n",
    "if __name__ == \"__main__\":\n",
    "  main()\n"
   ]
  },
  {
   "cell_type": "markdown",
   "id": "681124d4",
   "metadata": {},
   "source": [
    "# 19. Determinar tipo de variable (No hacer)\n",
    " Escriba un programa donde se le pida al usuario que introduzca un valor cualquiera y \n",
    "que el programa imprima de que tipo es. También debe imprimirse un error en que \n",
    "caso de introducir un valor con:\n",
    " Entero = int\n",
    " Flotante = float\n",
    " Cadena = str    \n",
    "Complejo = complex    2+3j\n",
    " Booleano = bool\n",
    " Tupla = tuple    (34, 12)\n",
    " Diccionario = dict         \n",
    "Lista =  list  [2]"
   ]
  },
  {
   "cell_type": "code",
   "execution_count": null,
   "id": "27f011de",
   "metadata": {},
   "outputs": [
    {
     "name": "stdout",
     "output_type": "stream",
     "text": [
      "El tipo de dato del valor '40' es: Entero\n"
     ]
    }
   ],
   "source": [
    "def main():\n",
    "  \"\"\"\n",
    "  Determina el tipo de dato de un valor ingresado por el usuario.\n",
    "  \"\"\"\n",
    "\n",
    "  # Solicita el valor al usuario\n",
    "  valor = input(\"Ingrese un valor: \")\n",
    "\n",
    "  # Convierte el valor a su tipo correspondiente si es posible\n",
    "  try:\n",
    "    valor_convertido = int(valor)\n",
    "    tipo_dato = \"Entero\"\n",
    "  except ValueError:\n",
    "    try:\n",
    "      valor_convertido = float(valor)\n",
    "      tipo_dato = \"Flotante\"\n",
    "    except ValueError:\n",
    "      try:\n",
    "        valor_convertido = str(valor)\n",
    "        tipo_dato = \"Cadena\"\n",
    "      except ValueError:\n",
    "        try:\n",
    "          valor_convertido = complex(valor)\n",
    "          tipo_dato = \"Complejo\"\n",
    "        except ValueError:\n",
    "          try:\n",
    "            valor_convertido = bool(valor)\n",
    "            tipo_dato = \"Booleano\"\n",
    "          except ValueError:\n",
    "            try:\n",
    "              valor_convertido = tuple(eval(valor))\n",
    "              tipo_dato = \"Tupla\"\n",
    "            except ValueError:\n",
    "              try:\n",
    "                valor_convertido = dict(eval(valor))\n",
    "                tipo_dato = \"Diccionario\"\n",
    "              except ValueError:\n",
    "                try:\n",
    "                  valor_convertido = list(eval(valor))\n",
    "                  tipo_dato = \"Lista\"\n",
    "                except ValueError:\n",
    "                  tipo_dato = \"Tipo desconocido\"\n",
    "\n",
    "  # Muestra el tipo de dato\n",
    "  print(f\"El tipo de dato del valor '{valor}' es: {tipo_dato}\")\n",
    "\n",
    "if __name__ == \"__main__\":\n",
    "  main()\n"
   ]
  },
  {
   "cell_type": "markdown",
   "id": "5fb13eb0",
   "metadata": {},
   "source": [
    "## #  ![Texto alternativo](.jupyter\\imagenes\\shajma.JPG)\n"
   ]
  },
  {
   "cell_type": "code",
   "execution_count": 115,
   "id": "813cbfad",
   "metadata": {},
   "outputs": [
    {
     "name": "stdout",
     "output_type": "stream",
     "text": [
      "El cuadrado a1 es negro.\n"
     ]
    }
   ],
   "source": [
    "def main():\n",
    "  \"\"\"\n",
    "  Determina el color de un cuadrado en un tablero de ajedrez en función de su posición.\n",
    "\n",
    "  Args:\n",
    "    None\n",
    "\n",
    "  Returns:\n",
    "    None\n",
    "  \"\"\"\n",
    "\n",
    "  # Solicita la posición del cuadrado al usuario\n",
    "  posicion = input(\"Ingrese la posición del cuadrado (letra y número): \")\n",
    "\n",
    "  # Obtiene la letra de la columna y el número de la fila\n",
    "  columna = posicion[0].lower()\n",
    "  fila = int(posicion[1:])\n",
    "\n",
    "  # Determina el color del cuadrado\n",
    "  if (fila % 2 == 0 and columna in \"ab\") or (fila % 2 == 1 and columna in \"cdfegh\"):\n",
    "    color = \"blanco\"\n",
    "  else:\n",
    "    color = \"negro\"\n",
    "\n",
    "  # Muestra el color del cuadrado\n",
    "  print(f\"El cuadrado {posicion} es {color}.\")\n",
    "\n",
    "if __name__ == \"__main__\":\n",
    "  main()\n"
   ]
  }
 ],
 "metadata": {
  "kernelspec": {
   "display_name": "Python 3 (ipykernel)",
   "language": "python",
   "name": "python3"
  },
  "language_info": {
   "codemirror_mode": {
    "name": "ipython",
    "version": 3
   },
   "file_extension": ".py",
   "mimetype": "text/x-python",
   "name": "python",
   "nbconvert_exporter": "python",
   "pygments_lexer": "ipython3",
   "version": "3.11.9"
  }
 },
 "nbformat": 4,
 "nbformat_minor": 5
}
