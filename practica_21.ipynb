{
 "cells": [
  {
   "cell_type": "markdown",
   "metadata": {},
   "source": [
    "# Practica # 21 - Tuplas"
   ]
  },
  {
   "cell_type": "markdown",
   "metadata": {},
   "source": [
    "# 1. Crea una tupla con números enteros con algunos de ellos repetidos,pide un numero por teclado e indica cuantas veces se repite si estuviese en la tupla."
   ]
  },
  {
   "cell_type": "code",
   "execution_count": 3,
   "metadata": {},
   "outputs": [],
   "source": [
    "def contar_repeticiones(tupla_numeros, numero_usuario):\n",
    "  \"\"\"\n",
    "  Función que cuenta la cantidad de veces que un número se repite en una tupla.\n",
    "\n",
    "  Args:\n",
    "    tupla_numeros: La tupla que contiene los números enteros.\n",
    "    numero_usuario: El número que se busca en la tupla.\n",
    "\n",
    "  Returns:\n",
    "    El número de veces que el `numero_usuario` se repite en la tupla.\n",
    "  \"\"\"\n",
    "\n",
    "  contador = tupla_numeros.count(numero_usuario)\n",
    "  return contador\n",
    "\n",
    "def main():\n",
    "  \"\"\"\n",
    "  Función principal que crea la tupla, solicita el número al usuario y muestra el resultado.\n",
    "\n",
    "  Args:\n",
    "    None\n",
    "\n",
    "  Returns:\n",
    "    None\n",
    "  \"\"\"\n",
    "\n",
    "  tupla_numeros = (1, 2, 3, 4, 1, 5, 6, 3, 2)\n",
    "  numero_usuario = int(input(\"Introduce un número entero: \"))\n",
    "\n",
    "  repeticiones = contar_repeticiones(tupla_numeros, numero_usuario)\n",
    "\n",
    "  if repeticiones > 0:\n",
    "    print(f\"El número {numero_usuario} se repite {repeticiones} veces en la tupla.\")\n",
    "  else:\n",
    "    print(f\"El número {numero_usuario} no está presente en la tupla.\")\n",
    "\n",
    "if __name__ == \"__main__\":\n",
    "  main()\n"
   ]
  },
  {
   "cell_type": "markdown",
   "metadata": {},
   "source": [
    "# 2. Crea una tupla con numeros  eindica el numero con mayor valor y el que menor tenga"
   ]
  },
  {
   "cell_type": "code",
   "execution_count": null,
   "metadata": {},
   "outputs": [
    {
     "name": "stdout",
     "output_type": "stream",
     "text": [
      "El número mínimo en la tupla es 1.\n",
      "El número máximo en la tupla es 6.\n"
     ]
    }
   ],
   "source": [
    "def encontrar_minimo_maximo(tupla_numeros):\n",
    "  \"\"\"\n",
    "  Función que encuentra el valor mínimo y máximo en una tupla de números.\n",
    "\n",
    "  Args:\n",
    "    tupla_numeros: La tupla que contiene los números.\n",
    "\n",
    "  Returns:\n",
    "    Una tupla que contiene el valor mínimo y el valor máximo.\n",
    "  \"\"\"\n",
    "\n",
    "  if not tupla_numeros:  # Si la tupla está vacía\n",
    "    return None\n",
    "\n",
    "  minimo = maximo = tupla_numeros[0]  # Inicializar con el primer elemento\n",
    "\n",
    "  for numero in tupla_numeros[1:]:  # Recorrer los demás elementos\n",
    "    if numero < minimo:\n",
    "      minimo = numero\n",
    "    elif numero > maximo:\n",
    "      maximo = numero\n",
    "\n",
    "  return minimo, maximo\n",
    "\n",
    "def main():\n",
    "  \"\"\"\n",
    "  Función principal que crea la tupla, llama a la función de búsqueda y muestra los resultados.\n",
    "\n",
    "  Args:\n",
    "    None\n",
    "\n",
    "  Returns:\n",
    "    None\n",
    "  \"\"\"\n",
    "\n",
    "  tupla_numeros = (5, 2, 4, 1, 6, 3)  # Ejemplo de tupla con números\n",
    "\n",
    "  minimo, maximo = encontrar_minimo_maximo(tupla_numeros)\n",
    "\n",
    "  if minimo and maximo:\n",
    "    print(f\"El número mínimo en la tupla es {minimo}.\")\n",
    "    print(f\"El número máximo en la tupla es {maximo}.\")\n",
    "  else:\n",
    "    print(\"La tupla está vacía o no contiene números.\")\n",
    "\n",
    "if __name__ == \"__main__\":\n",
    "  main()\n"
   ]
  },
  {
   "cell_type": "markdown",
   "metadata": {},
   "source": [
    "# 3. Crea una tupla con valores ya predefinidos del 1 al 10, pide un índice por teclado y muestra los valores de la tupla\n"
   ]
  },
  {
   "cell_type": "code",
   "execution_count": null,
   "metadata": {},
   "outputs": [
    {
     "name": "stdout",
     "output_type": "stream",
     "text": [
      "El valor en el índice 4 es 5.\n"
     ]
    }
   ],
   "source": [
    "def mostrar_valor_tupla(tupla_numeros, indice_usuario):\n",
    "  \"\"\"\n",
    "  Función que muestra el valor de un elemento en la tupla según el índice ingresado por el usuario.\n",
    "\n",
    "  Args:\n",
    "    tupla_numeros: La tupla que contiene los números del 1 al 10.\n",
    "    indice_usuario: El índice ingresado por el usuario.\n",
    "\n",
    "  Returns:\n",
    "    None\n",
    "  \"\"\"\n",
    "\n",
    "  # Validar el índice\n",
    "  if 0 <= indice_usuario < len(tupla_numeros):  # Dentro del rango válido\n",
    "    valor = tupla_numeros[indice_usuario]\n",
    "    print(f\"El valor en el índice {indice_usuario} es {valor}.\")\n",
    "  else:\n",
    "    print(f\"Error: El índice {indice_usuario} está fuera del rango de la tupla (0 a {len(tupla_numeros)-1}).\")\n",
    "\n",
    "def main():\n",
    "  \"\"\"\n",
    "  Función principal que crea la tupla, solicita el índice al usuario y muestra el valor.\n",
    "\n",
    "  Args:\n",
    "    None\n",
    "\n",
    "  Returns:\n",
    "    None\n",
    "  \"\"\"\n",
    "\n",
    "  tupla_numeros = tuple(range(1, 11))  # Crea tupla del 1 al 10 con range() y tuple()\n",
    "\n",
    "  indice_usuario = int(input(\"Introduce un índice (0 a 9): \"))\n",
    "\n",
    "  mostrar_valor_tupla(tupla_numeros, indice_usuario)\n",
    "\n",
    "if __name__ == \"__main__\":\n",
    "  main()\n"
   ]
  }
 ],
 "metadata": {
  "kernelspec": {
   "display_name": "python_1level",
   "language": "python",
   "name": "python3"
  },
  "language_info": {
   "codemirror_mode": {
    "name": "ipython",
    "version": 3
   },
   "file_extension": ".py",
   "mimetype": "text/x-python",
   "name": "python",
   "nbconvert_exporter": "python",
   "pygments_lexer": "ipython3",
   "version": "3.11.9"
  }
 },
 "nbformat": 4,
 "nbformat_minor": 2
}
