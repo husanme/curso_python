{
 "cells": [
  {
   "cell_type": "markdown",
   "metadata": {},
   "source": [
    " # Función factorial recursiva:\n"
   ]
  },
  {
   "cell_type": "code",
   "execution_count": 6,
   "metadata": {},
   "outputs": [
    {
     "name": "stdout",
     "output_type": "stream",
     "text": [
      "Resultado =  24\n"
     ]
    }
   ],
   "source": [
    "def refact(n):\n",
    "  if n == 0:\n",
    "    return 1\n",
    "  else:\n",
    "    p = n * refact(n-1)\n",
    "    return p\n",
    "\n",
    "num = int(input('Enter any number: '))\n",
    "factorial = refact(num)\n",
    "print('Resultado = ', factorial)\n"
   ]
  },
  {
   "cell_type": "code",
   "execution_count": 10,
   "metadata": {},
   "outputs": [
    {
     "name": "stdout",
     "output_type": "stream",
     "text": [
      "Resultado =  120\n"
     ]
    }
   ],
   "source": [
    "def refact (n):\n",
    "    if n == 0:\n",
    "        return 1\n",
    "    else:\n",
    "        p = n*refact(n-1)\n",
    "        return p \n",
    "num = int(input('Enter any number: '))    \n",
    "factorial = refact (num)\n",
    "print('Resultado = ', factorial)\n"
   ]
  },
  {
   "cell_type": "code",
   "execution_count": 12,
   "metadata": {},
   "outputs": [
    {
     "name": "stdout",
     "output_type": "stream",
     "text": [
      "[[1, 1, 3], [1, 2, 3], [1, 3, 3], [2, 1, 3], [2, 2, 3], [2, 3, 3], [3, 1, 3], [3, 2, 3], [3, 3, 3], [], [], [], [], [], [], [], [], [], [], [], [], [], [], [], [], [], []]\n"
     ]
    }
   ],
   "source": [
    "def generar(n):\n",
    "    lista_de_lista = [[] for i in range(n**n)]\n",
    "    pos = 0\n",
    "    for i in range(1, n + 1):\n",
    "        for j in range(1, n + 1):\n",
    "            for k in range(1, n + 1):\n",
    "                t = [i, j, k]\n",
    "            lista_de_lista[pos] = t \n",
    "            pos += 1\n",
    "    return lista_de_lista\n",
    "\n",
    "a = generar(3)\n",
    "print(a)        "
   ]
  }
 ],
 "metadata": {
  "kernelspec": {
   "display_name": "python_1level",
   "language": "python",
   "name": "python3"
  },
  "language_info": {
   "codemirror_mode": {
    "name": "ipython",
    "version": 3
   },
   "file_extension": ".py",
   "mimetype": "text/x-python",
   "name": "python",
   "nbconvert_exporter": "python",
   "pygments_lexer": "ipython3",
   "version": "3.11.9"
  }
 },
 "nbformat": 4,
 "nbformat_minor": 2
}
