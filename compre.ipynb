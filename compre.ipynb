{
 "cells": [
  {
   "cell_type": "markdown",
   "metadata": {},
   "source": [
    "# Práctica 20 . Introducción a Listas"
   ]
  },
  {
   "cell_type": "markdown",
   "metadata": {},
   "source": [
    "# # 1 - Escribir un programa que almacene las asignaturas de un curso (por ejemplo, Matemáticas, Física, Química, Historia y Lengua) en una lista y la muestre por pantalla"
   ]
  },
  {
   "cell_type": "code",
   "execution_count": 51,
   "metadata": {},
   "outputs": [
    {
     "name": "stdout",
     "output_type": "stream",
     "text": [
      "Asignaturas del curso:\n",
      "- Matemáticas\n",
      "- Física\n",
      "- Química\n",
      "- Historia\n",
      "- Lengua\n"
     ]
    }
   ],
   "source": [
    "def mostrar_asignaturas(asignaturas):\n",
    "  \"\"\"\n",
    "  Función que muestra una lista de asignaturas por pantalla.\n",
    "\n",
    "  Args:\n",
    "    asignaturas: La lista que contiene las asignaturas del curso.\n",
    "\n",
    "  Returns:\n",
    "    None\n",
    "  \"\"\"\n",
    "\n",
    "  print(\"Asignaturas del curso:\")\n",
    "  for asignatura in asignaturas:\n",
    "    print(\"-\", asignatura)\n",
    "\n",
    "def main():\n",
    "  \"\"\"\n",
    "  Función principal que crea una lista de asignaturas y la muestra por pantalla.\n",
    "\n",
    "  Args:\n",
    "    None\n",
    "\n",
    "  Returns:\n",
    "    None\n",
    "  \"\"\"\n",
    "\n",
    "  asignaturas = [\"Matemáticas\", \"Física\", \"Química\", \"Historia\", \"Lengua\"]\n",
    "  mostrar_asignaturas(asignaturas)\n",
    "\n",
    "if __name__ == \"__main__\":\n",
    "  main()\n"
   ]
  },
  {
   "cell_type": "markdown",
   "metadata": {},
   "source": [
    "## #  ![Texto alternativo](.jupyter\\imagenes\\capturando.JPG)\n"
   ]
  },
  {
   "cell_type": "code",
   "execution_count": 52,
   "metadata": {},
   "outputs": [
    {
     "name": "stdout",
     "output_type": "stream",
     "text": [
      "Yo estudio Lengua, Historia, Química, Física, y Matemáticas.\n"
     ]
    }
   ],
   "source": [
    "def display_subjects_backward(subjects):\n",
    "    \"\"\"\n",
    "    Function that displays a list of subjects in reverse order and with a personalized message.\n",
    "\n",
    "    Args:\n",
    "        subjects: The list containing the subjects of the course.\n",
    "\n",
    "    Returns:\n",
    "        None\n",
    "    \"\"\"\n",
    "\n",
    "    # Reverse the subjects list\n",
    "    reversed_subjects = subjects[::-1]\n",
    "\n",
    "    # Create the personalized message\n",
    "    message = \"Yo estudio \"\n",
    "\n",
    "    # Iterate through the reversed subjects and append to the message\n",
    "    for i, subject in enumerate(reversed_subjects):\n",
    "        if i == len(reversed_subjects) - 1:  # Last subject\n",
    "            message += f\"y {subject}.\"\n",
    "        else:\n",
    "            message += f\"{subject}, \"\n",
    "\n",
    "    # Display the personalized message\n",
    "    print(message)\n",
    "\n",
    "def main():\n",
    "    \"\"\"\n",
    "    Main function that creates a list of subjects and displays them in reverse order with a personalized message.\n",
    "\n",
    "    Args:\n",
    "        None\n",
    "\n",
    "    Returns:\n",
    "        None\n",
    "    \"\"\"\n",
    "\n",
    "    subjects = [\"Matemáticas\", \"Física\", \"Química\", \"Historia\", \"Lengua\"]\n",
    "    display_subjects_backward(subjects)\n",
    "\n",
    "if __name__ == \"__main__\":\n",
    "    main()\n"
   ]
  },
  {
   "cell_type": "markdown",
   "metadata": {},
   "source": [
    "# # 3 - Escribir un programa que almacene las asignaturas de un curso (por ejemplo, Matemáticas, Física, Química, Historia y Lengua) en una lista, pregunte al usuario la nota que ha acado en cada asignatura, y después las muestre por pantalla con el mensaje En <asignatura> has sacado <nota> donde <asignatura> es cada una de las asignaturas de la lista y <nota> cada una de las correspondientes notas introducidas por el usuario."
   ]
  },
  {
   "cell_type": "code",
   "execution_count": 53,
   "metadata": {},
   "outputs": [
    {
     "name": "stdout",
     "output_type": "stream",
     "text": [
      "En Matemáticas has sacado un 4.\n",
      "En Física has sacado un 5.\n",
      "En Química has sacado un 6.\n",
      "En Historia has sacado un 6.\n",
      "En Lengua has sacado un 5.\n"
     ]
    }
   ],
   "source": [
    "def mostrar_calificaciones(asignaturas):\n",
    "  \"\"\"\n",
    "  Función que muestra las calificaciones por asignatura con un mensaje personalizado.\n",
    "\n",
    "  Args:\n",
    "    asignaturas: La lista que contiene las asignaturas del curso.\n",
    "\n",
    "  Returns:\n",
    "    None\n",
    "  \"\"\"\n",
    "\n",
    "  calificaciones = {}  # Diccionario para almacenar las calificaciones\n",
    "\n",
    "  # Solicitar las calificaciones al usuario\n",
    "  for asignatura in asignaturas:\n",
    "    calificacion = input(f\"Introduzca la calificación en {asignatura}: \")\n",
    "    while not calificacion.isdigit():  # Validar entrada numérica\n",
    "      calificacion = input(f\"Error: La calificación debe ser un número. Introduzca la calificación en {asignatura}: \")\n",
    "    calificaciones[asignatura] = int(calificacion)\n",
    "\n",
    "  # Mostrar las calificaciones con mensaje personalizado\n",
    "  for asignatura, calificacion in calificaciones.items():\n",
    "    print(f\"En {asignatura} has sacado un {calificacion}.\")\n",
    "\n",
    "def main():\n",
    "  \"\"\"\n",
    "  Función principal que crea una lista de asignaturas, obtiene las calificaciones del usuario y las muestra con mensaje personalizado.\n",
    "\n",
    "  Args:\n",
    "    None\n",
    "\n",
    "  Returns:\n",
    "    None\n",
    "  \"\"\"\n",
    "\n",
    "  asignaturas = [\"Matemáticas\", \"Física\", \"Química\", \"Historia\", \"Lengua\"]\n",
    "  mostrar_calificaciones(asignaturas)\n",
    "\n",
    "if __name__ == \"__main__\":\n",
    "  main()\n"
   ]
  },
  {
   "cell_type": "markdown",
   "metadata": {},
   "source": [
    "# 4 - Escribir un programa que almacene en una lista los números del 1 al 10 y los muestre por pantalla en orden inverso separados por comas"
   ]
  },
  {
   "cell_type": "code",
   "execution_count": 54,
   "metadata": {},
   "outputs": [
    {
     "name": "stdout",
     "output_type": "stream",
     "text": [
      "10, 9, 8, 7, 6, 5, 4, 3, 2, 1, \n"
     ]
    }
   ],
   "source": [
    "def mostrar_numeros_inverso(numeros):\n",
    "  \"\"\"\n",
    "  Función que muestra una lista de números en orden inverso separados por comas.\n",
    "\n",
    "  Args:\n",
    "    numeros: La lista que contiene los números del 1 al 10.\n",
    "\n",
    "  Returns:\n",
    "    None\n",
    "  \"\"\"\n",
    "\n",
    "  # Recorrer la lista en orden inverso\n",
    "  for numero in numeros[::-1]:\n",
    "    print(numero, end=\", \")  # Imprimir con coma y sin salto de línea\n",
    "\n",
    "  # Eliminar la última coma (opcional)\n",
    "  print()  # Salto de línea al final\n",
    "\n",
    "def main():\n",
    "  \"\"\"\n",
    "  Función principal que crea una lista de números del 1 al 10 y la muestra en orden inverso.\n",
    "\n",
    "  Args:\n",
    "    None\n",
    "\n",
    "  Returns:\n",
    "    None\n",
    "  \"\"\"\n",
    "\n",
    "  numeros = list(range(1, 11))  # Crear lista con números del 1 al 10\n",
    "  mostrar_numeros_inverso(numeros)\n",
    "\n",
    "if __name__ == \"__main__\":\n",
    "  main()\n"
   ]
  },
  {
   "cell_type": "code",
   "execution_count": 55,
   "metadata": {},
   "outputs": [],
   "source": [
    "valores = '32,45,11,87,20,48'\n",
    "enteros = []\n",
    "for valor in valores.split(','):\n",
    "    valor_entero = int (valor)\n",
    "    enteros.append(valor_entero)"
   ]
  },
  {
   "cell_type": "code",
   "execution_count": 56,
   "metadata": {},
   "outputs": [
    {
     "data": {
      "text/plain": [
       "[32, 45, 11, 87, 20, 48]"
      ]
     },
     "execution_count": 56,
     "metadata": {},
     "output_type": "execute_result"
    }
   ],
   "source": [
    "enteros"
   ]
  },
  {
   "cell_type": "code",
   "execution_count": 57,
   "metadata": {},
   "outputs": [
    {
     "data": {
      "text/plain": [
       "[32, 45, 11, 87, 20, 48]"
      ]
     },
     "execution_count": 57,
     "metadata": {},
     "output_type": "execute_result"
    }
   ],
   "source": [
    "valores = '32,45,11,87,20,48'\n",
    "enteros = [int(valor) for valor in valores.split(',')]\n",
    "enteros"
   ]
  },
  {
   "cell_type": "markdown",
   "metadata": {},
   "source": [
    "## 5 - Escribir un programa que almacene las asignaturas de un curso (por ejemplo, Matemáticas, Física, Química, Historia y Lengua) en una lista, pregunte al usuario la nota que ha sacado en cada asignatura y elimine de la lista las asignaturas aprobadas. Al final el programa debe mostrar por pantalla las asignaturas que el usuario tiene que repetir."
   ]
  },
  {
   "cell_type": "code",
   "execution_count": 58,
   "metadata": {},
   "outputs": [
    {
     "name": "stdout",
     "output_type": "stream",
     "text": [
      "Asignaturas que necesitas repetir:\n",
      "- Matemáticas\n",
      "- Química\n",
      "- Lengua\n"
     ]
    },
    {
     "data": {
      "text/plain": [
       "7"
      ]
     },
     "execution_count": 58,
     "metadata": {},
     "output_type": "execute_result"
    }
   ],
   "source": [
    "def mostrar_asignaturas_reprobar(asignaturas, calificaciones):\n",
    "  \"\"\"\n",
    "  Función que muestra las asignaturas que el usuario necesita repetir.\n",
    "\n",
    "  Args:\n",
    "    asignaturas: La lista que contiene las asignaturas del curso.\n",
    "    calificaciones: El diccionario que almacena las calificaciones de las asignaturas.\n",
    "\n",
    "  Returns:\n",
    "    None\n",
    "  \"\"\"\n",
    "\n",
    "  asignaturas_reprobar = []  # Lista para almacenar asignaturas a repetir\n",
    "\n",
    "  # Recorrer las asignaturas y sus calificaciones\n",
    "  for asignatura, calificacion in calificaciones.items():\n",
    "    if calificacion < 5:  # Asignatura reprobada\n",
    "      asignaturas_reprobar.append(asignatura)\n",
    "\n",
    "  # Mostrar las asignaturas a repetir\n",
    "  if asignaturas_reprobar:\n",
    "    print(\"Asignaturas que necesitas repetir:\")\n",
    "    for asignatura in asignaturas_reprobar:\n",
    "      print(\"-\", asignatura)\n",
    "  else:\n",
    "    print(\"¡Enhorabuena! Has aprobado todas las asignaturas.\")\n",
    "\n",
    "def main():\n",
    "  \"\"\"\n",
    "  Función principal que crea una lista de asignaturas, obtiene las calificaciones del usuario y muestra las asignaturas a repetir.\n",
    "\n",
    "  Args:\n",
    "    None\n",
    "\n",
    "  Returns:\n",
    "    None\n",
    "  \"\"\"\n",
    "\n",
    "  asignaturas = [\"Matemáticas\", \"Física\", \"Química\", \"Historia\", \"Lengua\"]\n",
    "  calificaciones = {}  # Diccionario para almacenar las calificaciones\n",
    "\n",
    "  # Solicitar las calificaciones al usuario\n",
    "  for asignatura in asignaturas:\n",
    "    calificacion = input(f\"Introduzca la calificación en {asignatura}: \")\n",
    "    while not calificacion.isdigit():  # Validar entrada numérica\n",
    "      calificacion = input(f\"Error: La calificación debe ser un número. Introduzca la calificación en {asignatura}: \")\n",
    "    calificaciones[asignatura] = int(calificacion)\n",
    "\n",
    "  # Mostrar las asignaturas a repetir\n",
    "  mostrar_asignaturas_reprobar(asignaturas, calificaciones)\n",
    "\n",
    "if __name__ == \"__main__\":\n",
    "  main()\n",
    "7"
   ]
  }
 ],
 "metadata": {
  "kernelspec": {
   "display_name": "python_1level",
   "language": "python",
   "name": "python3"
  },
  "language_info": {
   "codemirror_mode": {
    "name": "ipython",
    "version": 3
   },
   "file_extension": ".py",
   "mimetype": "text/x-python",
   "name": "python",
   "nbconvert_exporter": "python",
   "pygments_lexer": "ipython3",
   "version": "3.11.9"
  }
 },
 "nbformat": 4,
 "nbformat_minor": 2
}
