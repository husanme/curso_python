{
 "cells": [
  {
   "cell_type": "code",
   "execution_count": 1,
   "metadata": {},
   "outputs": [
    {
     "name": "stdout",
     "output_type": "stream",
     "text": [
      "P\n",
      "y\n",
      "t\n",
      "h\n",
      "o\n",
      "n\n"
     ]
    }
   ],
   "source": [
    "palabra = 'Python'\n",
    "for letra in palabra:\n",
    "    print(letra)"
   ]
  },
  {
   "cell_type": "code",
   "execution_count": 2,
   "metadata": {},
   "outputs": [
    {
     "name": "stdout",
     "output_type": "stream",
     "text": [
      "Comienzo\n",
      "Hola Hola Hola "
     ]
    }
   ],
   "source": [
    "print('Comienzo')\n",
    "for i in [0,1,2]:\n",
    "    print(\"Hola \", end=\"\")"
   ]
  },
  {
   "cell_type": "code",
   "execution_count": 3,
   "metadata": {},
   "outputs": [
    {
     "name": "stdout",
     "output_type": "stream",
     "text": [
      "Comienzo\n"
     ]
    }
   ],
   "source": [
    "print('Comienzo')\n",
    "for i in []:\n",
    "    print('Hola', end='')\n",
    "    print()\n",
    "    print('Final')"
   ]
  },
  {
   "cell_type": "code",
   "execution_count": 4,
   "metadata": {},
   "outputs": [
    {
     "name": "stdout",
     "output_type": "stream",
     "text": [
      "Comienzo\n",
      "Hola \n",
      "Final\n",
      "Hola \n",
      "Final\n",
      "Hola \n",
      "Final\n"
     ]
    }
   ],
   "source": [
    "print(\"Comienzo\")\n",
    "for i in [1,1, 1]:\n",
    "    print(\"Hola \", end='')\n",
    "    print()\n",
    "    print('Final')"
   ]
  },
  {
   "cell_type": "code",
   "execution_count": 9,
   "metadata": {},
   "outputs": [
    {
     "name": "stdout",
     "output_type": "stream",
     "text": [
      "Comienzo\n",
      "Hola Hola Hola \n",
      "Final\n"
     ]
    }
   ],
   "source": [
    "print(\"Comienzo\")\n",
    "for i in [0, 1, 2]:\n",
    "    print(\"Hola \", end=\"\")\n",
    "print()\n",
    "print(\"Final\")\n"
   ]
  },
  {
   "cell_type": "code",
   "execution_count": 10,
   "metadata": {},
   "outputs": [
    {
     "name": "stdout",
     "output_type": "stream",
     "text": [
      "Comienzo\n",
      "Hola. Ahora i vale 3 y su cuadrado 9\n",
      "Final\n",
      "Hola. Ahora i vale 4 y su cuadrado 16\n",
      "Final\n",
      "Hola. Ahora i vale 5 y su cuadrado 25\n",
      "Final\n"
     ]
    }
   ],
   "source": [
    "print('Comienzo')\n",
    "for i in [3,4,5]:\n",
    "    print(f'Hola. Ahora i vale {i} y su cuadrado {i ** 2}')\n",
    "    print('Final')"
   ]
  },
  {
   "cell_type": "code",
   "execution_count": 11,
   "metadata": {},
   "outputs": [
    {
     "name": "stdout",
     "output_type": "stream",
     "text": [
      "Comienzo\n",
      "Hola. Ahora i vale Alba\n",
      "Final\n",
      "Hola. Ahora i vale Benito\n",
      "Final\n",
      "Hola. Ahora i vale 27\n",
      "Final\n",
      "Hola. Ahora i vale True\n",
      "Final\n",
      "Hola. Ahora i vale 2.58\n",
      "Final\n"
     ]
    }
   ],
   "source": [
    "print('Comienzo')\n",
    "for i in ['Alba','Benito',27, True, 2.58]:\n",
    "    print(f'Hola. Ahora i vale {i}')\n",
    "    print('Final')"
   ]
  },
  {
   "cell_type": "code",
   "execution_count": 12,
   "metadata": {},
   "outputs": [
    {
     "name": "stdout",
     "output_type": "stream",
     "text": [
      "El bucle no ha comenzado .Ahora i vale 10\n",
      "0 * 0 = 0\n",
      "1 * 1 = 1\n",
      "2 * 2 = 4\n",
      "3 * 3 = 9\n",
      "4 * 4 = 16\n",
      "El bucle ha terminado. Ahora i vale 4\n"
     ]
    }
   ],
   "source": [
    "i = 10\n",
    "print(f\"El bucle no ha comenzado .Ahora i vale {i}\")\n",
    "for i in [0,1,2,3,4]:\n",
    "    print(f\"{i} * {i} = {i ** 2}\")\n",
    "print(f\"El bucle ha terminado. Ahora i vale {i}\")    "
   ]
  },
  {
   "cell_type": "code",
   "execution_count": 13,
   "metadata": {},
   "outputs": [
    {
     "name": "stdout",
     "output_type": "stream",
     "text": [
      "El bucle no ha comenzado. Ahora i vale 10\n",
      "Ahora i vale 0\n",
      "Ahora i vale 100\n",
      "Ahora i vale 1\n",
      "Ahora i vale 100\n",
      "Ahora i vale 2\n",
      "Ahora i vale 100\n",
      "El bucle ha terminado. Ahora i vale 100\n"
     ]
    }
   ],
   "source": [
    "i = 10 \n",
    "print(f\"El bucle no ha comenzado. Ahora i vale {i}\")\n",
    "\n",
    "for i in [0,1,2]:\n",
    "    print(f\"Ahora i vale {i}\")\n",
    "    i = 100\n",
    "    print(f\"Ahora i vale {i}\")\n",
    "print(f\"El bucle ha terminado. Ahora i vale {i}\")    "
   ]
  },
  {
   "cell_type": "code",
   "execution_count": 16,
   "metadata": {},
   "outputs": [
    {
     "name": "stdout",
     "output_type": "stream",
     "text": [
      "Dame una A\n",
      "Dame una M\n",
      "Dame una I\n",
      "Dame una G\n",
      "Dame una O\n",
      "¡Amigo!\n"
     ]
    }
   ],
   "source": [
    "for i in \"AMIGO\":\n",
    "    print(f'Dame una {i}')\n",
    "print('¡Amigo!')   "
   ]
  },
  {
   "cell_type": "code",
   "execution_count": 17,
   "metadata": {},
   "outputs": [
    {
     "name": "stdout",
     "output_type": "stream",
     "text": [
      "P\n",
      "\n",
      "Fin\n",
      "y\n",
      "\n",
      "Fin\n"
     ]
    }
   ],
   "source": [
    "palabra = 'Python'\n",
    "for letra in palabra:\n",
    "    if letra == 't' :\n",
    "        break \n",
    "    print (letra)\n",
    "    print()\n",
    "    print('Fin')"
   ]
  }
 ],
 "metadata": {
  "kernelspec": {
   "display_name": "python_1level",
   "language": "python",
   "name": "python3"
  },
  "language_info": {
   "codemirror_mode": {
    "name": "ipython",
    "version": 3
   },
   "file_extension": ".py",
   "mimetype": "text/x-python",
   "name": "python",
   "nbconvert_exporter": "python",
   "pygments_lexer": "ipython3",
   "version": "3.11.9"
  }
 },
 "nbformat": 4,
 "nbformat_minor": 2
}
